{
    "cells": [
        {
            "cell_type": "markdown",
            "source": [
                "# Pregunta 4"
            ],
            "metadata": {}
        },
        {
            "cell_type": "code",
            "execution_count": 10,
            "source": [
                "import numpy as np\r\n",
                "import seaborn as sbn\r\n",
                "import networkx as nx\r\n",
                "from random import choice, randint\r\n",
                "import networkx.generators.random_graphs as nxgr"
            ],
            "outputs": [],
            "metadata": {}
        },
        {
            "cell_type": "code",
            "execution_count": 5,
            "source": [
                "# Generando un grafo Erdos-Renyi\r\n",
                "ER = nxgr.erdos_renyi_graph(1000, 2e-3)\r\n",
                "# Generando un grafo Barabasi-Albert\r\n",
                "BA = nx.barabasi_albert_graph(1000, 1)"
            ],
            "outputs": [],
            "metadata": {}
        },
        {
            "cell_type": "code",
            "execution_count": 6,
            "source": [
                "def avalancha(G):\r\n",
                "    estadisticas = dict()\r\n",
                "\r\n",
                "    # Extrayendo la lista de nodos\r\n",
                "    nodes = list(G.nodes())\r\n",
                "\r\n",
                "    # Inicializando los baldes para cada nodo\r\n",
                "    valdes = {node: randint(0, G.degree(node))  for node in nodes}\r\n",
                "\r\n",
                "    iteracion = 0\r\n",
                "\r\n",
                "    while iteracion != 10000:\r\n",
                "        # Eligiendo un nodo al azar del grafo y consiguiendo a sus vecinos\r\n",
                "        random_node = choice(nodes)\r\n",
                "\r\n",
                "        if valdes[random_node] + 1 > G.degree(random_node):\r\n",
                "            count = 0\r\n",
                "            stack = []\r\n",
                "            visitados = []\r\n",
                "            \r\n",
                "            stack.append(random_node)\r\n",
                "\r\n",
                "            while len(stack) != 0:\r\n",
                "                v = stack.pop()\r\n",
                "                valdes[v] += 1\r\n",
                "\r\n",
                "                if valdes[v] > G.degree(v) and v not in visitados:\r\n",
                "                    visitados.append(v)\r\n",
                "                    valdes[v] = 1\r\n",
                "                    i = G.neighbors(v)\r\n",
                "                    count += 1\r\n",
                "                while True:\r\n",
                "                    try:\r\n",
                "                        node = next(i)\r\n",
                "                        stack.append(node)\r\n",
                "                    except StopIteration:\r\n",
                "                        break\r\n",
                "            if count not in estadisticas.keys():\r\n",
                "                estadisticas[count] = 0\r\n",
                "            estadisticas[count] += 1\r\n",
                "            \r\n",
                "        iteracion += 1\r\n",
                "    \r\n",
                "    return estadisticas"
            ],
            "outputs": [],
            "metadata": {}
        },
        {
            "cell_type": "markdown",
            "source": [
                "## Erdos-Renyi"
            ],
            "metadata": {}
        },
        {
            "cell_type": "code",
            "execution_count": 17,
            "source": [
                "avalancha_ER = avalancha(ER)"
            ],
            "outputs": [],
            "metadata": {}
        },
        {
            "cell_type": "code",
            "execution_count": 18,
            "source": [
                "dator_ER = avalancha_ER.items()\r\n",
                "\r\n",
                "X_ER = np.array([])\r\n",
                "Y_ER = np.array([])\r\n",
                "\r\n",
                "for x, y in dator_ER:\r\n",
                "    X_ER = np.append(X_ER, np.array([x]))\r\n",
                "    Y_ER = np.append(Y_ER, np.array([y]))\r\n",
                "\r\n",
                "X_ER, Y_ER"
            ],
            "outputs": [
                {
                    "output_type": "execute_result",
                    "data": {
                        "text/plain": [
                            "(array([  3.,   1.,   4.,   2.,   6.,   8.,   9.,   5.,  11.,  10.,   7.,\n",
                            "         15.,  16.,  19.,  12.,  13.,  25.,  23.,  17.,  14.,  40.,  38.,\n",
                            "         33.,  29.,  18.,  43.,  24.,  22.,  35.,  26.,  44., 107.,  54.,\n",
                            "         30.,  42.,  64.,  27.,  34.,  74.,  36.,  61.,  47.,  82.,  20.,\n",
                            "         31., 214.,  46.,  37.,  50.,  62.,  49., 133.,  78.,  65.,  28.,\n",
                            "         39.,  95.,  96.,  67., 273., 125.,  73.,  21., 154., 405.,  91.,\n",
                            "         59., 599., 118.,  55.,  63., 453., 141.,  93.,  77., 268., 415.,\n",
                            "         81.,  52., 549., 699., 237.,  89., 354., 120., 226., 454., 687.,\n",
                            "        769., 360., 707., 817.,  53., 136., 776., 803., 804., 742., 820.,\n",
                            "        819., 818., 825., 796., 802., 814., 816., 811., 815.,  66., 759.,\n",
                            "        806., 821., 823., 807., 822.]),\n",
                            " array([1.940e+02, 1.445e+03, 1.010e+02, 5.550e+02, 8.100e+01, 2.500e+01,\n",
                            "        3.600e+01, 1.230e+02, 2.400e+01, 2.200e+01, 6.200e+01, 1.100e+01,\n",
                            "        8.000e+00, 8.000e+00, 1.200e+01, 8.000e+00, 4.000e+00, 9.000e+00,\n",
                            "        7.000e+00, 1.400e+01, 1.000e+00, 2.000e+00, 3.000e+00, 5.000e+00,\n",
                            "        9.000e+00, 3.000e+00, 3.000e+00, 5.000e+00, 2.000e+00, 4.000e+00,\n",
                            "        1.000e+00, 1.000e+00, 2.000e+00, 5.000e+00, 2.000e+00, 2.000e+00,\n",
                            "        4.000e+00, 1.000e+00, 2.000e+00, 1.000e+00, 1.000e+00, 2.000e+00,\n",
                            "        1.000e+00, 2.000e+00, 3.000e+00, 1.000e+00, 2.000e+00, 1.000e+00,\n",
                            "        1.000e+00, 1.000e+00, 1.000e+00, 1.000e+00, 1.000e+00, 1.000e+00,\n",
                            "        3.000e+00, 2.000e+00, 1.000e+00, 1.000e+00, 1.000e+00, 1.000e+00,\n",
                            "        1.000e+00, 1.000e+00, 2.000e+00, 1.000e+00, 1.000e+00, 1.000e+00,\n",
                            "        1.000e+00, 1.000e+00, 1.000e+00, 1.000e+00, 1.000e+00, 1.000e+00,\n",
                            "        1.000e+00, 1.000e+00, 1.000e+00, 1.000e+00, 1.000e+00, 1.000e+00,\n",
                            "        1.000e+00, 1.000e+00, 1.000e+00, 1.000e+00, 1.000e+00, 1.000e+00,\n",
                            "        2.000e+00, 1.000e+00, 1.000e+00, 1.000e+00, 2.000e+00, 1.000e+00,\n",
                            "        1.000e+00, 2.000e+00, 1.000e+00, 1.000e+00, 1.000e+00, 1.000e+00,\n",
                            "        2.000e+00, 1.000e+00, 9.000e+00, 1.000e+00, 9.000e+00, 4.859e+03,\n",
                            "        1.000e+00, 1.000e+00, 1.700e+01, 5.000e+00, 5.000e+00, 1.000e+00,\n",
                            "        1.000e+00, 1.000e+00, 1.000e+00, 7.000e+00, 6.000e+00, 1.000e+00,\n",
                            "        2.000e+00]))"
                        ]
                    },
                    "metadata": {},
                    "execution_count": 18
                }
            ],
            "metadata": {}
        },
        {
            "cell_type": "code",
            "execution_count": 27,
            "source": [
                "X_ER_log = np.log10(X_ER)\r\n",
                "Y_ER_log = np.log10(Y_ER)\r\n",
                "\r\n",
                "ax = sbn.scatterplot(x=X_ER_log, y=Y_ER_log)\r\n",
                "ax.set_xlabel('Tamaño de avalancha (log)')\r\n",
                "ax.set_ylabel('Repeticiones (log)')\r\n",
                "ax.set_title('Distribucion de Avalanchas Erdos-Renyi')"
            ],
            "outputs": [
                {
                    "output_type": "execute_result",
                    "data": {
                        "text/plain": [
                            "Text(0.5, 1.0, 'Distribucion de Avalanchas Erdos-Renyi')"
                        ]
                    },
                    "metadata": {},
                    "execution_count": 27
                },
                {
                    "output_type": "display_data",
                    "data": {
                        "text/plain": [
                            "<Figure size 432x288 with 1 Axes>"
                        ],
                        "image/png": "[encoded data removed]"
                    },
                    "metadata": {
                        "needs_background": "light"
                    }
                }
            ],
            "metadata": {}
        },
        {
            "cell_type": "markdown",
            "source": [
                "## Barabasi-Albert"
            ],
            "metadata": {}
        },
        {
            "cell_type": "code",
            "execution_count": 20,
            "source": [
                "avalancha_BA = avalancha(BA)"
            ],
            "outputs": [],
            "metadata": {}
        },
        {
            "cell_type": "code",
            "execution_count": 21,
            "source": [
                "dator_BA = avalancha_BA.items()\r\n",
                "\r\n",
                "X_BA = np.array([])\r\n",
                "Y_BA = np.array([])\r\n",
                "\r\n",
                "for x, y in dator_ER:\r\n",
                "    X_BA = np.append(X_BA, np.array([x]))\r\n",
                "    Y_BA = np.append(Y_BA, np.array([y]))\r\n",
                "\r\n",
                "X_BA, Y_BA"
            ],
            "outputs": [
                {
                    "output_type": "execute_result",
                    "data": {
                        "text/plain": [
                            "(array([  3.,   1.,   4.,   2.,   6.,   8.,   9.,   5.,  11.,  10.,   7.,\n",
                            "         15.,  16.,  19.,  12.,  13.,  25.,  23.,  17.,  14.,  40.,  38.,\n",
                            "         33.,  29.,  18.,  43.,  24.,  22.,  35.,  26.,  44., 107.,  54.,\n",
                            "         30.,  42.,  64.,  27.,  34.,  74.,  36.,  61.,  47.,  82.,  20.,\n",
                            "         31., 214.,  46.,  37.,  50.,  62.,  49., 133.,  78.,  65.,  28.,\n",
                            "         39.,  95.,  96.,  67., 273., 125.,  73.,  21., 154., 405.,  91.,\n",
                            "         59., 599., 118.,  55.,  63., 453., 141.,  93.,  77., 268., 415.,\n",
                            "         81.,  52., 549., 699., 237.,  89., 354., 120., 226., 454., 687.,\n",
                            "        769., 360., 707., 817.,  53., 136., 776., 803., 804., 742., 820.,\n",
                            "        819., 818., 825., 796., 802., 814., 816., 811., 815.,  66., 759.,\n",
                            "        806., 821., 823., 807., 822.]),\n",
                            " array([1.940e+02, 1.445e+03, 1.010e+02, 5.550e+02, 8.100e+01, 2.500e+01,\n",
                            "        3.600e+01, 1.230e+02, 2.400e+01, 2.200e+01, 6.200e+01, 1.100e+01,\n",
                            "        8.000e+00, 8.000e+00, 1.200e+01, 8.000e+00, 4.000e+00, 9.000e+00,\n",
                            "        7.000e+00, 1.400e+01, 1.000e+00, 2.000e+00, 3.000e+00, 5.000e+00,\n",
                            "        9.000e+00, 3.000e+00, 3.000e+00, 5.000e+00, 2.000e+00, 4.000e+00,\n",
                            "        1.000e+00, 1.000e+00, 2.000e+00, 5.000e+00, 2.000e+00, 2.000e+00,\n",
                            "        4.000e+00, 1.000e+00, 2.000e+00, 1.000e+00, 1.000e+00, 2.000e+00,\n",
                            "        1.000e+00, 2.000e+00, 3.000e+00, 1.000e+00, 2.000e+00, 1.000e+00,\n",
                            "        1.000e+00, 1.000e+00, 1.000e+00, 1.000e+00, 1.000e+00, 1.000e+00,\n",
                            "        3.000e+00, 2.000e+00, 1.000e+00, 1.000e+00, 1.000e+00, 1.000e+00,\n",
                            "        1.000e+00, 1.000e+00, 2.000e+00, 1.000e+00, 1.000e+00, 1.000e+00,\n",
                            "        1.000e+00, 1.000e+00, 1.000e+00, 1.000e+00, 1.000e+00, 1.000e+00,\n",
                            "        1.000e+00, 1.000e+00, 1.000e+00, 1.000e+00, 1.000e+00, 1.000e+00,\n",
                            "        1.000e+00, 1.000e+00, 1.000e+00, 1.000e+00, 1.000e+00, 1.000e+00,\n",
                            "        2.000e+00, 1.000e+00, 1.000e+00, 1.000e+00, 2.000e+00, 1.000e+00,\n",
                            "        1.000e+00, 2.000e+00, 1.000e+00, 1.000e+00, 1.000e+00, 1.000e+00,\n",
                            "        2.000e+00, 1.000e+00, 9.000e+00, 1.000e+00, 9.000e+00, 4.859e+03,\n",
                            "        1.000e+00, 1.000e+00, 1.700e+01, 5.000e+00, 5.000e+00, 1.000e+00,\n",
                            "        1.000e+00, 1.000e+00, 1.000e+00, 7.000e+00, 6.000e+00, 1.000e+00,\n",
                            "        2.000e+00]))"
                        ]
                    },
                    "metadata": {},
                    "execution_count": 21
                }
            ],
            "metadata": {}
        },
        {
            "cell_type": "code",
            "execution_count": 26,
            "source": [
                "X_BA_log = np.log10(X_BA)\r\n",
                "Y_BA_log = np.log10(Y_BA)\r\n",
                "\r\n",
                "ax = sbn.scatterplot(x=X_BA_log, y=Y_BA_log)\r\n",
                "ax.set_xlabel('Tamaño de avalancha (log)')\r\n",
                "ax.set_ylabel('Repeticiones (log)')\r\n",
                "ax.set_title('Distribucion de Avalanchas Barabasi-Albert')"
            ],
            "outputs": [
                {
                    "output_type": "execute_result",
                    "data": {
                        "text/plain": [
                            "Text(0.5, 1.0, 'Distribucion de Avalanchas Barabasi-Albert')"
                        ]
                    },
                    "metadata": {},
                    "execution_count": 26
                },
                {
                    "output_type": "display_data",
                    "data": {
                        "text/plain": [
                            "<Figure size 432x288 with 1 Axes>"
                        ],
                        "image/png": "[encoded data removed]"
                    },
                    "metadata": {
                        "needs_background": "light"
                    }
                }
            ],
            "metadata": {}
        },
        {
            "cell_type": "code",
            "execution_count": null,
            "source": [],
            "outputs": [],
            "metadata": {}
        }
    ],
    "metadata": {
        "orig_nbformat": 4,
        "language_info": {
            "name": "python",
            "version": "3.7.9",
            "mimetype": "text/x-python",
            "codemirror_mode": {
                "name": "ipython",
                "version": 3
            },
            "pygments_lexer": "ipython3",
            "nbconvert_exporter": "python",
            "file_extension": ".py"
        },
        "kernelspec": {
            "name": "python3",
            "display_name": "Python 3.7.9 64-bit"
        },
        "interpreter": {
            "hash": "b0ebb77f1a13ae5f5a16bee047f532a99f591ac860ccb6ce4f724bf6fada6ec6"
        }
    },
    "nbformat": 4,
    "nbformat_minor": 2
}