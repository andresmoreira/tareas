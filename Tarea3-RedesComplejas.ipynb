{
  "nbformat": 4,
  "nbformat_minor": 0,
  "metadata": {
    "kernelspec": {
      "display_name": "Python 3",
      "language": "python",
      "name": "python3"
    },
    "language_info": {
      "codemirror_mode": {
        "name": "ipython",
        "version": 3
      },
      "file_extension": ".py",
      "mimetype": "text/x-python",
      "name": "python",
      "nbconvert_exporter": "python",
      "pygments_lexer": "ipython3",
      "version": "3.8.5"
    },
    "colab": {
      "name": "Tarea3-RedesComplejas.ipynb",
      "provenance": [],
      "collapsed_sections": [],
      "toc_visible": true
    },
    "accelerator": "TPU"
  },
  "cells": [
    {
      "cell_type": "markdown",
      "metadata": {
        "id": "lABj9a2OSLin"
      },
      "source": [
        "\n",
        "\n",
        "<img src=\"http://www.exalumnos.usm.cl/wp-content/uploads/2015/06/ISOTIPO-Color.jpg\" title=\"Title text\" width=\"20%\" />\n",
        "\n",
        "<hr style=\"height:2px;border:none\"/>\n",
        "<h1 align='center'> INF-480 Redes Complejas</h1>\n",
        "\n",
        "<H2 align='center'> Tarea 3 </H2>\n",
        "<H3 align='center'> Kevin Lagos Lavín - Andrés Navarro Galleguillos</H3>\n",
        "<H3 align='center'> 201673012-5 - 201673001-K </H3>\n",
        "<hr style=\"height:2px;border:none\"/>"
      ]
    },
    {
      "cell_type": "code",
      "metadata": {
        "id": "p-h0Km85rKRY"
      },
      "source": [
        "import networkx as nx\n",
        "from networkx.algorithms.community import label_propagation_communities\n",
        "import networkx.algorithms.community as nx_comm\n",
        "import numpy as np\n",
        "import matplotlib.pyplot as plt\n",
        "import plotly.graph_objects as go\n",
        "import random\n",
        "import matplotlib.cm as cm\n",
        "from collections import Counter\n",
        "import scipy.optimize as opt\n",
        "import scipy.integrate as integrate"
      ],
      "execution_count": 1,
      "outputs": []
    },
    {
      "cell_type": "code",
      "metadata": {
        "id": "L9hTxUX_veA8",
        "colab": {
          "base_uri": "https://localhost:8080/"
        },
        "outputId": "f29f517b-47ac-40a3-dfd5-d8562f639288"
      },
      "source": [
        "!pip install python-modularity-maximization==0.0.1rc4"
      ],
      "execution_count": 2,
      "outputs": [
        {
          "output_type": "stream",
          "text": [
            "Collecting python-modularity-maximization==0.0.1rc4\n",
            "  Downloading python_modularity_maximization-0.0.1rc4-py2.py3-none-any.whl (10 kB)\n",
            "Requirement already satisfied: networkx in /usr/local/lib/python3.7/dist-packages (from python-modularity-maximization==0.0.1rc4) (2.5.1)\n",
            "Requirement already satisfied: numpy in /usr/local/lib/python3.7/dist-packages (from python-modularity-maximization==0.0.1rc4) (1.19.5)\n",
            "Requirement already satisfied: scipy in /usr/local/lib/python3.7/dist-packages (from python-modularity-maximization==0.0.1rc4) (1.4.1)\n",
            "Requirement already satisfied: decorator<5,>=4.3 in /usr/local/lib/python3.7/dist-packages (from networkx->python-modularity-maximization==0.0.1rc4) (4.4.2)\n",
            "Installing collected packages: python-modularity-maximization\n",
            "Successfully installed python-modularity-maximization-0.0.1rc4\n"
          ],
          "name": "stdout"
        }
      ]
    },
    {
      "cell_type": "code",
      "metadata": {
        "id": "v0qHyg18wEZq"
      },
      "source": [
        "from modularity_maximization import partition\n",
        "from modularity_maximization.utils import get_modularity"
      ],
      "execution_count": 3,
      "outputs": []
    },
    {
      "cell_type": "markdown",
      "metadata": {
        "id": "QUvmIkUnrUfC"
      },
      "source": [
        "# Pregunta 1"
      ]
    },
    {
      "cell_type": "code",
      "metadata": {
        "id": "NrtslZ5F-VSw"
      },
      "source": [
        "# Seeds para probar\n",
        "random.seed(2021)\n",
        "np.random.seed(2021)\n",
        "\n",
        "def genGrafos():\n",
        "  #Grafo ER con p=0.2\n",
        "  primerG = nx.gnp_random_graph(200, 0.2)\n",
        "  #for initEdge in initGraph.edges:\n",
        "  #  print(initEdge)\n",
        "\n",
        "  particion1 = [] #0 a 99, 100 a 199\n",
        "  particion2 = [] #0 a 49 + 100 a 149, 50 a 99 + 150 a 199\n",
        "  probs = [0, 0.1, 0.2, 0.3, 0.4, 0.5, 0.6, 0.7, 0.8, 0.9, 1]\n",
        "\n",
        "  nuevoG = nx.DiGraph()\n",
        "  nuevoG.add_nodes_from(range(0,200))\n",
        "\n",
        "  for i in range(len(probs)):\n",
        "    #Para primera partición\n",
        "    part1G = nuevoG.copy() #deepcopy del grafo\n",
        "    for arista in primerG.edges(): #En las aristas el de la izquierda siempre es el menor\n",
        "      if arista[0] < 100 and arista[1] >=100:\n",
        "        # dirección igual a 0, arco desde arista[0] a arista[1]\n",
        "        # dirección igual a 1, arco desde arista[1] a arista [0]\n",
        "        direccion = random.choices([0,1], [probs[i], 1-probs[i]])[0]\n",
        "      else:\n",
        "        # si es del mismo grupo es random\n",
        "        direccion = random.choices([0, 1], [0.5, 0.5])[0]\n",
        "      if direccion == 0:\n",
        "        part1G.add_edge(arista[0], arista[1])\n",
        "      else: \n",
        "        part1G.add_edge(arista[1], arista[0])\n",
        "    particion1.append(part1G)\n",
        "    #Para segunda partición\n",
        "    part2G = nuevoG.copy()\n",
        "    for arista in primerG.edges(): #En las aristas el de la izquierda siempre es el menor\n",
        "      direccion = random.choices([0, 1], [0.5, 0.5])[0]\n",
        "      if direccion == 0:\n",
        "        part2G.add_edge(arista[0], arista[1])\n",
        "      else: \n",
        "        part2G.add_edge(arista[1], arista[0])  \n",
        "    particion2.append(part2G)\n",
        "\n",
        "  return particion1, particion2"
      ],
      "execution_count": null,
      "outputs": []
    },
    {
      "cell_type": "code",
      "metadata": {
        "id": "eQGuGFZaDf7Q"
      },
      "source": [
        "def getModularidades(particion1, particion2):    \n",
        "  modularidad1 = []\n",
        "  modularidad2 = []\n",
        "\n",
        "  for i in range(len(particion1)):\n",
        "    comm_dict = partition(particion1[i], refine=False)\n",
        "    modularidad = get_modularity(particion1[i], comm_dict)\n",
        "    modularidad1.append(modularidad)\n",
        "    comm_dict = partition(particion2[i], refine=False)\n",
        "    modularidad = get_modularity(particion2[i], comm_dict)\n",
        "    modularidad2.append(modularidad)\n",
        "  return modularidad1, modularidad2\n"
      ],
      "execution_count": null,
      "outputs": []
    },
    {
      "cell_type": "code",
      "metadata": {
        "colab": {
          "base_uri": "https://localhost:8080/"
        },
        "id": "pM9UXqfOEBuz",
        "outputId": "ba38614c-dc13-49f2-a298-0f63e5c6551e"
      },
      "source": [
        "totalMod1 = []\n",
        "totalMod2 = []\n",
        "\n",
        "for i in range(50):\n",
        "  particion1, particion2 = genGrafos()\n",
        "  modularidad1, modularidad2 = getModularidades(particion1, particion2)\n",
        "  totalMod1.append(modularidad1)\n",
        "  totalMod2.append(modularidad2)"
      ],
      "execution_count": null,
      "outputs": [
        {
          "output_type": "stream",
          "text": [
            "Calculating modularity for directed graph\n",
            "Calculating modularity for directed graph\n",
            "Calculating modularity for directed graph\n",
            "Calculating modularity for directed graph\n",
            "Calculating modularity for directed graph\n",
            "Calculating modularity for directed graph\n",
            "Calculating modularity for directed graph\n",
            "Calculating modularity for directed graph\n",
            "Calculating modularity for directed graph\n",
            "Calculating modularity for directed graph\n",
            "Calculating modularity for directed graph\n",
            "Calculating modularity for directed graph\n",
            "Calculating modularity for directed graph\n",
            "Calculating modularity for directed graph\n",
            "Calculating modularity for directed graph\n",
            "Calculating modularity for directed graph\n",
            "Calculating modularity for directed graph\n",
            "Calculating modularity for directed graph\n",
            "Calculating modularity for directed graph\n",
            "Calculating modularity for directed graph\n",
            "Calculating modularity for directed graph\n",
            "Calculating modularity for directed graph\n",
            "Calculating modularity for directed graph\n",
            "Calculating modularity for directed graph\n",
            "Calculating modularity for directed graph\n",
            "Calculating modularity for directed graph\n",
            "Calculating modularity for directed graph\n",
            "Calculating modularity for directed graph\n",
            "Calculating modularity for directed graph\n",
            "Calculating modularity for directed graph\n",
            "Calculating modularity for directed graph\n",
            "Calculating modularity for directed graph\n",
            "Calculating modularity for directed graph\n",
            "Calculating modularity for directed graph\n",
            "Calculating modularity for directed graph\n",
            "Calculating modularity for directed graph\n",
            "Calculating modularity for directed graph\n",
            "Calculating modularity for directed graph\n",
            "Calculating modularity for directed graph\n",
            "Calculating modularity for directed graph\n",
            "Calculating modularity for directed graph\n",
            "Calculating modularity for directed graph\n",
            "Calculating modularity for directed graph\n",
            "Calculating modularity for directed graph\n",
            "Calculating modularity for directed graph\n",
            "Calculating modularity for directed graph\n",
            "Calculating modularity for directed graph\n",
            "Calculating modularity for directed graph\n",
            "Calculating modularity for directed graph\n",
            "Calculating modularity for directed graph\n",
            "Calculating modularity for directed graph\n",
            "Calculating modularity for directed graph\n",
            "Calculating modularity for directed graph\n",
            "Calculating modularity for directed graph\n",
            "Calculating modularity for directed graph\n",
            "Calculating modularity for directed graph\n",
            "Calculating modularity for directed graph\n",
            "Calculating modularity for directed graph\n",
            "Calculating modularity for directed graph\n",
            "Calculating modularity for directed graph\n",
            "Calculating modularity for directed graph\n",
            "Calculating modularity for directed graph\n",
            "Calculating modularity for directed graph\n",
            "Calculating modularity for directed graph\n",
            "Calculating modularity for directed graph\n",
            "Calculating modularity for directed graph\n",
            "Calculating modularity for directed graph\n",
            "Calculating modularity for directed graph\n",
            "Calculating modularity for directed graph\n",
            "Calculating modularity for directed graph\n",
            "Calculating modularity for directed graph\n",
            "Calculating modularity for directed graph\n",
            "Calculating modularity for directed graph\n",
            "Calculating modularity for directed graph\n",
            "Calculating modularity for directed graph\n",
            "Calculating modularity for directed graph\n",
            "Calculating modularity for directed graph\n",
            "Calculating modularity for directed graph\n",
            "Calculating modularity for directed graph\n",
            "Calculating modularity for directed graph\n",
            "Calculating modularity for directed graph\n",
            "Calculating modularity for directed graph\n",
            "Calculating modularity for directed graph\n",
            "Calculating modularity for directed graph\n",
            "Calculating modularity for directed graph\n",
            "Calculating modularity for directed graph\n",
            "Calculating modularity for directed graph\n",
            "Calculating modularity for directed graph\n",
            "Calculating modularity for directed graph\n",
            "Calculating modularity for directed graph\n",
            "Calculating modularity for directed graph\n",
            "Calculating modularity for directed graph\n",
            "Calculating modularity for directed graph\n",
            "Calculating modularity for directed graph\n",
            "Calculating modularity for directed graph\n",
            "Calculating modularity for directed graph\n",
            "Calculating modularity for directed graph\n",
            "Calculating modularity for directed graph\n",
            "Calculating modularity for directed graph\n",
            "Calculating modularity for directed graph\n",
            "Calculating modularity for directed graph\n",
            "Calculating modularity for directed graph\n",
            "Calculating modularity for directed graph\n",
            "Calculating modularity for directed graph\n",
            "Calculating modularity for directed graph\n",
            "Calculating modularity for directed graph\n",
            "Calculating modularity for directed graph\n",
            "Calculating modularity for directed graph\n",
            "Calculating modularity for directed graph\n",
            "Calculating modularity for directed graph\n",
            "Calculating modularity for directed graph\n",
            "Calculating modularity for directed graph\n",
            "Calculating modularity for directed graph\n",
            "Calculating modularity for directed graph\n",
            "Calculating modularity for directed graph\n",
            "Calculating modularity for directed graph\n",
            "Calculating modularity for directed graph\n",
            "Calculating modularity for directed graph\n",
            "Calculating modularity for directed graph\n",
            "Calculating modularity for directed graph\n",
            "Calculating modularity for directed graph\n",
            "Calculating modularity for directed graph\n",
            "Calculating modularity for directed graph\n",
            "Calculating modularity for directed graph\n",
            "Calculating modularity for directed graph\n",
            "Calculating modularity for directed graph\n",
            "Calculating modularity for directed graph\n",
            "Calculating modularity for directed graph\n",
            "Calculating modularity for directed graph\n",
            "Calculating modularity for directed graph\n",
            "Calculating modularity for directed graph\n",
            "Calculating modularity for directed graph\n",
            "Calculating modularity for directed graph\n",
            "Calculating modularity for directed graph\n",
            "Calculating modularity for directed graph\n",
            "Calculating modularity for directed graph\n",
            "Calculating modularity for directed graph\n",
            "Calculating modularity for directed graph\n",
            "Calculating modularity for directed graph\n",
            "Calculating modularity for directed graph\n",
            "Calculating modularity for directed graph\n",
            "Calculating modularity for directed graph\n",
            "Calculating modularity for directed graph\n",
            "Calculating modularity for directed graph\n",
            "Calculating modularity for directed graph\n",
            "Calculating modularity for directed graph\n",
            "Calculating modularity for directed graph\n",
            "Calculating modularity for directed graph\n",
            "Calculating modularity for directed graph\n",
            "Calculating modularity for directed graph\n",
            "Calculating modularity for directed graph\n",
            "Calculating modularity for directed graph\n",
            "Calculating modularity for directed graph\n",
            "Calculating modularity for directed graph\n",
            "Calculating modularity for directed graph\n",
            "Calculating modularity for directed graph\n",
            "Calculating modularity for directed graph\n",
            "Calculating modularity for directed graph\n",
            "Calculating modularity for directed graph\n",
            "Calculating modularity for directed graph\n",
            "Calculating modularity for directed graph\n",
            "Calculating modularity for directed graph\n",
            "Calculating modularity for directed graph\n",
            "Calculating modularity for directed graph\n",
            "Calculating modularity for directed graph\n",
            "Calculating modularity for directed graph\n",
            "Calculating modularity for directed graph\n",
            "Calculating modularity for directed graph\n",
            "Calculating modularity for directed graph\n",
            "Calculating modularity for directed graph\n",
            "Calculating modularity for directed graph\n",
            "Calculating modularity for directed graph\n",
            "Calculating modularity for directed graph\n",
            "Calculating modularity for directed graph\n",
            "Calculating modularity for directed graph\n",
            "Calculating modularity for directed graph\n",
            "Calculating modularity for directed graph\n",
            "Calculating modularity for directed graph\n",
            "Calculating modularity for directed graph\n",
            "Calculating modularity for directed graph\n",
            "Calculating modularity for directed graph\n",
            "Calculating modularity for directed graph\n",
            "Calculating modularity for directed graph\n",
            "Calculating modularity for directed graph\n",
            "Calculating modularity for directed graph\n",
            "Calculating modularity for directed graph\n",
            "Calculating modularity for directed graph\n",
            "Calculating modularity for directed graph\n",
            "Calculating modularity for directed graph\n",
            "Calculating modularity for directed graph\n",
            "Calculating modularity for directed graph\n",
            "Calculating modularity for directed graph\n",
            "Calculating modularity for directed graph\n",
            "Calculating modularity for directed graph\n",
            "Calculating modularity for directed graph\n",
            "Calculating modularity for directed graph\n",
            "Calculating modularity for directed graph\n",
            "Calculating modularity for directed graph\n",
            "Calculating modularity for directed graph\n",
            "Calculating modularity for directed graph\n",
            "Calculating modularity for directed graph\n",
            "Calculating modularity for directed graph\n",
            "Calculating modularity for directed graph\n",
            "Calculating modularity for directed graph\n",
            "Calculating modularity for directed graph\n",
            "Calculating modularity for directed graph\n",
            "Calculating modularity for directed graph\n",
            "Calculating modularity for directed graph\n",
            "Calculating modularity for directed graph\n",
            "Calculating modularity for directed graph\n",
            "Calculating modularity for directed graph\n",
            "Calculating modularity for directed graph\n",
            "Calculating modularity for directed graph\n",
            "Calculating modularity for directed graph\n",
            "Calculating modularity for directed graph\n",
            "Calculating modularity for directed graph\n",
            "Calculating modularity for directed graph\n",
            "Calculating modularity for directed graph\n",
            "Calculating modularity for directed graph\n",
            "Calculating modularity for directed graph\n",
            "Calculating modularity for directed graph\n",
            "Calculating modularity for directed graph\n",
            "Calculating modularity for directed graph\n",
            "Calculating modularity for directed graph\n",
            "Calculating modularity for directed graph\n",
            "Calculating modularity for directed graph\n",
            "Calculating modularity for directed graph\n",
            "Calculating modularity for directed graph\n",
            "Calculating modularity for directed graph\n",
            "Calculating modularity for directed graph\n",
            "Calculating modularity for directed graph\n",
            "Calculating modularity for directed graph\n",
            "Calculating modularity for directed graph\n",
            "Calculating modularity for directed graph\n",
            "Calculating modularity for directed graph\n",
            "Calculating modularity for directed graph\n",
            "Calculating modularity for directed graph\n",
            "Calculating modularity for directed graph\n",
            "Calculating modularity for directed graph\n",
            "Calculating modularity for directed graph\n",
            "Calculating modularity for directed graph\n",
            "Calculating modularity for directed graph\n",
            "Calculating modularity for directed graph\n",
            "Calculating modularity for directed graph\n",
            "Calculating modularity for directed graph\n",
            "Calculating modularity for directed graph\n",
            "Calculating modularity for directed graph\n",
            "Calculating modularity for directed graph\n",
            "Calculating modularity for directed graph\n",
            "Calculating modularity for directed graph\n",
            "Calculating modularity for directed graph\n",
            "Calculating modularity for directed graph\n",
            "Calculating modularity for directed graph\n",
            "Calculating modularity for directed graph\n",
            "Calculating modularity for directed graph\n",
            "Calculating modularity for directed graph\n",
            "Calculating modularity for directed graph\n",
            "Calculating modularity for directed graph\n",
            "Calculating modularity for directed graph\n",
            "Calculating modularity for directed graph\n",
            "Calculating modularity for directed graph\n",
            "Calculating modularity for directed graph\n",
            "Calculating modularity for directed graph\n",
            "Calculating modularity for directed graph\n",
            "Calculating modularity for directed graph\n",
            "Calculating modularity for directed graph\n",
            "Calculating modularity for directed graph\n",
            "Calculating modularity for directed graph\n",
            "Calculating modularity for directed graph\n",
            "Calculating modularity for directed graph\n",
            "Calculating modularity for directed graph\n",
            "Calculating modularity for directed graph\n",
            "Calculating modularity for directed graph\n",
            "Calculating modularity for directed graph\n",
            "Calculating modularity for directed graph\n",
            "Calculating modularity for directed graph\n",
            "Calculating modularity for directed graph\n",
            "Calculating modularity for directed graph\n",
            "Calculating modularity for directed graph\n",
            "Calculating modularity for directed graph\n",
            "Calculating modularity for directed graph\n",
            "Calculating modularity for directed graph\n",
            "Calculating modularity for directed graph\n",
            "Calculating modularity for directed graph\n",
            "Calculating modularity for directed graph\n",
            "Calculating modularity for directed graph\n",
            "Calculating modularity for directed graph\n",
            "Calculating modularity for directed graph\n",
            "Calculating modularity for directed graph\n",
            "Calculating modularity for directed graph\n",
            "Calculating modularity for directed graph\n",
            "Calculating modularity for directed graph\n",
            "Calculating modularity for directed graph\n",
            "Calculating modularity for directed graph\n",
            "Calculating modularity for directed graph\n",
            "Calculating modularity for directed graph\n",
            "Calculating modularity for directed graph\n",
            "Calculating modularity for directed graph\n",
            "Calculating modularity for directed graph\n",
            "Calculating modularity for directed graph\n",
            "Calculating modularity for directed graph\n",
            "Calculating modularity for directed graph\n",
            "Calculating modularity for directed graph\n",
            "Calculating modularity for directed graph\n",
            "Calculating modularity for directed graph\n",
            "Calculating modularity for directed graph\n",
            "Calculating modularity for directed graph\n",
            "Calculating modularity for directed graph\n",
            "Calculating modularity for directed graph\n",
            "Calculating modularity for directed graph\n",
            "Calculating modularity for directed graph\n",
            "Calculating modularity for directed graph\n",
            "Calculating modularity for directed graph\n",
            "Calculating modularity for directed graph\n",
            "Calculating modularity for directed graph\n",
            "Calculating modularity for directed graph\n",
            "Calculating modularity for directed graph\n",
            "Calculating modularity for directed graph\n",
            "Calculating modularity for directed graph\n",
            "Calculating modularity for directed graph\n",
            "Calculating modularity for directed graph\n",
            "Calculating modularity for directed graph\n",
            "Calculating modularity for directed graph\n",
            "Calculating modularity for directed graph\n",
            "Calculating modularity for directed graph\n",
            "Calculating modularity for directed graph\n",
            "Calculating modularity for directed graph\n",
            "Calculating modularity for directed graph\n",
            "Calculating modularity for directed graph\n",
            "Calculating modularity for directed graph\n",
            "Calculating modularity for directed graph\n",
            "Calculating modularity for directed graph\n",
            "Calculating modularity for directed graph\n",
            "Calculating modularity for directed graph\n",
            "Calculating modularity for directed graph\n",
            "Calculating modularity for directed graph\n",
            "Calculating modularity for directed graph\n",
            "Calculating modularity for directed graph\n",
            "Calculating modularity for directed graph\n",
            "Calculating modularity for directed graph\n",
            "Calculating modularity for directed graph\n",
            "Calculating modularity for directed graph\n",
            "Calculating modularity for directed graph\n",
            "Calculating modularity for directed graph\n",
            "Calculating modularity for directed graph\n",
            "Calculating modularity for directed graph\n",
            "Calculating modularity for directed graph\n",
            "Calculating modularity for directed graph\n",
            "Calculating modularity for directed graph\n",
            "Calculating modularity for directed graph\n",
            "Calculating modularity for directed graph\n",
            "Calculating modularity for directed graph\n",
            "Calculating modularity for directed graph\n",
            "Calculating modularity for directed graph\n",
            "Calculating modularity for directed graph\n",
            "Calculating modularity for directed graph\n",
            "Calculating modularity for directed graph\n",
            "Calculating modularity for directed graph\n",
            "Calculating modularity for directed graph\n",
            "Calculating modularity for directed graph\n",
            "Calculating modularity for directed graph\n",
            "Calculating modularity for directed graph\n",
            "Calculating modularity for directed graph\n",
            "Calculating modularity for directed graph\n",
            "Calculating modularity for directed graph\n",
            "Calculating modularity for directed graph\n",
            "Calculating modularity for directed graph\n",
            "Calculating modularity for directed graph\n",
            "Calculating modularity for directed graph\n",
            "Calculating modularity for directed graph\n",
            "Calculating modularity for directed graph\n",
            "Calculating modularity for directed graph\n",
            "Calculating modularity for directed graph\n",
            "Calculating modularity for directed graph\n",
            "Calculating modularity for directed graph\n",
            "Calculating modularity for directed graph\n",
            "Calculating modularity for directed graph\n",
            "Calculating modularity for directed graph\n",
            "Calculating modularity for directed graph\n",
            "Calculating modularity for directed graph\n",
            "Calculating modularity for directed graph\n",
            "Calculating modularity for directed graph\n",
            "Calculating modularity for directed graph\n",
            "Calculating modularity for directed graph\n",
            "Calculating modularity for directed graph\n",
            "Calculating modularity for directed graph\n",
            "Calculating modularity for directed graph\n",
            "Calculating modularity for directed graph\n",
            "Calculating modularity for directed graph\n",
            "Calculating modularity for directed graph\n",
            "Calculating modularity for directed graph\n",
            "Calculating modularity for directed graph\n",
            "Calculating modularity for directed graph\n",
            "Calculating modularity for directed graph\n",
            "Calculating modularity for directed graph\n",
            "Calculating modularity for directed graph\n",
            "Calculating modularity for directed graph\n",
            "Calculating modularity for directed graph\n",
            "Calculating modularity for directed graph\n",
            "Calculating modularity for directed graph\n",
            "Calculating modularity for directed graph\n",
            "Calculating modularity for directed graph\n",
            "Calculating modularity for directed graph\n",
            "Calculating modularity for directed graph\n",
            "Calculating modularity for directed graph\n",
            "Calculating modularity for directed graph\n",
            "Calculating modularity for directed graph\n",
            "Calculating modularity for directed graph\n",
            "Calculating modularity for directed graph\n",
            "Calculating modularity for directed graph\n",
            "Calculating modularity for directed graph\n",
            "Calculating modularity for directed graph\n",
            "Calculating modularity for directed graph\n",
            "Calculating modularity for directed graph\n",
            "Calculating modularity for directed graph\n",
            "Calculating modularity for directed graph\n",
            "Calculating modularity for directed graph\n",
            "Calculating modularity for directed graph\n",
            "Calculating modularity for directed graph\n",
            "Calculating modularity for directed graph\n",
            "Calculating modularity for directed graph\n",
            "Calculating modularity for directed graph\n",
            "Calculating modularity for directed graph\n",
            "Calculating modularity for directed graph\n",
            "Calculating modularity for directed graph\n",
            "Calculating modularity for directed graph\n",
            "Calculating modularity for directed graph\n",
            "Calculating modularity for directed graph\n",
            "Calculating modularity for directed graph\n",
            "Calculating modularity for directed graph\n",
            "Calculating modularity for directed graph\n",
            "Calculating modularity for directed graph\n",
            "Calculating modularity for directed graph\n",
            "Calculating modularity for directed graph\n",
            "Calculating modularity for directed graph\n",
            "Calculating modularity for directed graph\n",
            "Calculating modularity for directed graph\n",
            "Calculating modularity for directed graph\n",
            "Calculating modularity for directed graph\n",
            "Calculating modularity for directed graph\n",
            "Calculating modularity for directed graph\n",
            "Calculating modularity for directed graph\n",
            "Calculating modularity for directed graph\n",
            "Calculating modularity for directed graph\n",
            "Calculating modularity for directed graph\n",
            "Calculating modularity for directed graph\n",
            "Calculating modularity for directed graph\n",
            "Calculating modularity for directed graph\n",
            "Calculating modularity for directed graph\n",
            "Calculating modularity for directed graph\n",
            "Calculating modularity for directed graph\n",
            "Calculating modularity for directed graph\n",
            "Calculating modularity for directed graph\n",
            "Calculating modularity for directed graph\n",
            "Calculating modularity for directed graph\n",
            "Calculating modularity for directed graph\n",
            "Calculating modularity for directed graph\n",
            "Calculating modularity for directed graph\n",
            "Calculating modularity for directed graph\n",
            "Calculating modularity for directed graph\n",
            "Calculating modularity for directed graph\n",
            "Calculating modularity for directed graph\n",
            "Calculating modularity for directed graph\n",
            "Calculating modularity for directed graph\n",
            "Calculating modularity for directed graph\n",
            "Calculating modularity for directed graph\n",
            "Calculating modularity for directed graph\n",
            "Calculating modularity for directed graph\n",
            "Calculating modularity for directed graph\n",
            "Calculating modularity for directed graph\n",
            "Calculating modularity for directed graph\n",
            "Calculating modularity for directed graph\n",
            "Calculating modularity for directed graph\n",
            "Calculating modularity for directed graph\n",
            "Calculating modularity for directed graph\n",
            "Calculating modularity for directed graph\n",
            "Calculating modularity for directed graph\n",
            "Calculating modularity for directed graph\n",
            "Calculating modularity for directed graph\n",
            "Calculating modularity for directed graph\n",
            "Calculating modularity for directed graph\n",
            "Calculating modularity for directed graph\n",
            "Calculating modularity for directed graph\n",
            "Calculating modularity for directed graph\n",
            "Calculating modularity for directed graph\n",
            "Calculating modularity for directed graph\n",
            "Calculating modularity for directed graph\n",
            "Calculating modularity for directed graph\n",
            "Calculating modularity for directed graph\n",
            "Calculating modularity for directed graph\n",
            "Calculating modularity for directed graph\n",
            "Calculating modularity for directed graph\n",
            "Calculating modularity for directed graph\n",
            "Calculating modularity for directed graph\n",
            "Calculating modularity for directed graph\n",
            "Calculating modularity for directed graph\n",
            "Calculating modularity for directed graph\n",
            "Calculating modularity for directed graph\n",
            "Calculating modularity for directed graph\n",
            "Calculating modularity for directed graph\n",
            "Calculating modularity for directed graph\n",
            "Calculating modularity for directed graph\n",
            "Calculating modularity for directed graph\n",
            "Calculating modularity for directed graph\n",
            "Calculating modularity for directed graph\n",
            "Calculating modularity for directed graph\n",
            "Calculating modularity for directed graph\n",
            "Calculating modularity for directed graph\n",
            "Calculating modularity for directed graph\n",
            "Calculating modularity for directed graph\n",
            "Calculating modularity for directed graph\n",
            "Calculating modularity for directed graph\n",
            "Calculating modularity for directed graph\n",
            "Calculating modularity for directed graph\n",
            "Calculating modularity for directed graph\n",
            "Calculating modularity for directed graph\n",
            "Calculating modularity for directed graph\n",
            "Calculating modularity for directed graph\n",
            "Calculating modularity for directed graph\n",
            "Calculating modularity for directed graph\n",
            "Calculating modularity for directed graph\n",
            "Calculating modularity for directed graph\n",
            "Calculating modularity for directed graph\n",
            "Calculating modularity for directed graph\n",
            "Calculating modularity for directed graph\n",
            "Calculating modularity for directed graph\n",
            "Calculating modularity for directed graph\n",
            "Calculating modularity for directed graph\n",
            "Calculating modularity for directed graph\n",
            "Calculating modularity for directed graph\n",
            "Calculating modularity for directed graph\n",
            "Calculating modularity for directed graph\n",
            "Calculating modularity for directed graph\n",
            "Calculating modularity for directed graph\n",
            "Calculating modularity for directed graph\n",
            "Calculating modularity for directed graph\n",
            "Calculating modularity for directed graph\n",
            "Calculating modularity for directed graph\n",
            "Calculating modularity for directed graph\n",
            "Calculating modularity for directed graph\n",
            "Calculating modularity for directed graph\n",
            "Calculating modularity for directed graph\n",
            "Calculating modularity for directed graph\n",
            "Calculating modularity for directed graph\n",
            "Calculating modularity for directed graph\n",
            "Calculating modularity for directed graph\n",
            "Calculating modularity for directed graph\n",
            "Calculating modularity for directed graph\n",
            "Calculating modularity for directed graph\n",
            "Calculating modularity for directed graph\n",
            "Calculating modularity for directed graph\n",
            "Calculating modularity for directed graph\n",
            "Calculating modularity for directed graph\n",
            "Calculating modularity for directed graph\n",
            "Calculating modularity for directed graph\n",
            "Calculating modularity for directed graph\n",
            "Calculating modularity for directed graph\n",
            "Calculating modularity for directed graph\n",
            "Calculating modularity for directed graph\n",
            "Calculating modularity for directed graph\n",
            "Calculating modularity for directed graph\n",
            "Calculating modularity for directed graph\n",
            "Calculating modularity for directed graph\n",
            "Calculating modularity for directed graph\n",
            "Calculating modularity for directed graph\n",
            "Calculating modularity for directed graph\n",
            "Calculating modularity for directed graph\n",
            "Calculating modularity for directed graph\n",
            "Calculating modularity for directed graph\n",
            "Calculating modularity for directed graph\n",
            "Calculating modularity for directed graph\n",
            "Calculating modularity for directed graph\n",
            "Calculating modularity for directed graph\n",
            "Calculating modularity for directed graph\n",
            "Calculating modularity for directed graph\n",
            "Calculating modularity for directed graph\n",
            "Calculating modularity for directed graph\n",
            "Calculating modularity for directed graph\n",
            "Calculating modularity for directed graph\n",
            "Calculating modularity for directed graph\n",
            "Calculating modularity for directed graph\n",
            "Calculating modularity for directed graph\n",
            "Calculating modularity for directed graph\n",
            "Calculating modularity for directed graph\n",
            "Calculating modularity for directed graph\n",
            "Calculating modularity for directed graph\n",
            "Calculating modularity for directed graph\n",
            "Calculating modularity for directed graph\n",
            "Calculating modularity for directed graph\n",
            "Calculating modularity for directed graph\n",
            "Calculating modularity for directed graph\n",
            "Calculating modularity for directed graph\n",
            "Calculating modularity for directed graph\n",
            "Calculating modularity for directed graph\n",
            "Calculating modularity for directed graph\n",
            "Calculating modularity for directed graph\n",
            "Calculating modularity for directed graph\n",
            "Calculating modularity for directed graph\n",
            "Calculating modularity for directed graph\n",
            "Calculating modularity for directed graph\n",
            "Calculating modularity for directed graph\n",
            "Calculating modularity for directed graph\n",
            "Calculating modularity for directed graph\n",
            "Calculating modularity for directed graph\n",
            "Calculating modularity for directed graph\n",
            "Calculating modularity for directed graph\n",
            "Calculating modularity for directed graph\n",
            "Calculating modularity for directed graph\n",
            "Calculating modularity for directed graph\n",
            "Calculating modularity for directed graph\n",
            "Calculating modularity for directed graph\n",
            "Calculating modularity for directed graph\n",
            "Calculating modularity for directed graph\n",
            "Calculating modularity for directed graph\n",
            "Calculating modularity for directed graph\n",
            "Calculating modularity for directed graph\n",
            "Calculating modularity for directed graph\n",
            "Calculating modularity for directed graph\n",
            "Calculating modularity for directed graph\n",
            "Calculating modularity for directed graph\n",
            "Calculating modularity for directed graph\n",
            "Calculating modularity for directed graph\n",
            "Calculating modularity for directed graph\n",
            "Calculating modularity for directed graph\n",
            "Calculating modularity for directed graph\n",
            "Calculating modularity for directed graph\n",
            "Calculating modularity for directed graph\n",
            "Calculating modularity for directed graph\n",
            "Calculating modularity for directed graph\n",
            "Calculating modularity for directed graph\n",
            "Calculating modularity for directed graph\n",
            "Calculating modularity for directed graph\n",
            "Calculating modularity for directed graph\n",
            "Calculating modularity for directed graph\n",
            "Calculating modularity for directed graph\n",
            "Calculating modularity for directed graph\n",
            "Calculating modularity for directed graph\n",
            "Calculating modularity for directed graph\n",
            "Calculating modularity for directed graph\n",
            "Calculating modularity for directed graph\n",
            "Calculating modularity for directed graph\n",
            "Calculating modularity for directed graph\n",
            "Calculating modularity for directed graph\n",
            "Calculating modularity for directed graph\n",
            "Calculating modularity for directed graph\n",
            "Calculating modularity for directed graph\n",
            "Calculating modularity for directed graph\n",
            "Calculating modularity for directed graph\n",
            "Calculating modularity for directed graph\n",
            "Calculating modularity for directed graph\n",
            "Calculating modularity for directed graph\n",
            "Calculating modularity for directed graph\n",
            "Calculating modularity for directed graph\n",
            "Calculating modularity for directed graph\n",
            "Calculating modularity for directed graph\n",
            "Calculating modularity for directed graph\n",
            "Calculating modularity for directed graph\n",
            "Calculating modularity for directed graph\n",
            "Calculating modularity for directed graph\n",
            "Calculating modularity for directed graph\n",
            "Calculating modularity for directed graph\n",
            "Calculating modularity for directed graph\n",
            "Calculating modularity for directed graph\n",
            "Calculating modularity for directed graph\n",
            "Calculating modularity for directed graph\n",
            "Calculating modularity for directed graph\n",
            "Calculating modularity for directed graph\n",
            "Calculating modularity for directed graph\n",
            "Calculating modularity for directed graph\n",
            "Calculating modularity for directed graph\n",
            "Calculating modularity for directed graph\n",
            "Calculating modularity for directed graph\n",
            "Calculating modularity for directed graph\n",
            "Calculating modularity for directed graph\n",
            "Calculating modularity for directed graph\n",
            "Calculating modularity for directed graph\n",
            "Calculating modularity for directed graph\n",
            "Calculating modularity for directed graph\n",
            "Calculating modularity for directed graph\n",
            "Calculating modularity for directed graph\n",
            "Calculating modularity for directed graph\n",
            "Calculating modularity for directed graph\n",
            "Calculating modularity for directed graph\n",
            "Calculating modularity for directed graph\n",
            "Calculating modularity for directed graph\n",
            "Calculating modularity for directed graph\n",
            "Calculating modularity for directed graph\n",
            "Calculating modularity for directed graph\n",
            "Calculating modularity for directed graph\n",
            "Calculating modularity for directed graph\n",
            "Calculating modularity for directed graph\n",
            "Calculating modularity for directed graph\n",
            "Calculating modularity for directed graph\n",
            "Calculating modularity for directed graph\n",
            "Calculating modularity for directed graph\n",
            "Calculating modularity for directed graph\n",
            "Calculating modularity for directed graph\n",
            "Calculating modularity for directed graph\n",
            "Calculating modularity for directed graph\n",
            "Calculating modularity for directed graph\n",
            "Calculating modularity for directed graph\n",
            "Calculating modularity for directed graph\n",
            "Calculating modularity for directed graph\n",
            "Calculating modularity for directed graph\n",
            "Calculating modularity for directed graph\n",
            "Calculating modularity for directed graph\n",
            "Calculating modularity for directed graph\n",
            "Calculating modularity for directed graph\n",
            "Calculating modularity for directed graph\n",
            "Calculating modularity for directed graph\n",
            "Calculating modularity for directed graph\n",
            "Calculating modularity for directed graph\n",
            "Calculating modularity for directed graph\n",
            "Calculating modularity for directed graph\n",
            "Calculating modularity for directed graph\n",
            "Calculating modularity for directed graph\n",
            "Calculating modularity for directed graph\n",
            "Calculating modularity for directed graph\n",
            "Calculating modularity for directed graph\n",
            "Calculating modularity for directed graph\n",
            "Calculating modularity for directed graph\n",
            "Calculating modularity for directed graph\n",
            "Calculating modularity for directed graph\n",
            "Calculating modularity for directed graph\n",
            "Calculating modularity for directed graph\n",
            "Calculating modularity for directed graph\n",
            "Calculating modularity for directed graph\n",
            "Calculating modularity for directed graph\n",
            "Calculating modularity for directed graph\n",
            "Calculating modularity for directed graph\n",
            "Calculating modularity for directed graph\n",
            "Calculating modularity for directed graph\n",
            "Calculating modularity for directed graph\n",
            "Calculating modularity for directed graph\n",
            "Calculating modularity for directed graph\n",
            "Calculating modularity for directed graph\n",
            "Calculating modularity for directed graph\n",
            "Calculating modularity for directed graph\n",
            "Calculating modularity for directed graph\n",
            "Calculating modularity for directed graph\n",
            "Calculating modularity for directed graph\n",
            "Calculating modularity for directed graph\n",
            "Calculating modularity for directed graph\n",
            "Calculating modularity for directed graph\n",
            "Calculating modularity for directed graph\n",
            "Calculating modularity for directed graph\n",
            "Calculating modularity for directed graph\n",
            "Calculating modularity for directed graph\n",
            "Calculating modularity for directed graph\n",
            "Calculating modularity for directed graph\n",
            "Calculating modularity for directed graph\n",
            "Calculating modularity for directed graph\n",
            "Calculating modularity for directed graph\n",
            "Calculating modularity for directed graph\n",
            "Calculating modularity for directed graph\n",
            "Calculating modularity for directed graph\n",
            "Calculating modularity for directed graph\n",
            "Calculating modularity for directed graph\n",
            "Calculating modularity for directed graph\n",
            "Calculating modularity for directed graph\n",
            "Calculating modularity for directed graph\n",
            "Calculating modularity for directed graph\n",
            "Calculating modularity for directed graph\n",
            "Calculating modularity for directed graph\n",
            "Calculating modularity for directed graph\n",
            "Calculating modularity for directed graph\n",
            "Calculating modularity for directed graph\n",
            "Calculating modularity for directed graph\n",
            "Calculating modularity for directed graph\n",
            "Calculating modularity for directed graph\n",
            "Calculating modularity for directed graph\n",
            "Calculating modularity for directed graph\n",
            "Calculating modularity for directed graph\n",
            "Calculating modularity for directed graph\n",
            "Calculating modularity for directed graph\n",
            "Calculating modularity for directed graph\n",
            "Calculating modularity for directed graph\n",
            "Calculating modularity for directed graph\n",
            "Calculating modularity for directed graph\n",
            "Calculating modularity for directed graph\n",
            "Calculating modularity for directed graph\n",
            "Calculating modularity for directed graph\n",
            "Calculating modularity for directed graph\n",
            "Calculating modularity for directed graph\n",
            "Calculating modularity for directed graph\n",
            "Calculating modularity for directed graph\n",
            "Calculating modularity for directed graph\n",
            "Calculating modularity for directed graph\n",
            "Calculating modularity for directed graph\n",
            "Calculating modularity for directed graph\n",
            "Calculating modularity for directed graph\n",
            "Calculating modularity for directed graph\n",
            "Calculating modularity for directed graph\n",
            "Calculating modularity for directed graph\n",
            "Calculating modularity for directed graph\n",
            "Calculating modularity for directed graph\n",
            "Calculating modularity for directed graph\n",
            "Calculating modularity for directed graph\n",
            "Calculating modularity for directed graph\n",
            "Calculating modularity for directed graph\n",
            "Calculating modularity for directed graph\n",
            "Calculating modularity for directed graph\n",
            "Calculating modularity for directed graph\n",
            "Calculating modularity for directed graph\n",
            "Calculating modularity for directed graph\n",
            "Calculating modularity for directed graph\n",
            "Calculating modularity for directed graph\n",
            "Calculating modularity for directed graph\n",
            "Calculating modularity for directed graph\n",
            "Calculating modularity for directed graph\n",
            "Calculating modularity for directed graph\n",
            "Calculating modularity for directed graph\n",
            "Calculating modularity for directed graph\n",
            "Calculating modularity for directed graph\n",
            "Calculating modularity for directed graph\n",
            "Calculating modularity for directed graph\n",
            "Calculating modularity for directed graph\n",
            "Calculating modularity for directed graph\n",
            "Calculating modularity for directed graph\n",
            "Calculating modularity for directed graph\n",
            "Calculating modularity for directed graph\n",
            "Calculating modularity for directed graph\n",
            "Calculating modularity for directed graph\n",
            "Calculating modularity for directed graph\n",
            "Calculating modularity for directed graph\n",
            "Calculating modularity for directed graph\n",
            "Calculating modularity for directed graph\n",
            "Calculating modularity for directed graph\n",
            "Calculating modularity for directed graph\n",
            "Calculating modularity for directed graph\n",
            "Calculating modularity for directed graph\n",
            "Calculating modularity for directed graph\n",
            "Calculating modularity for directed graph\n",
            "Calculating modularity for directed graph\n",
            "Calculating modularity for directed graph\n",
            "Calculating modularity for directed graph\n",
            "Calculating modularity for directed graph\n",
            "Calculating modularity for directed graph\n",
            "Calculating modularity for directed graph\n",
            "Calculating modularity for directed graph\n",
            "Calculating modularity for directed graph\n",
            "Calculating modularity for directed graph\n",
            "Calculating modularity for directed graph\n",
            "Calculating modularity for directed graph\n",
            "Calculating modularity for directed graph\n",
            "Calculating modularity for directed graph\n",
            "Calculating modularity for directed graph\n",
            "Calculating modularity for directed graph\n",
            "Calculating modularity for directed graph\n",
            "Calculating modularity for directed graph\n",
            "Calculating modularity for directed graph\n",
            "Calculating modularity for directed graph\n",
            "Calculating modularity for directed graph\n",
            "Calculating modularity for directed graph\n",
            "Calculating modularity for directed graph\n",
            "Calculating modularity for directed graph\n",
            "Calculating modularity for directed graph\n",
            "Calculating modularity for directed graph\n",
            "Calculating modularity for directed graph\n",
            "Calculating modularity for directed graph\n",
            "Calculating modularity for directed graph\n",
            "Calculating modularity for directed graph\n",
            "Calculating modularity for directed graph\n",
            "Calculating modularity for directed graph\n",
            "Calculating modularity for directed graph\n",
            "Calculating modularity for directed graph\n",
            "Calculating modularity for directed graph\n",
            "Calculating modularity for directed graph\n",
            "Calculating modularity for directed graph\n",
            "Calculating modularity for directed graph\n",
            "Calculating modularity for directed graph\n",
            "Calculating modularity for directed graph\n",
            "Calculating modularity for directed graph\n",
            "Calculating modularity for directed graph\n",
            "Calculating modularity for directed graph\n",
            "Calculating modularity for directed graph\n",
            "Calculating modularity for directed graph\n",
            "Calculating modularity for directed graph\n",
            "Calculating modularity for directed graph\n",
            "Calculating modularity for directed graph\n",
            "Calculating modularity for directed graph\n",
            "Calculating modularity for directed graph\n",
            "Calculating modularity for directed graph\n",
            "Calculating modularity for directed graph\n",
            "Calculating modularity for directed graph\n",
            "Calculating modularity for directed graph\n",
            "Calculating modularity for directed graph\n",
            "Calculating modularity for directed graph\n",
            "Calculating modularity for directed graph\n",
            "Calculating modularity for directed graph\n",
            "Calculating modularity for directed graph\n",
            "Calculating modularity for directed graph\n",
            "Calculating modularity for directed graph\n",
            "Calculating modularity for directed graph\n",
            "Calculating modularity for directed graph\n",
            "Calculating modularity for directed graph\n",
            "Calculating modularity for directed graph\n",
            "Calculating modularity for directed graph\n",
            "Calculating modularity for directed graph\n",
            "Calculating modularity for directed graph\n",
            "Calculating modularity for directed graph\n",
            "Calculating modularity for directed graph\n",
            "Calculating modularity for directed graph\n",
            "Calculating modularity for directed graph\n",
            "Calculating modularity for directed graph\n",
            "Calculating modularity for directed graph\n",
            "Calculating modularity for directed graph\n",
            "Calculating modularity for directed graph\n",
            "Calculating modularity for directed graph\n",
            "Calculating modularity for directed graph\n",
            "Calculating modularity for directed graph\n",
            "Calculating modularity for directed graph\n",
            "Calculating modularity for directed graph\n",
            "Calculating modularity for directed graph\n",
            "Calculating modularity for directed graph\n",
            "Calculating modularity for directed graph\n",
            "Calculating modularity for directed graph\n",
            "Calculating modularity for directed graph\n",
            "Calculating modularity for directed graph\n",
            "Calculating modularity for directed graph\n",
            "Calculating modularity for directed graph\n",
            "Calculating modularity for directed graph\n",
            "Calculating modularity for directed graph\n",
            "Calculating modularity for directed graph\n",
            "Calculating modularity for directed graph\n",
            "Calculating modularity for directed graph\n",
            "Calculating modularity for directed graph\n",
            "Calculating modularity for directed graph\n",
            "Calculating modularity for directed graph\n",
            "Calculating modularity for directed graph\n",
            "Calculating modularity for directed graph\n",
            "Calculating modularity for directed graph\n",
            "Calculating modularity for directed graph\n",
            "Calculating modularity for directed graph\n",
            "Calculating modularity for directed graph\n",
            "Calculating modularity for directed graph\n",
            "Calculating modularity for directed graph\n",
            "Calculating modularity for directed graph\n",
            "Calculating modularity for directed graph\n",
            "Calculating modularity for directed graph\n",
            "Calculating modularity for directed graph\n",
            "Calculating modularity for directed graph\n",
            "Calculating modularity for directed graph\n",
            "Calculating modularity for directed graph\n",
            "Calculating modularity for directed graph\n",
            "Calculating modularity for directed graph\n",
            "Calculating modularity for directed graph\n",
            "Calculating modularity for directed graph\n",
            "Calculating modularity for directed graph\n",
            "Calculating modularity for directed graph\n",
            "Calculating modularity for directed graph\n",
            "Calculating modularity for directed graph\n",
            "Calculating modularity for directed graph\n",
            "Calculating modularity for directed graph\n",
            "Calculating modularity for directed graph\n",
            "Calculating modularity for directed graph\n",
            "Calculating modularity for directed graph\n",
            "Calculating modularity for directed graph\n",
            "Calculating modularity for directed graph\n",
            "Calculating modularity for directed graph\n",
            "Calculating modularity for directed graph\n",
            "Calculating modularity for directed graph\n",
            "Calculating modularity for directed graph\n",
            "Calculating modularity for directed graph\n",
            "Calculating modularity for directed graph\n",
            "Calculating modularity for directed graph\n",
            "Calculating modularity for directed graph\n",
            "Calculating modularity for directed graph\n",
            "Calculating modularity for directed graph\n",
            "Calculating modularity for directed graph\n",
            "Calculating modularity for directed graph\n",
            "Calculating modularity for directed graph\n",
            "Calculating modularity for directed graph\n",
            "Calculating modularity for directed graph\n",
            "Calculating modularity for directed graph\n",
            "Calculating modularity for directed graph\n",
            "Calculating modularity for directed graph\n",
            "Calculating modularity for directed graph\n",
            "Calculating modularity for directed graph\n",
            "Calculating modularity for directed graph\n",
            "Calculating modularity for directed graph\n",
            "Calculating modularity for directed graph\n",
            "Calculating modularity for directed graph\n",
            "Calculating modularity for directed graph\n",
            "Calculating modularity for directed graph\n",
            "Calculating modularity for directed graph\n",
            "Calculating modularity for directed graph\n",
            "Calculating modularity for directed graph\n",
            "Calculating modularity for directed graph\n",
            "Calculating modularity for directed graph\n",
            "Calculating modularity for directed graph\n",
            "Calculating modularity for directed graph\n",
            "Calculating modularity for directed graph\n",
            "Calculating modularity for directed graph\n",
            "Calculating modularity for directed graph\n",
            "Calculating modularity for directed graph\n",
            "Calculating modularity for directed graph\n",
            "Calculating modularity for directed graph\n",
            "Calculating modularity for directed graph\n",
            "Calculating modularity for directed graph\n",
            "Calculating modularity for directed graph\n",
            "Calculating modularity for directed graph\n",
            "Calculating modularity for directed graph\n",
            "Calculating modularity for directed graph\n",
            "Calculating modularity for directed graph\n",
            "Calculating modularity for directed graph\n",
            "Calculating modularity for directed graph\n",
            "Calculating modularity for directed graph\n",
            "Calculating modularity for directed graph\n",
            "Calculating modularity for directed graph\n",
            "Calculating modularity for directed graph\n",
            "Calculating modularity for directed graph\n",
            "Calculating modularity for directed graph\n",
            "Calculating modularity for directed graph\n",
            "Calculating modularity for directed graph\n",
            "Calculating modularity for directed graph\n",
            "Calculating modularity for directed graph\n",
            "Calculating modularity for directed graph\n",
            "Calculating modularity for directed graph\n",
            "Calculating modularity for directed graph\n",
            "Calculating modularity for directed graph\n",
            "Calculating modularity for directed graph\n",
            "Calculating modularity for directed graph\n",
            "Calculating modularity for directed graph\n",
            "Calculating modularity for directed graph\n",
            "Calculating modularity for directed graph\n",
            "Calculating modularity for directed graph\n",
            "Calculating modularity for directed graph\n",
            "Calculating modularity for directed graph\n",
            "Calculating modularity for directed graph\n",
            "Calculating modularity for directed graph\n",
            "Calculating modularity for directed graph\n",
            "Calculating modularity for directed graph\n",
            "Calculating modularity for directed graph\n",
            "Calculating modularity for directed graph\n",
            "Calculating modularity for directed graph\n",
            "Calculating modularity for directed graph\n",
            "Calculating modularity for directed graph\n",
            "Calculating modularity for directed graph\n",
            "Calculating modularity for directed graph\n",
            "Calculating modularity for directed graph\n",
            "Calculating modularity for directed graph\n",
            "Calculating modularity for directed graph\n",
            "Calculating modularity for directed graph\n",
            "Calculating modularity for directed graph\n",
            "Calculating modularity for directed graph\n",
            "Calculating modularity for directed graph\n",
            "Calculating modularity for directed graph\n",
            "Calculating modularity for directed graph\n",
            "Calculating modularity for directed graph\n",
            "Calculating modularity for directed graph\n",
            "Calculating modularity for directed graph\n",
            "Calculating modularity for directed graph\n",
            "Calculating modularity for directed graph\n",
            "Calculating modularity for directed graph\n",
            "Calculating modularity for directed graph\n",
            "Calculating modularity for directed graph\n",
            "Calculating modularity for directed graph\n",
            "Calculating modularity for directed graph\n",
            "Calculating modularity for directed graph\n",
            "Calculating modularity for directed graph\n",
            "Calculating modularity for directed graph\n",
            "Calculating modularity for directed graph\n",
            "Calculating modularity for directed graph\n",
            "Calculating modularity for directed graph\n",
            "Calculating modularity for directed graph\n",
            "Calculating modularity for directed graph\n",
            "Calculating modularity for directed graph\n",
            "Calculating modularity for directed graph\n",
            "Calculating modularity for directed graph\n",
            "Calculating modularity for directed graph\n",
            "Calculating modularity for directed graph\n",
            "Calculating modularity for directed graph\n",
            "Calculating modularity for directed graph\n",
            "Calculating modularity for directed graph\n",
            "Calculating modularity for directed graph\n",
            "Calculating modularity for directed graph\n",
            "Calculating modularity for directed graph\n",
            "Calculating modularity for directed graph\n",
            "Calculating modularity for directed graph\n",
            "Calculating modularity for directed graph\n",
            "Calculating modularity for directed graph\n",
            "Calculating modularity for directed graph\n",
            "Calculating modularity for directed graph\n",
            "Calculating modularity for directed graph\n",
            "Calculating modularity for directed graph\n",
            "Calculating modularity for directed graph\n",
            "Calculating modularity for directed graph\n",
            "Calculating modularity for directed graph\n",
            "Calculating modularity for directed graph\n",
            "Calculating modularity for directed graph\n",
            "Calculating modularity for directed graph\n",
            "Calculating modularity for directed graph\n",
            "Calculating modularity for directed graph\n",
            "Calculating modularity for directed graph\n",
            "Calculating modularity for directed graph\n",
            "Calculating modularity for directed graph\n",
            "Calculating modularity for directed graph\n",
            "Calculating modularity for directed graph\n",
            "Calculating modularity for directed graph\n"
          ],
          "name": "stdout"
        }
      ]
    },
    {
      "cell_type": "code",
      "metadata": {
        "colab": {
          "base_uri": "https://localhost:8080/"
        },
        "id": "J8VH19N9qHA_",
        "outputId": "90853241-4bac-440e-eb5c-6d5c20fc769e"
      },
      "source": [
        "#Promediar los valores obtenidos según la probabilidad\n",
        "totalModProm1 = np.mean(np.array(totalMod1), axis = 0)\n",
        "totalModProm2 = np.mean(np.array(totalMod2), axis = 0)\n",
        "\n",
        "print(\"Valores para primera partición: \")\n",
        "print(totalModProm1)\n",
        "print(\"Valores para segunda partición: \")\n",
        "print(totalModProm2)"
      ],
      "execution_count": null,
      "outputs": [
        {
          "output_type": "stream",
          "text": [
            "Valores para primera partición: \n",
            "[0.11841645 0.09820041 0.09687735 0.0972288  0.09694375 0.09661747\n",
            " 0.09707845 0.09703673 0.09747557 0.09833102 0.11823035]\n",
            "Valores para segunda partición: \n",
            "[0.09786458 0.09739858 0.09679612 0.09742056 0.09716863 0.09733048\n",
            " 0.09707516 0.09619531 0.09716253 0.09742309 0.09711811]\n"
          ],
          "name": "stdout"
        }
      ]
    },
    {
      "cell_type": "code",
      "metadata": {
        "colab": {
          "base_uri": "https://localhost:8080/",
          "height": 316
        },
        "id": "2y9ULzSun5o4",
        "outputId": "1e139a19-8ada-4d54-bad5-f6502f2458c2"
      },
      "source": [
        "probs = [0, 0.1, 0.2, 0.3, 0.4, 0.5, 0.6, 0.7, 0.8, 0.9, 1]\n",
        "plt.plot(probs, totalModProm1, 'rx-',label = 'Partición 1')\n",
        "plt.plot(probs, totalModProm2, 'b-.',label = 'Partición 2')\n",
        "plt.legend()\n",
        "plt.xlabel(\"Probabilidad\")\n",
        "plt.ylabel(\"Modularidad\")\n",
        "plt.title(\"Probabilidad v/s $Q^d$\")"
      ],
      "execution_count": null,
      "outputs": [
        {
          "output_type": "execute_result",
          "data": {
            "text/plain": [
              "Text(0.5, 1.0, 'Probabilidad v/s $Q^d$')"
            ]
          },
          "metadata": {
            "tags": []
          },
          "execution_count": 8
        },
        {
          "output_type": "display_data",
          "data": {
            "image/png": "[encoded data removed]",
            "text/plain": [
              "<Figure size 432x288 with 1 Axes>"
            ]
          },
          "metadata": {
            "tags": [],
            "needs_background": "light"
          }
        }
      ]
    },
    {
      "cell_type": "markdown",
      "metadata": {
        "id": "BFBW_5TS0s-S"
      },
      "source": [
        "#Pregunta 2"
      ]
    },
    {
      "cell_type": "code",
      "metadata": {
        "colab": {
          "base_uri": "https://localhost:8080/"
        },
        "id": "KW7Anc631OQc",
        "outputId": "31c3ae8d-3b04-4d2f-ea7e-7c126626f990"
      },
      "source": [
        "pescado = nx.read_pajek(\"pescado.net\")\n",
        "print(nx.info(pescado))"
      ],
      "execution_count": null,
      "outputs": [
        {
          "output_type": "stream",
          "text": [
            "Name: \n",
            "Type: MultiDiGraph\n",
            "Number of nodes: 151\n",
            "Number of edges: 2744\n",
            "Average in degree:  18.1722\n",
            "Average out degree:  18.1722\n"
          ],
          "name": "stdout"
        }
      ]
    },
    {
      "cell_type": "markdown",
      "metadata": {
        "id": "5Gn0ZPhGPdeI"
      },
      "source": [
        "## (a)"
      ]
    },
    {
      "cell_type": "code",
      "metadata": {
        "id": "9AL3tMpf2af5"
      },
      "source": [
        "#Calculo de rho_1\n",
        "def rho1(adMatrix, grafo):\n",
        "  rho1 = 0\n",
        "  n , m = adMatrix.shape\n",
        "  for i in range(n):\n",
        "    for j in range(n):\n",
        "      if (i != j):\n",
        "        if adMatrix[i,j] > 0 and adMatrix[j, i] > 0:\n",
        "          rho1 +=1\n",
        "  rho1 = rho1 * 1/(grafo.number_of_edges())\n",
        "\n",
        "  return rho1\n",
        "\n",
        "#Calculo de proporcion de aristas existentes respecto a las posibles\n",
        "def aRaya(grafo):\n",
        "  n = grafo.number_of_nodes()\n",
        "  m = grafo.number_of_edges()\n",
        "  return m/(n*(n-1))\n",
        "\n",
        "#Calculo de reciprocidad corregida\n",
        "def rho(r, a):\n",
        "  return (r - a)/(1 - a)"
      ],
      "execution_count": null,
      "outputs": []
    },
    {
      "cell_type": "code",
      "metadata": {
        "colab": {
          "base_uri": "https://localhost:8080/"
        },
        "id": "dFg3OBPn5mS9",
        "outputId": "150536e7-9d50-4838-ce1a-e54302d464ef"
      },
      "source": [
        "# Matriz de adjacencia con pesos\n",
        "adMatrix = nx.to_numpy_matrix(pescado)\n",
        "print(\"Reciprocidad corregida:\")\n",
        "print(rho(rho1(adMatrix, pescado), aRaya(pescado)))\n"
      ],
      "execution_count": null,
      "outputs": [
        {
          "output_type": "stream",
          "text": [
            "Reciprocidad corregida:\n",
            "0.3937559737764578\n"
          ],
          "name": "stdout"
        }
      ]
    },
    {
      "cell_type": "markdown",
      "metadata": {
        "id": "BAIN-KpKQxrd"
      },
      "source": [
        "## (b)"
      ]
    },
    {
      "cell_type": "code",
      "metadata": {
        "id": "Do5f7cpj-wHY"
      },
      "source": [
        "#Calculo de peso promedio basado en el calculo de a_raya\n",
        "def wRaya(adMatrix):\n",
        "  suma = 0\n",
        "  n , m = adMatrix.shape\n",
        "  for i in range(n):\n",
        "    for j in range(n):\n",
        "      if(i != j):\n",
        "        suma += adMatrix[i,j] \n",
        "  suma = suma / (n*(n-1))\n",
        "  return suma\n",
        "\n",
        "#Calculo de rho con pesos\n",
        "def rhoPesos(adMatrix):\n",
        "  n, m = adMatrix.shape\n",
        "  wProm = wRaya(adMatrix)\n",
        "  numerador = 0\n",
        "  denominador = 0\n",
        "  for i in range(n):\n",
        "    for j in range(n):\n",
        "      if(i != j):\n",
        "        numerador += (adMatrix[i, j] * wProm) * (adMatrix[j, i] * wProm)\n",
        "        denominador += (adMatrix[i, j] - wProm) ** 2\n",
        "  return numerador/denominador\n"
      ],
      "execution_count": null,
      "outputs": []
    },
    {
      "cell_type": "code",
      "metadata": {
        "colab": {
          "base_uri": "https://localhost:8080/"
        },
        "id": "xgM_aszF2pRG",
        "outputId": "99cc6236-afba-4596-e41d-be3a3662e179"
      },
      "source": [
        "print(\"Reciprocidad rho modificado:\")\n",
        "print(rhoPesos(adMatrix))"
      ],
      "execution_count": null,
      "outputs": [
        {
          "output_type": "stream",
          "text": [
            "Reciprocidad rho modificado:\n",
            "0.9200132648997168\n"
          ],
          "name": "stdout"
        }
      ]
    },
    {
      "cell_type": "markdown",
      "metadata": {
        "id": "9yxCWC_nTtsv"
      },
      "source": [
        "## (c)"
      ]
    },
    {
      "cell_type": "code",
      "metadata": {
        "colab": {
          "base_uri": "https://localhost:8080/",
          "height": 1000
        },
        "id": "vpm8VpqEZtfC",
        "outputId": "594f41ce-7c48-40e7-9798-8096020310a4"
      },
      "source": [
        "n, _ = adMatrix.shape\n",
        "\n",
        "sIn = []\n",
        "sOut = []\n",
        "\n",
        "#Calculo de suma de pesos que salen desde los nodos\n",
        "for i in range(n):\n",
        "  pesoOut = 0\n",
        "  for j in range(n):\n",
        "    pesoOut += adMatrix[i, j]\n",
        "  sOut.append(pesoOut)\n",
        "\n",
        "#Calculo de suma de pesos que entran a los nodos\n",
        "for j in range(n):\n",
        "  pesoIn = 0\n",
        "  for i in range(n):\n",
        "    pesoIn += adMatrix[i, j]\n",
        "  sIn.append(pesoIn)\n",
        "\n",
        "\n",
        "plt.hist(sIn)\n",
        "plt.xlabel(\"$s^{in}$\")\n",
        "plt.ylabel(\"cantidad\")\n",
        "plt.title(\"Distribución $P(s^{in})$\")\n",
        "plt.show()\n",
        "\n",
        "plt.hist(sIn)\n",
        "plt.loglog()\n",
        "plt.xlabel(\"$s^{in}$\")\n",
        "plt.xticks([10,100,1000, 10000])\n",
        "plt.ylabel(\"cantidad\")\n",
        "plt.title(\"Distribución $P(s^{in})$\")\n",
        "plt.show()\n",
        "\n",
        "plt.hist(sOut, bins = 20)\n",
        "plt.xlabel(\"$s^{out}$\")\n",
        "plt.ylabel(\"cantidad\")\n",
        "plt.title(\"Distribución $P(s^{out})$\")\n",
        "plt.show()\n",
        "\n",
        "plt.hist(sOut, bins = 20)\n",
        "plt.loglog()\n",
        "plt.xticks([10,100,1000, 10000])\n",
        "\n",
        "plt.xlabel(\"$s^{out}$\")\n",
        "plt.ylabel(\"cantidad\")\n",
        "plt.title(\"Distribución $P(s^{out})$\")\n",
        "plt.show()\n"
      ],
      "execution_count": null,
      "outputs": [
        {
          "output_type": "display_data",
          "data": {
            "image/png": "[encoded data removed]",
            "text/plain": [
              "<Figure size 432x288 with 1 Axes>"
            ]
          },
          "metadata": {
            "tags": [],
            "needs_background": "light"
          }
        },
        {
          "output_type": "display_data",
          "data": {
            "image/png": "[encoded data removed]",
            "text/plain": [
              "<Figure size 432x288 with 1 Axes>"
            ]
          },
          "metadata": {
            "tags": [],
            "needs_background": "light"
          }
        },
        {
          "output_type": "display_data",
          "data": {
            "image/png": "[encoded data removed]",
            "text/plain": [
              "<Figure size 432x288 with 1 Axes>"
            ]
          },
          "metadata": {
            "tags": [],
            "needs_background": "light"
          }
        },
        {
          "output_type": "display_data",
          "data": {
            "image/png": "[encoded data removed]",
            "text/plain": [
              "<Figure size 432x288 with 1 Axes>"
            ]
          },
          "metadata": {
            "tags": [],
            "needs_background": "light"
          }
        }
      ]
    },
    {
      "cell_type": "code",
      "metadata": {
        "id": "QALiB0U0ujkf"
      },
      "source": [
        "#Estimación del exponente con máxima verosimilitud\n",
        "def paramMaxVer(xMin, data, dataStr):\n",
        "  #xMin corresponde al minimo valor a descartar de la data\n",
        "  filterxMin =  [ x for x in data if x > xMin]\n",
        "  suma = 0\n",
        "  for i in range(len(filterxMin)):\n",
        "    suma+= np.log(filterxMin[i]/min(filterxMin))\n",
        "  alpha = 1 + len(filterxMin) * (suma**-1)\n",
        "  C = (alpha-1) * (min(filterxMin)**(alpha-1))\n",
        "  print(\"Valor de x_min para \" + dataStr + \": \" + str(min(filterxMin)))\n",
        "  print(\"Valor de alpha para \" + dataStr + \": \" + str(alpha))\n",
        "  print(\"Valor de C para \" + dataStr + \": \" + str(C))"
      ],
      "execution_count": null,
      "outputs": []
    },
    {
      "cell_type": "code",
      "metadata": {
        "colab": {
          "base_uri": "https://localhost:8080/"
        },
        "id": "xMZGzKBvV3lo",
        "outputId": "b2b60768-2526-4426-cbd9-4bae83552577"
      },
      "source": [
        "paramMaxVer(100, sIn, \"s in\")\n",
        "paramMaxVer(100, sOut, \"s out\")"
      ],
      "execution_count": null,
      "outputs": [
        {
          "output_type": "stream",
          "text": [
            "Valor de x_min para s in: 101.42900000000002\n",
            "Valor de alpha para s in: 1.5423914868100392\n",
            "Valor de C para s in: 6.644130167900509\n",
            "Valor de x_min para s out: 100.69700000000002\n",
            "Valor de alpha para s out: 1.664693659577946\n",
            "Valor de C para s out: 14.256533044022511\n"
          ],
          "name": "stdout"
        }
      ]
    },
    {
      "cell_type": "markdown",
      "metadata": {
        "id": "7O--S6EWXNhk"
      },
      "source": [
        "## (d)"
      ]
    },
    {
      "cell_type": "code",
      "metadata": {
        "colab": {
          "base_uri": "https://localhost:8080/"
        },
        "id": "UIYKCIjGktFA",
        "outputId": "c57ce266-b229-4e76-cda2-cad998df008e"
      },
      "source": [
        "plt.scatter(sIn, sOut)\n",
        "plt.xlabel(\"$s^{in}$\")\n",
        "plt.ylabel(\"$s^{out}$\")\n",
        "plt.title(\"Gráfico de dispersión - $s^{in}$ v/s $s^{out}$\")\n",
        "plt.show()\n",
        "\n",
        "plt.scatter(sIn, sOut)\n",
        "plt.xlabel(\"$s^{in}$\")\n",
        "plt.ylabel(\"$s^{out}$\")\n",
        "plt.xlim([0,150])\n",
        "plt.ylim([0,150])\n",
        "plt.title(\"Gráfico de dispersión - $s^{in}$ v/s $s^{out}$\")\n",
        "plt.show()\n",
        "\n",
        "#Calculo de proporciones entre valores de Sin y Sout\n",
        "proporcionSinSout = []\n",
        "proporcionSoutSin = []\n",
        "xAxis = []\n",
        "for i in range(len(sIn)):\n",
        "  if sIn[i] > 0 and sOut[i] > 0:\n",
        "    proporcionSinSout.append(sIn[i]/sOut[i])\n",
        "    proporcionSoutSin.append(sOut[i]/sIn[i])\n",
        "    xAxis.append(i)\n",
        "proporcionSinSout.sort()\n",
        "proporcionSoutSin.sort()\n",
        "\n",
        "#Regresión lineal para obtener ecuación de la recta\n",
        "logPsInsOut = [np.log(x) for x in proporcionSinSout]\n",
        "m1, b1 = np.polyfit(xAxis, logPsInsOut, 1)\n",
        "logPsOutsIn = [np.log(x) for x in proporcionSoutSin]\n",
        "m2, b2 = np.polyfit(xAxis, logPsOutsIn, 1)\n",
        "\n",
        "plt.scatter(xAxis, proporcionSinSout)\n",
        "plt.xlabel(\"número de observación\")\n",
        "plt.ylabel(\"proporción\")\n",
        "plt.title(\"Gráfico de proporción  $s^{in}$/$s^{out}$\")\n",
        "plt.show()\n",
        "\n",
        "\n",
        "plt.scatter(xAxis, logPsInsOut)\n",
        "plt.plot(xAxis, m1*np.array(xAxis) + b1, color=\"red\")\n",
        "plt.xlabel(\"número de observación\")\n",
        "plt.ylabel(\"log(proporción)\")\n",
        "plt.title(\"Gráfico de log(proporción  $s^{in}$/$s^{out}$)\")\n",
        "plt.show()\n",
        "\n",
        "plt.scatter(xAxis, proporcionSoutSin)\n",
        "plt.xlabel(\"número de observación\")\n",
        "plt.ylabel(\"proporción\")\n",
        "plt.title(\"Gráfico de proporción  $s^{out}$/$s^{in}$\")\n",
        "plt.show()\n",
        "\n",
        "\n",
        "plt.scatter(xAxis, logPsOutsIn)\n",
        "plt.plot(xAxis, m2*np.array(xAxis) + b2, color = \"red\")\n",
        "plt.xlabel(\"número de observación\")\n",
        "plt.ylabel(\"log(proporción)\")\n",
        "plt.title(\"Gráfico de log(proporción  $s^{out}$/$s^{in}$)\")\n",
        "plt.show()\n",
        "\n"
      ],
      "execution_count": null,
      "outputs": [
        {
          "output_type": "display_data",
          "data": {
            "image/png": "[encoded data removed]",
            "text/plain": [
              "<Figure size 432x288 with 1 Axes>"
            ]
          },
          "metadata": {
            "tags": [],
            "needs_background": "light"
          }
        },
        {
          "output_type": "display_data",
          "data": {
            "image/png": "[encoded data removed]",
            "text/plain": [
              "<Figure size 432x288 with 1 Axes>"
            ]
          },
          "metadata": {
            "tags": [],
            "needs_background": "light"
          }
        },
        {
          "output_type": "display_data",
          "data": {
            "image/png": "[encoded data removed]",
            "text/plain": [
              "<Figure size 432x288 with 1 Axes>"
            ]
          },
          "metadata": {
            "tags": [],
            "needs_background": "light"
          }
        },
        {
          "output_type": "display_data",
          "data": {
            "image/png": "[encoded data removed]",
            "text/plain": [
              "<Figure size 432x288 with 1 Axes>"
            ]
          },
          "metadata": {
            "tags": [],
            "needs_background": "light"
          }
        },
        {
          "output_type": "display_data",
          "data": {
            "image/png": "[encoded data removed]",
            "text/plain": [
              "<Figure size 432x288 with 1 Axes>"
            ]
          },
          "metadata": {
            "tags": [],
            "needs_background": "light"
          }
        },
        {
          "output_type": "display_data",
          "data": {
            "image/png": "[encoded data removed]",
            "text/plain": [
              "<Figure size 432x288 with 1 Axes>"
            ]
          },
          "metadata": {
            "tags": [],
            "needs_background": "light"
          }
        }
      ]
    },
    {
      "cell_type": "markdown",
      "metadata": {
        "id": "unjdtT52lk7j"
      },
      "source": [
        "## (e)"
      ]
    },
    {
      "cell_type": "code",
      "metadata": {
        "colab": {
          "base_uri": "https://localhost:8080/"
        },
        "id": "_AzE4HvUeuZh",
        "outputId": "646b2310-f1b5-4d42-804d-db2d0d266484"
      },
      "source": [
        "#Creacion de la nueva red\n",
        "nuevoPescado = nx.Graph()\n",
        "n, _ = adMatrix.shape\n",
        "nuevoPescado.add_nodes_from(range(0,n))\n",
        "\n",
        "for i in range(n):\n",
        "  for j in range(i, n):\n",
        "    peso = adMatrix[i, j] + adMatrix[j , i]\n",
        "    if peso > 0:\n",
        "      nuevoPescado.add_edge(i, j, weight = peso)\n",
        "print(nx.info(nuevoPescado))"
      ],
      "execution_count": null,
      "outputs": [
        {
          "output_type": "stream",
          "text": [
            "Name: \n",
            "Type: Graph\n",
            "Number of nodes: 151\n",
            "Number of edges: 2103\n",
            "Average degree:  27.8543\n"
          ],
          "name": "stdout"
        }
      ]
    },
    {
      "cell_type": "code",
      "metadata": {
        "id": "YvinqZ8PiI88"
      },
      "source": [
        "#Calculo de grados para cada nodo\n",
        "Pgrado =[grado for (nodo, grado) in nuevoPescado.degree()]\n",
        "#Calculos de peso y fuerza para cada nodo\n",
        "Pfuerza = []\n",
        "Ppeso = []\n",
        "adMatrixNueva = nx.to_numpy_matrix(nuevoPescado)\n",
        "for i in range(n):\n",
        "  fuerza = 0\n",
        "  for j in range(n):\n",
        "    fuerza += adMatrixNueva[i, j]\n",
        "    if(adMatrixNueva[i, j] > 0):\n",
        "      Ppeso.append(adMatrixNueva[i, j] )\n",
        "  Pfuerza.append(fuerza)"
      ],
      "execution_count": null,
      "outputs": []
    },
    {
      "cell_type": "code",
      "metadata": {
        "colab": {
          "base_uri": "https://localhost:8080/",
          "height": 1000
        },
        "id": "8fhve5LbjUSG",
        "outputId": "19d039fb-f190-41df-f1e9-833b2adc4358"
      },
      "source": [
        "plt.hist(Pgrado, bins = 20)\n",
        "plt.xlabel(\"$grado$\")\n",
        "plt.ylabel(\"cantidad\")\n",
        "plt.title(\"Distribución $P(k)$\")\n",
        "plt.show()\n",
        "\n",
        "plt.hist(Pgrado, bins = 20)\n",
        "plt.loglog()\n",
        "plt.xlabel(\"$grado$\")\n",
        "plt.ylabel(\"cantidad\")\n",
        "plt.title(\"Distribución $P(k)$ - escala log/log\")\n",
        "plt.show()\n",
        "\n",
        "plt.hist(Pfuerza, bins = 20)\n",
        "plt.xlabel(\"$s$\")\n",
        "plt.ylabel(\"cantidad\")\n",
        "plt.title(\"Distribución $P(s)$\")\n",
        "plt.show()\n",
        "\n",
        "plt.hist(Pfuerza, bins = 20)\n",
        "plt.loglog()\n",
        "plt.xlabel(\"$s$\")\n",
        "plt.ylabel(\"cantidad\")\n",
        "plt.title(\"Distribución $P(s)$ - escala log/log\")\n",
        "plt.show()\n",
        "\n",
        "plt.hist(Ppeso, bins = 20)\n",
        "plt.xlabel(\"$peso$\")\n",
        "plt.ylabel(\"cantidad\")\n",
        "plt.title(\"Distribución $P(w)$\")\n",
        "plt.show()\n",
        "\n",
        "plt.hist(Ppeso, bins = 20)\n",
        "plt.loglog()\n",
        "plt.xlabel(\"$peso$\")\n",
        "plt.ylabel(\"cantidad\")\n",
        "plt.title(\"Distribución $P(w)$ - escala log/log\")\n",
        "plt.show()"
      ],
      "execution_count": null,
      "outputs": [
        {
          "output_type": "display_data",
          "data": {
            "image/png": "[encoded data removed]",
            "text/plain": [
              "<Figure size 432x288 with 1 Axes>"
            ]
          },
          "metadata": {
            "tags": [],
            "needs_background": "light"
          }
        },
        {
          "output_type": "display_data",
          "data": {
            "image/png": "[encoded data removed]",
            "text/plain": [
              "<Figure size 432x288 with 1 Axes>"
            ]
          },
          "metadata": {
            "tags": [],
            "needs_background": "light"
          }
        },
        {
          "output_type": "display_data",
          "data": {
            "image/png": "[encoded data removed]",
            "text/plain": [
              "<Figure size 432x288 with 1 Axes>"
            ]
          },
          "metadata": {
            "tags": [],
            "needs_background": "light"
          }
        },
        {
          "output_type": "display_data",
          "data": {
            "image/png": "[encoded data removed]",
            "text/plain": [
              "<Figure size 432x288 with 1 Axes>"
            ]
          },
          "metadata": {
            "tags": [],
            "needs_background": "light"
          }
        },
        {
          "output_type": "display_data",
          "data": {
            "image/png": "[encoded data removed]",
            "text/plain": [
              "<Figure size 432x288 with 1 Axes>"
            ]
          },
          "metadata": {
            "tags": [],
            "needs_background": "light"
          }
        },
        {
          "output_type": "display_data",
          "data": {
            "image/png": "[encoded data removed]",
            "text/plain": [
              "<Figure size 432x288 with 1 Axes>"
            ]
          },
          "metadata": {
            "tags": [],
            "needs_background": "light"
          }
        }
      ]
    },
    {
      "cell_type": "code",
      "metadata": {
        "colab": {
          "base_uri": "https://localhost:8080/"
        },
        "id": "HS0uc2Kfc0si",
        "outputId": "7f42bb41-f349-4af8-b679-be8228be4961"
      },
      "source": [
        "paramMaxVer(0, Pgrado, \"P(k)\")\n",
        "paramMaxVer(10, Pfuerza, \"P(s)\")\n",
        "paramMaxVer(10, Ppeso, \"P(w)\")"
      ],
      "execution_count": null,
      "outputs": [
        {
          "output_type": "stream",
          "text": [
            "Valor de x_min para P(k): 1\n",
            "Valor de alpha para P(k): 1.3616839030056078\n",
            "Valor de C para P(k): 0.3616839030056078\n",
            "Valor de x_min para P(s): 11.374\n",
            "Valor de alpha para P(s): 1.350569089999433\n",
            "Valor de C para P(s): 0.822136934508802\n",
            "Valor de x_min para P(w): 10.028\n",
            "Valor de alpha para P(w): 1.7259946451971542\n",
            "Valor de C para P(w): 3.870879538257644\n"
          ],
          "name": "stdout"
        }
      ]
    },
    {
      "cell_type": "markdown",
      "metadata": {
        "id": "u-vjvUK8qeVA"
      },
      "source": [
        "##(f)"
      ]
    },
    {
      "cell_type": "code",
      "metadata": {
        "colab": {
          "base_uri": "https://localhost:8080/",
          "height": 624
        },
        "id": "uqMj96m0jiiw",
        "outputId": "51810ddf-b8ee-46cb-eddc-0f7d4d885314"
      },
      "source": [
        "# Pendiente e intercepto para grafico log/log\n",
        "m3, b3 = np.polyfit([np.log(x) for x in Pgrado], [np.log(x) for x in Pfuerza], 1)\n",
        "\n",
        "\n",
        "PgradoSort = Pgrado.copy()\n",
        "PgradoSort.sort()\n",
        "plt.scatter(Pgrado, Pfuerza)\n",
        "plt.plot(PgradoSort, np.exp(b3+ m3 * np.array([np.log(x) for x in PgradoSort])), color=\"red\")\n",
        "plt.xlabel(\"grado\")\n",
        "plt.ylabel(\"fuerza\")\n",
        "plt.title(\"Dispersión - grado v/s fuerza\")\n",
        "plt.show()\n",
        "\n",
        "plt.scatter([np.log(x) for x in Pgrado], [np.log(x) for x in Pfuerza])\n",
        "plt.plot([np.log(x) for x in Pgrado], m3*np.array([np.log(x) for x in Pgrado]) + b3, color=\"red\")\n",
        "plt.xlabel(\"log(grado)\")\n",
        "plt.ylabel(\"log(fuerza)\")\n",
        "plt.title(\"Dispersión - log(grado) v/s log(fuerza)\")\n",
        "plt.show()\n",
        "print(\"Parámtros para la regresión lineal:\")\n",
        "print(\"Pendiente: \"+ str(m3))\n",
        "print(\"Intercepto: \" + str(b3))"
      ],
      "execution_count": null,
      "outputs": [
        {
          "output_type": "display_data",
          "data": {
            "image/png": "[encoded data removed]",
            "text/plain": [
              "<Figure size 432x288 with 1 Axes>"
            ]
          },
          "metadata": {
            "tags": [],
            "needs_background": "light"
          }
        },
        {
          "output_type": "display_data",
          "data": {
            "image/png": "[encoded data removed]",
            "text/plain": [
              "<Figure size 432x288 with 1 Axes>"
            ]
          },
          "metadata": {
            "tags": [],
            "needs_background": "light"
          }
        },
        {
          "output_type": "stream",
          "text": [
            "Parámtros para la regresión lineal:\n",
            "Pendiente: 2.0177505134426172\n",
            "Intercepto: -1.3443964724316255\n"
          ],
          "name": "stdout"
        }
      ]
    },
    {
      "cell_type": "markdown",
      "metadata": {
        "id": "TKbPECy1WqTC"
      },
      "source": [
        "## (g)"
      ]
    },
    {
      "cell_type": "code",
      "metadata": {
        "colab": {
          "base_uri": "https://localhost:8080/"
        },
        "id": "8azDC0RVlN3E",
        "outputId": "3e162fcc-0d42-4df2-dd03-604ff119802a"
      },
      "source": [
        "print(\"Average clustering con pesos: \" + str(nx.average_clustering(nuevoPescado, weight='weight')))\n",
        "\n",
        "#Grafo sin pesos\n",
        "nuevoPescadoSinP = nx.Graph()\n",
        "n, _ = adMatrix.shape\n",
        "nuevoPescadoSinP.add_nodes_from(range(0,n))\n",
        "\n",
        "for i in range(n):\n",
        "  for j in range(i, n):\n",
        "    peso = adMatrix[i, j] + adMatrix[j , i]\n",
        "    if peso > 0:\n",
        "      nuevoPescadoSinP.add_edge(i, j)\n",
        "print(\"Average clustering sin pesos: \" + str(nx.average_clustering(nuevoPescadoSinP)))"
      ],
      "execution_count": null,
      "outputs": [
        {
          "output_type": "stream",
          "text": [
            "Average clustering con pesos: 0.0030317792104460678\n",
            "Average clustering sin pesos: 0.7477557030117123\n"
          ],
          "name": "stdout"
        }
      ]
    },
    {
      "cell_type": "code",
      "metadata": {
        "colab": {
          "base_uri": "https://localhost:8080/"
        },
        "id": "1Nvsj2cGqG2-",
        "outputId": "60e3806a-65c5-41fc-cf1b-76e3b49bc265"
      },
      "source": [
        "#Calculo de clustering con pesos\n",
        "clusterCoefsW = []\n",
        "for i in range(n):\n",
        "  suma = 0\n",
        "  for j in range(n):\n",
        "    for k in range(n):\n",
        "      #Si hay un triangulo\n",
        "      if adMatrixNueva[i, j] > 0 and adMatrixNueva[i, k] > 0 and adMatrixNueva[j, k] > 0:\n",
        "        suma+= (adMatrixNueva[i, j] + adMatrixNueva[i, k]) / 2\n",
        "  #Se omiten los nodos de grado 1 para no dividir por cero\n",
        "  if(Pgrado[i] > 1):\n",
        "    coef = 1 / (Pfuerza[i] * (Pgrado[i] - 1)) * suma\n",
        "  \n",
        "  clusterCoefsW.append(coef)\n",
        "\n",
        "clusterWeights = sum(clusterCoefsW) / len(clusterCoefsW)\n",
        "print(\"Coeficiente de clustering con pesos: \" + str(clusterWeights))\n",
        "\n",
        "#Calculo de clustering sin pesos\n",
        "adMatrixNuevaSinP = nx.to_numpy_matrix(nuevoPescadoSinP)\n",
        "clusterCoefsSinW = []\n",
        "for i in range(n):\n",
        "  triangles = 0\n",
        "  for j in range(n):\n",
        "    for k in range(n):\n",
        "      #Contar número de triangulos para un nodo\n",
        "      triangles += adMatrixNuevaSinP[i, j] * adMatrixNuevaSinP[j, k] * adMatrixNuevaSinP[k, i]\n",
        "  #Se omiten nodos de grado 1 para no dividir por cero\n",
        "  if(Pgrado[i] > 1):\n",
        "    posiblestriangles = Pgrado[i] * (Pgrado[i] - 1) / 2\n",
        "    #Los triangulos contabilizados se dividen en 2 para eliminar los repetidos\n",
        "    coef = (triangles/2)/posiblestriangles\n",
        "    clusterCoefsSinW.append(coef)\n",
        "clusterSinWeights = sum(clusterCoefsSinW) / len(clusterCoefsSinW)\n",
        "print(\"Coeficiente de clustering sin pesos: \" + str(clusterSinWeights))\n"
      ],
      "execution_count": null,
      "outputs": [
        {
          "output_type": "stream",
          "text": [
            "Coeficiente de clustering con pesos: 0.8938899279996027\n",
            "Coeficiente de clustering sin pesos: 0.7841049385747817\n"
          ],
          "name": "stdout"
        }
      ]
    },
    {
      "cell_type": "markdown",
      "metadata": {
        "id": "ABznqW5Lmsm6"
      },
      "source": [
        "#Pregunta 3"
      ]
    },
    {
      "cell_type": "code",
      "metadata": {
        "colab": {
          "base_uri": "https://localhost:8080/",
          "height": 600
        },
        "id": "Xpx0dyckkOEC",
        "outputId": "bdd7874c-4f85-4ce7-dcef-b6eebdc469fa"
      },
      "source": [
        "cities = open('cities.txt')\n",
        "\n",
        "poblacion = []\n",
        "for linea in cities:\n",
        "  poblacion.append(int(linea))\n",
        "\n",
        "c = Counter(poblacion)\n",
        "sorted(c.items())\n",
        "plt.plot(*zip(*sorted(c.items())), 'o')\n",
        "plt.loglog()\n",
        "plt.xlabel(\"población\")\n",
        "plt.ylabel(\"cantidad\")\n",
        "plt.title(\"Visualización inicial de los datos\")\n",
        "plt.show()\n",
        "\n",
        "print(len(poblacion))\n",
        "#Filtrado de valores pequeños con poca frecuencia\n",
        "nuevaPoblacion = poblacion[600:18500]\n",
        "\n",
        "c = Counter(nuevaPoblacion)\n",
        "sorted(c.items())\n",
        "plt.plot(*zip(*sorted(c.items())), 'o')\n",
        "plt.loglog()\n",
        "plt.xlabel(\"población\")\n",
        "plt.ylabel(\"cantidad\")\n",
        "plt.title(\"Visualización de los datos a trabajar\")\n",
        "plt.show()\n"
      ],
      "execution_count": 4,
      "outputs": [
        {
          "output_type": "display_data",
          "data": {
            "image/png": "[encoded data removed]",
            "text/plain": [
              "<Figure size 432x288 with 1 Axes>"
            ]
          },
          "metadata": {
            "tags": [],
            "needs_background": "light"
          }
        },
        {
          "output_type": "stream",
          "text": [
            "19447\n"
          ],
          "name": "stdout"
        },
        {
          "output_type": "display_data",
          "data": {
            "image/png": "[encoded data removed]",
            "text/plain": [
              "<Figure size 432x288 with 1 Axes>"
            ]
          },
          "metadata": {
            "tags": [],
            "needs_background": "light"
          }
        }
      ]
    },
    {
      "cell_type": "code",
      "metadata": {
        "colab": {
          "base_uri": "https://localhost:8080/",
          "height": 610
        },
        "id": "v6W4jGbAkVJ_",
        "outputId": "f89ef765-a642-470d-d78a-4f4ce18bdd41"
      },
      "source": [
        "\n",
        "binsPob = 10\n",
        "logbins = np.logspace(np.log10(nuevaPoblacion[0]), np.log10(nuevaPoblacion[-1]), binsPob)\n",
        "dataSorted = sorted(c.items())\n",
        "\n",
        "xPreg3 = []\n",
        "yPreg3 = []\n",
        "for i in range(len(dataSorted)):\n",
        "  xPreg3.append(dataSorted[i][0])\n",
        "  yPreg3.append(dataSorted[i][1])\n",
        "\n",
        "mPreg3, bPreg3 = np.polyfit([np.log10(x) for x in xPreg3], [np.log10(x) for x in yPreg3], 1)\n",
        "print(mPreg3, bPreg3)\n",
        "plt.scatter([np.log10(x) for x in xPreg3], [np.log10(x) for x in yPreg3])\n",
        "plt.plot([np.log10(x) for x in xPreg3], mPreg3*np.array([np.log10(x) for x in xPreg3]) + bPreg3, color=\"red\")\n",
        "#plt.plot([np.log10(x) for x in xPreg3], -0.387*np.array([np.log10(x) for x in xPreg3]) + 4.67, color=\"orange\")\n",
        "plt.xlabel(\"log(población)\")\n",
        "plt.ylabel(\"log(cantidad)\")\n",
        "plt.title(\"Obtención de pendiente\")\n",
        "print(\"Pediente para gráfico log/log: \" + str(mPreg3))\n",
        "\n",
        "plt.show()\n",
        "count, bins, bars = plt.hist(nuevaPoblacion, bins=logbins, log = True)\n",
        "plt.xlabel(\"población\")\n",
        "plt.ylabel(\"cantidad\")\n",
        "# Se eliminan las barras menores al valor máximo\n",
        "count = count[3:]\n",
        "bins = bins[3:]\n",
        "# Se obtiene el valor central de cada barra\n",
        "xEst2 = []\n",
        "for i in range(len(count)):\n",
        "  xEst2.append((bins[i] + bins[i+1])/2)\n",
        "\n",
        "mPreg3e2, bPreg3e2 = np.polyfit([np.log10(x) for x in xEst2], [np.log10(x) for x in count], 1)\n",
        "print(\"Pediente para gráfico con binning: \" + str(mPreg3e2))\n",
        "plt.show()\n"
      ],
      "execution_count": 5,
      "outputs": [
        {
          "output_type": "stream",
          "text": [
            "-0.5254664097471633 2.126078192830937\n",
            "Pediente para gráfico log/log: -0.5254664097471633\n"
          ],
          "name": "stdout"
        },
        {
          "output_type": "display_data",
          "data": {
            "image/png": "[encoded data removed]",
            "text/plain": [
              "<Figure size 432x288 with 1 Axes>"
            ]
          },
          "metadata": {
            "tags": [],
            "needs_background": "light"
          }
        },
        {
          "output_type": "stream",
          "text": [
            "Pediente para gráfico con binning: -0.38713687414422154\n"
          ],
          "name": "stdout"
        },
        {
          "output_type": "display_data",
          "data": {
            "image/png": "[encoded data removed]",
            "text/plain": [
              "<Figure size 432x288 with 1 Axes>"
            ]
          },
          "metadata": {
            "tags": [],
            "needs_background": "light"
          }
        }
      ]
    },
    {
      "cell_type": "code",
      "metadata": {
        "colab": {
          "base_uri": "https://localhost:8080/",
          "height": 313
        },
        "id": "qvP2tAOaEziJ",
        "outputId": "fd39589b-b956-4411-e084-48d6eb13dcb6"
      },
      "source": [
        "n , bins, patches = plt.hist([np.log10(x) for x in nuevaPoblacion], 30,density=True, histtype='step', cumulative=True, label='acumulada')\n",
        "#La distribución de supervivencia es 1 - la acumulada\n",
        "centeredBins = []\n",
        "for i in range(len(n)):\n",
        "  centeredBins.append((bins[i] + bins[i+1])/2)\n",
        "plt.scatter(centeredBins[:], n[::-1], label = \"supervivencia\")\n",
        "plt.legend()\n",
        "plt.title(\"Gráfico de distribuciones\")\n",
        "plt.xlabel(\"log(población)\")\n",
        "plt.ylabel(\"probabilidad\")\n",
        "plt.show()\n",
        "mPreg3e3, bPreg3e3 = np.polyfit(centeredBins, n[::-1], 1)\n",
        "print(\"Pediente para gráfico de dist. de supervivencia : \" + str(mPreg3e3))"
      ],
      "execution_count": 6,
      "outputs": [
        {
          "output_type": "display_data",
          "data": {
            "image/png": "[encoded data removed]",
            "text/plain": [
              "<Figure size 432x288 with 1 Axes>"
            ]
          },
          "metadata": {
            "tags": [],
            "needs_background": "light"
          }
        },
        {
          "output_type": "stream",
          "text": [
            "Pediente para gráfico de dist. de supervivencia : -0.4284504450097703\n"
          ],
          "name": "stdout"
        }
      ]
    },
    {
      "cell_type": "markdown",
      "metadata": {
        "id": "6nnFfGVWrt0P"
      },
      "source": [
        "#Pregunta 4"
      ]
    },
    {
      "cell_type": "markdown",
      "metadata": {
        "id": "j0ZIRAL0_CKH"
      },
      "source": [
        "* Probabilidad de que un grano se pierda es 2/1000"
      ]
    },
    {
      "cell_type": "code",
      "metadata": {
        "colab": {
          "base_uri": "https://localhost:8080/"
        },
        "id": "JHjsgwc2s5qt",
        "outputId": "3c494670-47d6-4739-b42f-f61383e243c5"
      },
      "source": [
        "# Seeds para probar\n",
        "random.seed(2021)\n",
        "np.random.seed(2021)\n",
        "# grado promedio ER = np\n",
        "# 2 = np => 2/1000 = p\n",
        "\n",
        "ER = nx.gnp_random_graph(1000, 2/1000)\n",
        "BA = nx.barabasi_albert_graph(1000, 1)\n",
        "print(nx.info(ER))\n",
        "print(nx.info(BA))\n",
        "\n",
        "gradosER = [val for (node, val) in ER.degree()]\n",
        "gradosBA = [val for (node, val) in BA.degree()]"
      ],
      "execution_count": null,
      "outputs": [
        {
          "output_type": "stream",
          "text": [
            "Name: \n",
            "Type: Graph\n",
            "Number of nodes: 1000\n",
            "Number of edges: 1021\n",
            "Average degree:   2.0420\n",
            "Name: \n",
            "Type: Graph\n",
            "Number of nodes: 1000\n",
            "Number of edges: 999\n",
            "Average degree:   1.9980\n"
          ],
          "name": "stdout"
        }
      ]
    },
    {
      "cell_type": "code",
      "metadata": {
        "id": "AWpMhiYE31qO"
      },
      "source": [
        "baldeER = []\n",
        "baldeBA = []\n",
        "for grado in gradosER:\n",
        "  valor = random.randint(0, grado)\n",
        "  baldeER.append(valor)\n",
        "\n",
        "for grado in gradosBA:\n",
        "  valor = random.randint(0, grado)\n",
        "  baldeBA.append(valor)"
      ],
      "execution_count": null,
      "outputs": []
    },
    {
      "cell_type": "code",
      "metadata": {
        "id": "1qYvST9Vs9ez"
      },
      "source": [
        "def checkRebalse(nodo, balde, grados):\n",
        "  return balde[nodo] > grados[nodo]\n",
        "\n",
        "def cascada(nodo, grafo, balde, grados):\n",
        "  vecinos = [n for n in grafo.neighbors(nodo)]\n",
        "  balde[nodo] -= len(vecinos)\n",
        "  total = 0\n",
        "  for vecino in vecinos:\n",
        "    grano = random.choices([1,0], [900, 100])[0]\n",
        "    balde[vecino] += grano\n",
        "    if checkRebalse(vecino, balde, grados):\n",
        "      total += 1\n",
        "      total += cascada(vecino, grafo, balde, grados)\n",
        "  return total\n",
        " "
      ],
      "execution_count": null,
      "outputs": []
    },
    {
      "cell_type": "code",
      "metadata": {
        "id": "F9CoXVpn3_7C"
      },
      "source": [
        "totalAvalanchasER = []\n",
        "for i in range(10000):\n",
        "  nodoRandom = random.randint(0, len(gradosER) - 1)\n",
        "  baldeER[nodoRandom] += 1\n",
        "  if checkRebalse(nodoRandom, baldeER, gradosER):\n",
        "    # Rebalse\n",
        "    totalAvalanchasER.append(cascada(nodoRandom, ER, baldeER, gradosER) + 1)\n",
        "\n",
        "totalAvalanchasBA = []\n",
        "for i in range(10000):\n",
        "  nodoRandom = random.randint(0, len(gradosBA) - 1)\n",
        "  baldeBA[nodoRandom] += 1\n",
        "  if checkRebalse(nodoRandom, baldeBA, gradosBA):\n",
        "    # Rebalse\n",
        "    totalAvalanchasBA.append(cascada(nodoRandom, BA, baldeBA, gradosBA) + 1)"
      ],
      "execution_count": null,
      "outputs": []
    },
    {
      "cell_type": "code",
      "metadata": {
        "colab": {
          "base_uri": "https://localhost:8080/",
          "height": 513
        },
        "id": "l2MKn-cj_lkw",
        "outputId": "bd7585b2-35a6-419a-abca-2a04b3a5b707"
      },
      "source": [
        "logbins = np.logspace(np.log10(min(totalAvalanchasER)), np.log10(max(totalAvalanchasER)), 10)\n",
        "\n",
        "plt.hist(totalAvalanchasER, bins=logbins, log = True)\n",
        "plt.show()\n",
        "\n",
        "plt.hist(totalAvalanchasBA, bins=logbins, log = True)\n",
        "plt.show()"
      ],
      "execution_count": null,
      "outputs": [
        {
          "output_type": "display_data",
          "data": {
            "image/png": "[encoded data removed]",
            "text/plain": [
              "<Figure size 432x288 with 1 Axes>"
            ]
          },
          "metadata": {
            "tags": [],
            "needs_background": "light"
          }
        },
        {
          "output_type": "display_data",
          "data": {
            "image/png": "[encoded data removed]",
            "text/plain": [
              "<Figure size 432x288 with 1 Axes>"
            ]
          },
          "metadata": {
            "tags": [],
            "needs_background": "light"
          }
        }
      ]
    },
    {
      "cell_type": "code",
      "metadata": {
        "colab": {
          "base_uri": "https://localhost:8080/",
          "height": 521
        },
        "id": "UyK3dRQp1XbQ",
        "outputId": "cc9c8b32-0e66-4ddf-9169-a4d69e2be292"
      },
      "source": [
        "c = Counter(totalAvalanchasER)\n",
        "sorted(c.items())\n",
        "plt.plot(*zip(*sorted(c.items())), 'o')\n",
        "plt.loglog()\n",
        "plt.show()\n",
        "\n",
        "c = Counter(totalAvalanchasBA)\n",
        "sorted(c.items())\n",
        "plt.plot(*zip(*sorted(c.items())), 'o')\n",
        "plt.loglog()\n",
        "plt.show()"
      ],
      "execution_count": null,
      "outputs": [
        {
          "output_type": "display_data",
          "data": {
            "image/png": "[encoded data removed]",
            "text/plain": [
              "<Figure size 432x288 with 1 Axes>"
            ]
          },
          "metadata": {
            "tags": [],
            "needs_background": "light"
          }
        },
        {
          "output_type": "display_data",
          "data": {
            "image/png": "[encoded data removed]",
            "text/plain": [
              "<Figure size 432x288 with 1 Axes>"
            ]
          },
          "metadata": {
            "tags": [],
            "needs_background": "light"
          }
        }
      ]
    },
    {
      "cell_type": "code",
      "metadata": {
        "colab": {
          "base_uri": "https://localhost:8080/"
        },
        "id": "lGDs6KPrXGEL",
        "outputId": "45a8679d-c403-4d00-ff6d-3fbb039d593d"
      },
      "source": [
        "paramMaxVer(0, totalAvalanchasER, \"Avalanchas ER\")\n",
        "paramMaxVer(0, totalAvalanchasBA, \"Avalanchas BA\")"
      ],
      "execution_count": null,
      "outputs": [
        {
          "output_type": "stream",
          "text": [
            "Valor de x_min para Avalanchas ER: 1\n",
            "Valor de alpha para Avalanchas ER: 1.978583283295631\n",
            "Valor de C para Avalanchas ER: 0.9785832832956309\n",
            "Valor de x_min para Avalanchas BA: 1\n",
            "Valor de alpha para Avalanchas BA: 2.0272440619791214\n",
            "Valor de C para Avalanchas BA: 1.0272440619791214\n"
          ],
          "name": "stdout"
        }
      ]
    },
    {
      "cell_type": "markdown",
      "metadata": {
        "id": "fo5MFLPzBUx2"
      },
      "source": [
        "# Pregunta 5"
      ]
    },
    {
      "cell_type": "code",
      "metadata": {
        "id": "0glBq40L29nx"
      },
      "source": [
        "def plotGraph(y): \n",
        "  # Basic stacked area chart.\n",
        "  t = list(range(len(y[0])))\n",
        "  plt.stackplot(t,y, labels=['Infectados','Recuperados', 'Vulnerables'])\n",
        "  plt.legend(loc='upper left')\n",
        "  plt.show()\n",
        "\n",
        "def returnY(estadoNodosTiempo):\n",
        "  y1, y2, y3 = ([], [], [])\n",
        "  t = range(len(estadoNodosTiempo))\n",
        "  for estado in estadoNodosTiempo:\n",
        "    y1.append(estado.count(0))\n",
        "    y2.append(estado.count(1))\n",
        "    y3.append(estado.count(2))\n",
        "  return [y2,y3,y1]"
      ],
      "execution_count": null,
      "outputs": []
    },
    {
      "cell_type": "code",
      "metadata": {
        "colab": {
          "base_uri": "https://localhost:8080/"
        },
        "id": "o72KWK_iBVib",
        "outputId": "9c531995-3da6-43c0-8780-e0d2320f223f"
      },
      "source": [
        "# Seeds para probar\n",
        "random.seed(2021)\n",
        "np.random.seed(2021)\n",
        "# grado promedio ER = np\n",
        "# 2 = np => 2/1000 = p\n",
        "\n",
        "ER = nx.gnp_random_graph(10000, 4/10000)\n",
        "BA = nx.barabasi_albert_graph(10000, 2)\n",
        "print(nx.info(ER))\n",
        "print(nx.info(BA))"
      ],
      "execution_count": null,
      "outputs": [
        {
          "output_type": "stream",
          "text": [
            "Name: \n",
            "Type: Graph\n",
            "Number of nodes: 10000\n",
            "Number of edges: 20176\n",
            "Average degree:   4.0352\n",
            "Name: \n",
            "Type: Graph\n",
            "Number of nodes: 10000\n",
            "Number of edges: 19996\n",
            "Average degree:   3.9992\n"
          ],
          "name": "stdout"
        }
      ]
    },
    {
      "cell_type": "markdown",
      "metadata": {
        "id": "mM8lgamgH5tH"
      },
      "source": [
        "## Estrategia 0"
      ]
    },
    {
      "cell_type": "code",
      "metadata": {
        "id": "I5fNybgCH7gC",
        "colab": {
          "base_uri": "https://localhost:8080/",
          "height": 615
        },
        "outputId": "0f4c695f-88bd-45f7-a2a3-bb132c162d84"
      },
      "source": [
        "for simulacion in range(30):\n",
        "  estadoNodos = [0] * 10000\n",
        "  contadorInfectado = [0] * 10000\n",
        "  estadoNodos[random.randint(0,9999)] = 1\n",
        "  estadoNodosTiempo = []\n",
        "  while estadoNodos.count(1) != 0:\n",
        "    estadoNodosTemp = estadoNodos.copy()\n",
        "    for i in range(10000):\n",
        "      if contadorInfectado[i] == 8:\n",
        "        estadoNodosTemp[i] = 2\n",
        "      estado = estadoNodosTemp[i] # Se checkea el estado de ese nodo\n",
        "      if estado == 1: # Esta contagiado\n",
        "        contadorInfectado[i] += 1\n",
        "        vecinos = [n for n in ER.neighbors(i)]\n",
        "        for vecino in vecinos: # Se recorren los vecinos\n",
        "          if estadoNodosTemp[vecino] == 0: # Si no esta infectado o inmune\n",
        "            contagio = random.choices([1,0], [2,8])[0]\n",
        "            if contagio:\n",
        "              estadoNodosTemp[vecino] = 1 # Se contagia el vecino\n",
        "      estadoNodos = estadoNodosTemp.copy()\n",
        "    estadoNodosTiempo.append(estadoNodos)\n",
        "  y = returnY(estadoNodosTiempo)\n",
        "  listaTiempos.append(len(y[0]))\n",
        "  listaInfectados.append(y[1][-1])\n",
        "\n",
        "y = returnY(estadoNodosTiempo)\n",
        "plotGraph(y)\n",
        "print(\"Tiempo de la epidemia: \", round(np.mean(listaTiempos)))\n",
        "print(\"Cantidad de infectados: \", round(np.mean(listaInfectados)))\n",
        "print(\"Peak de infectados: \", max(y[0]))\n",
        "\n",
        "\n",
        "# BA\n",
        "for simulacion in range(30):\n",
        "  estadoNodos = [0] * 10000\n",
        "  contadorInfectado = [0] * 10000\n",
        "  estadoNodos[random.randint(0,9999)] = 1\n",
        "  estadoNodosTiempo = []\n",
        "  while estadoNodos.count(1) != 0:\n",
        "    estadoNodosTemp = estadoNodos.copy()\n",
        "    for i in range(10000):\n",
        "      if contadorInfectado[i] == 8:\n",
        "        estadoNodosTemp[i] = 2\n",
        "      estado = estadoNodosTemp[i] # Se checkea el estado de ese nodo\n",
        "      if estado == 1: # Esta contagiado\n",
        "        contadorInfectado[i] += 1\n",
        "        vecinos = [n for n in BA.neighbors(i)]\n",
        "        for vecino in vecinos: # Se recorren los vecinos\n",
        "          if estadoNodosTemp[vecino] == 0: # Si no esta infectado o inmune\n",
        "            contagio = random.choices([1,0], [2,8])[0]\n",
        "            if contagio:\n",
        "              estadoNodosTemp[vecino] = 1 # Se contagia el vecino\n",
        "      estadoNodos = estadoNodosTemp.copy()\n",
        "    estadoNodosTiempo.append(estadoNodos)\n",
        "  y = returnY(estadoNodosTiempo)\n",
        "  listaTiempos.append(len(y[0]))\n",
        "  listaInfectados.append(y[1][-1])\n",
        "\n",
        "y = returnY(estadoNodosTiempo)\n",
        "plotGraph(y)\n",
        "print(\"Tiempo de la epidemia: \", round(np.mean(listaTiempos)))\n",
        "print(\"Cantidad de infectados: \", round(np.mean(listaInfectados)))\n",
        "print(\"Peak de infectados: \", max(y[0]))"
      ],
      "execution_count": null,
      "outputs": [
        {
          "output_type": "display_data",
          "data": {
            "image/png": "[encoded data removed]",
            "text/plain": [
              "<Figure size 432x288 with 1 Axes>"
            ]
          },
          "metadata": {
            "tags": [],
            "needs_background": "light"
          }
        },
        {
          "output_type": "stream",
          "text": [
            "Tiempo de la epidemia:  44\n",
            "Cantidad de infectados:  8716\n",
            "Peak de infectados:  8257\n"
          ],
          "name": "stdout"
        },
        {
          "output_type": "display_data",
          "data": {
            "image/png": "[encoded data removed]",
            "text/plain": [
              "<Figure size 432x288 with 1 Axes>"
            ]
          },
          "metadata": {
            "tags": [],
            "needs_background": "light"
          }
        },
        {
          "output_type": "stream",
          "text": [
            "Tiempo de la epidemia:  42\n",
            "Cantidad de infectados:  8938\n",
            "Peak de infectados:  9093\n"
          ],
          "name": "stdout"
        }
      ]
    },
    {
      "cell_type": "markdown",
      "metadata": {
        "id": "ynpleEy_IBLC"
      },
      "source": [
        "## Estrategia 1"
      ]
    },
    {
      "cell_type": "code",
      "metadata": {
        "id": "R4upX1DxIB5c",
        "colab": {
          "base_uri": "https://localhost:8080/",
          "height": 615
        },
        "outputId": "9410dbf8-1f20-4791-8f56-102520bc5874"
      },
      "source": [
        "listaTiempos = []\n",
        "listaInfectados = []\n",
        "\n",
        "for simulacion in range(30):\n",
        "  estadoNodos = [0] * 10000\n",
        "  contadorInfectado = [0] * 10000\n",
        "  estadoNodosTiempo = []\n",
        "\n",
        "  nodosAVacunar = random.sample(list(range(10000)), 500)\n",
        "  for nodo in nodosAVacunar:\n",
        "    estadoNodos[nodo] = 2\n",
        "\n",
        "  nodoInfectado = random.randint(0,9999)\n",
        "  while estadoNodos[nodoInfectado] != 2:\n",
        "    nodoInfectado = random.randint(0,9999)\n",
        "\n",
        "  estadoNodos[nodoInfectado] = 1\n",
        "\n",
        "  while estadoNodos.count(1) != 0:\n",
        "    estadoNodosTemp = estadoNodos.copy()\n",
        "    for i in range(10000):\n",
        "      if contadorInfectado[i] == 8:\n",
        "        estadoNodosTemp[i] = 2\n",
        "      estado = estadoNodosTemp[i] # Se checkea el estado de ese nodo\n",
        "      if estado == 1: # Esta contagiado\n",
        "        contadorInfectado[i] += 1\n",
        "        vecinos = [n for n in ER.neighbors(i)]\n",
        "        for vecino in vecinos: # Se recorren los vecinos\n",
        "          if estadoNodosTemp[vecino] == 0: # Si no esta infectado o inmune\n",
        "            contagio = random.choices([1,0], [2,8])[0]\n",
        "            if contagio:\n",
        "              estadoNodosTemp[vecino] = 1 # Se contagia el vecino\n",
        "      estadoNodos = estadoNodosTemp.copy()\n",
        "    estadoNodosTiempo.append(estadoNodos)\n",
        "  y = returnY(estadoNodosTiempo)\n",
        "  listaTiempos.append(len(y[0]))\n",
        "  listaInfectados.append(y[1][-1]-500)\n",
        "\n",
        "y = returnY(estadoNodosTiempo)\n",
        "plotGraph(y)\n",
        "print(\"Tiempo de la epidemia: \", round(np.mean(listaTiempos)))\n",
        "print(\"Cantidad de infectados: \", round(np.mean(listaInfectados)))\n",
        "print(\"Peak de infectados: \", max(y[0]))\n",
        "\n",
        "# BA\n",
        "listaTiempos = []\n",
        "listaInfectados = []\n",
        "\n",
        "for simulacion in range(30):\n",
        "  estadoNodos = [0] * 10000\n",
        "  contadorInfectado = [0] * 10000\n",
        "  estadoNodosTiempo = []\n",
        "\n",
        "  nodosAVacunar = random.sample(list(range(10000)), 500)\n",
        "  for nodo in nodosAVacunar:\n",
        "    estadoNodos[nodo] = 2\n",
        "\n",
        "  nodoInfectado = random.randint(0,9999)\n",
        "  while estadoNodos[nodoInfectado] != 2:\n",
        "    nodoInfectado = random.randint(0,9999)\n",
        "\n",
        "  estadoNodos[nodoInfectado] = 1\n",
        "\n",
        "  while estadoNodos.count(1) != 0:\n",
        "    estadoNodosTemp = estadoNodos.copy()\n",
        "    for i in range(10000):\n",
        "      if contadorInfectado[i] == 8:\n",
        "        estadoNodosTemp[i] = 2\n",
        "      estado = estadoNodosTemp[i] # Se checkea el estado de ese nodo\n",
        "      if estado == 1: # Esta contagiado\n",
        "        contadorInfectado[i] += 1\n",
        "        vecinos = [n for n in BA.neighbors(i)]\n",
        "        for vecino in vecinos: # Se recorren los vecinos\n",
        "          if estadoNodosTemp[vecino] == 0: # Si no esta infectado o inmune\n",
        "            contagio = random.choices([1,0], [2,8])[0]\n",
        "            if contagio:\n",
        "              estadoNodosTemp[vecino] = 1 # Se contagia el vecino\n",
        "      estadoNodos = estadoNodosTemp.copy()\n",
        "    estadoNodosTiempo.append(estadoNodos)\n",
        "  y = returnY(estadoNodosTiempo)\n",
        "  listaTiempos.append(len(y[0]))\n",
        "  listaInfectados.append(y[1][-1]-500)\n",
        "\n",
        "y = returnY(estadoNodosTiempo)\n",
        "plotGraph(y)\n",
        "print(\"Tiempo de la epidemia: \", round(np.mean(listaTiempos)))\n",
        "print(\"Cantidad de infectados: \", round(np.mean(listaInfectados)))\n",
        "print(\"Peak de infectados: \", max(y[0]))"
      ],
      "execution_count": null,
      "outputs": [
        {
          "output_type": "display_data",
          "data": {
            "image/png": "[encoded data removed]",
            "text/plain": [
              "<Figure size 432x288 with 1 Axes>"
            ]
          },
          "metadata": {
            "tags": [],
            "needs_background": "light"
          }
        },
        {
          "output_type": "stream",
          "text": [
            "Tiempo de la epidemia:  44\n",
            "Cantidad de infectados:  9047\n",
            "Peak de infectados:  7510\n"
          ],
          "name": "stdout"
        },
        {
          "output_type": "display_data",
          "data": {
            "image/png": "[encoded data removed]",
            "text/plain": [
              "<Figure size 432x288 with 1 Axes>"
            ]
          },
          "metadata": {
            "tags": [],
            "needs_background": "light"
          }
        },
        {
          "output_type": "stream",
          "text": [
            "Tiempo de la epidemia:  36\n",
            "Cantidad de infectados:  9249\n",
            "Peak de infectados:  8451\n"
          ],
          "name": "stdout"
        }
      ]
    },
    {
      "cell_type": "markdown",
      "metadata": {
        "id": "shV1Sj5nIqVY"
      },
      "source": [
        "## Estrategia 2"
      ]
    },
    {
      "cell_type": "code",
      "metadata": {
        "colab": {
          "base_uri": "https://localhost:8080/",
          "height": 615
        },
        "id": "68qh-WacIq9J",
        "outputId": "95dce32f-3f05-4f2d-834a-edcfca27ee20"
      },
      "source": [
        "for simulacion in range(30):\n",
        "  estadoNodos = [0] * 10000\n",
        "  contadorInfectado = [0] * 10000\n",
        "  estadoNodosTiempo = []\n",
        "\n",
        "  listaAVacunar = sorted(ER.degree, key=lambda x: x[1], reverse=True)[:500]\n",
        "  for nodo, grado in listaAVacunar:\n",
        "    estadoNodos[nodo] = 2\n",
        "\n",
        "  while True:\n",
        "    nodoInfectado = random.randint(0,9999)\n",
        "    if estadoNodos[nodoInfectado] != 2:\n",
        "      break\n",
        "  estadoNodos[nodoInfectado] = 1\n",
        "\n",
        "\n",
        "  while estadoNodos.count(1) != 0:\n",
        "    estadoNodosTemp = estadoNodos.copy()\n",
        "    for i in range(10000):\n",
        "      if contadorInfectado[i] == 8:\n",
        "        estadoNodosTemp[i] = 2\n",
        "      estado = estadoNodosTemp[i] # Se checkea el estado de ese nodo\n",
        "      if estado == 1: # Esta contagiado\n",
        "        contadorInfectado[i] += 1\n",
        "        vecinos = [n for n in ER.neighbors(i)]\n",
        "        for vecino in vecinos: # Se recorren los vecinos\n",
        "          if estadoNodosTemp[vecino] == 0: # Si no esta infectado o inmune\n",
        "            contagio = random.choices([1,0], [2,8])[0]\n",
        "            if contagio:\n",
        "              estadoNodosTemp[vecino] = 1 # Se contagia el vecino\n",
        "      estadoNodos = estadoNodosTemp.copy()\n",
        "    estadoNodosTiempo.append(estadoNodos)\n",
        "  y = returnY(estadoNodosTiempo)\n",
        "  listaTiempos.append(len(y[0]))\n",
        "  listaInfectados.append(y[1][-1]-500)\n",
        "\n",
        "y = returnY(estadoNodosTiempo)\n",
        "plotGraph(y)\n",
        "print(\"Tiempo de la epidemia: \", round(np.mean(listaTiempos)))\n",
        "print(\"Cantidad de infectados: \", round(np.mean(listaInfectados)))\n",
        "print(\"Peak de infectados: \", max(y[0]))\n",
        "\n",
        "# BA\n",
        "for simulacion in range(30):\n",
        "  estadoNodos = [0] * 10000\n",
        "  contadorInfectado = [0] * 10000\n",
        "  estadoNodosTiempo = []\n",
        "\n",
        "  listaAVacunar = sorted(BA.degree, key=lambda x: x[1], reverse=True)[:500]\n",
        "  for nodo, grado in listaAVacunar:\n",
        "    estadoNodos[nodo] = 2\n",
        "\n",
        "  while True:\n",
        "    nodoInfectado = random.randint(0,9999)\n",
        "    if estadoNodos[nodoInfectado] != 2:\n",
        "      break\n",
        "  estadoNodos[nodoInfectado] = 1\n",
        "\n",
        "\n",
        "  while estadoNodos.count(1) != 0:\n",
        "    estadoNodosTemp = estadoNodos.copy()\n",
        "    for i in range(10000):\n",
        "      if contadorInfectado[i] == 8:\n",
        "        estadoNodosTemp[i] = 2\n",
        "      estado = estadoNodosTemp[i] # Se checkea el estado de ese nodo\n",
        "      if estado == 1: # Esta contagiado\n",
        "        contadorInfectado[i] += 1\n",
        "        vecinos = [n for n in BA.neighbors(i)]\n",
        "        for vecino in vecinos: # Se recorren los vecinos\n",
        "          if estadoNodosTemp[vecino] == 0: # Si no esta infectado o inmune\n",
        "            contagio = random.choices([1,0], [2,8])[0]\n",
        "            if contagio:\n",
        "              estadoNodosTemp[vecino] = 1 # Se contagia el vecino\n",
        "      estadoNodos = estadoNodosTemp.copy()\n",
        "    estadoNodosTiempo.append(estadoNodos)\n",
        "  y = returnY(estadoNodosTiempo)\n",
        "  listaTiempos.append(len(y[0]))\n",
        "  listaInfectados.append(y[1][-1]-500)\n",
        "\n",
        "y = returnY(estadoNodosTiempo)\n",
        "plotGraph(y)\n",
        "print(\"Tiempo de la epidemia: \", round(np.mean(listaTiempos)))\n",
        "print(\"Cantidad de infectados: \", round(np.mean(listaInfectados)))\n",
        "print(\"Peak de infectados: \", max(y[0]))\n",
        "\n"
      ],
      "execution_count": null,
      "outputs": [
        {
          "output_type": "display_data",
          "data": {
            "image/png": "[encoded data removed]",
            "text/plain": [
              "<Figure size 432x288 with 1 Axes>"
            ]
          },
          "metadata": {
            "tags": [],
            "needs_background": "light"
          }
        },
        {
          "output_type": "stream",
          "text": [
            "Tiempo de la epidemia:  40\n",
            "Cantidad de infectados:  8630\n",
            "Peak de infectados:  6602\n"
          ],
          "name": "stdout"
        },
        {
          "output_type": "display_data",
          "data": {
            "image/png": "[encoded data removed]",
            "text/plain": [
              "<Figure size 432x288 with 1 Axes>"
            ]
          },
          "metadata": {
            "tags": [],
            "needs_background": "light"
          }
        },
        {
          "output_type": "stream",
          "text": [
            "Tiempo de la epidemia:  47\n",
            "Cantidad de infectados:  7442\n",
            "Peak de infectados:  3120\n"
          ],
          "name": "stdout"
        }
      ]
    },
    {
      "cell_type": "markdown",
      "metadata": {
        "id": "q1ZRI-lgLUe1"
      },
      "source": [
        "## Estrategia 3"
      ]
    },
    {
      "cell_type": "code",
      "metadata": {
        "id": "9b4wtAkLLVdV",
        "colab": {
          "base_uri": "https://localhost:8080/",
          "height": 615
        },
        "outputId": "cea4193a-5dde-494c-a1e8-58932a8e63d2"
      },
      "source": [
        "for simulacion in range(30):\n",
        "  estadoNodosTiempo = []\n",
        "  estadoNodos = [0] * 10000\n",
        "  contadorInfectado = [0] * 10000\n",
        "  cantidadVacunas = 500\n",
        "  while True:\n",
        "    nodo = random.randint(0, 9999)\n",
        "    if estadoNodos[nodo] != 2:\n",
        "      if cantidadVacunas == 0:\n",
        "        break\n",
        "      estadoNodos[nodo] = 2\n",
        "      cantidadVacunas -= 1\n",
        "      vecinos = [n for n in ER.neighbors(nodo)]\n",
        "      for vecino in vecinos:\n",
        "        if cantidadVacunas == 0:\n",
        "          break\n",
        "        if estadoNodos[vecino] != 2:\n",
        "          estadoNodos[vecino] = 2\n",
        "          cantidadVacunas -= 1\n",
        "\n",
        "  while True:\n",
        "    nodoInfectado = random.randint(0,9999)\n",
        "    if estadoNodos[nodoInfectado] != 2:\n",
        "      break\n",
        "  estadoNodos[nodoInfectado] = 1\n",
        "\n",
        "\n",
        "  while estadoNodos.count(1) != 0:\n",
        "    estadoNodosTemp = estadoNodos.copy()\n",
        "    for i in range(10000):\n",
        "      if contadorInfectado[i] == 8:\n",
        "        estadoNodosTemp[i] = 2\n",
        "      estado = estadoNodosTemp[i] # Se checkea el estado de ese nodo\n",
        "      if estado == 1: # Esta contagiado\n",
        "        contadorInfectado[i] += 1\n",
        "        vecinos = [n for n in ER.neighbors(i)]\n",
        "        for vecino in vecinos: # Se recorren los vecinos\n",
        "          if estadoNodosTemp[vecino] == 0: # Si no esta infectado o inmune\n",
        "            contagio = random.choices([1,0], [2,8])[0]\n",
        "            if contagio:\n",
        "              estadoNodosTemp[vecino] = 1 # Se contagia el vecino\n",
        "      estadoNodos = estadoNodosTemp.copy()\n",
        "    estadoNodosTiempo.append(estadoNodos)\n",
        "  y = returnY(estadoNodosTiempo)\n",
        "  listaTiempos.append(len(y[0]))\n",
        "  listaInfectados.append(y[1][-1]-500)\n",
        "\n",
        "y = returnY(estadoNodosTiempo)\n",
        "plotGraph(y)\n",
        "print(\"Tiempo de la epidemia: \", round(np.mean(listaTiempos)))\n",
        "print(\"Cantidad de infectados: \", round(np.mean(listaInfectados)))\n",
        "print(\"Peak de infectados: \", max(y[0]))\n",
        "\n",
        "# BA\n",
        "for simulacion in range(30):\n",
        "  estadoNodosTiempo = []\n",
        "  estadoNodos = [0] * 10000\n",
        "  contadorInfectado = [0] * 10000\n",
        "  cantidadVacunas = 500\n",
        "  while True:\n",
        "    nodo = random.randint(0, 9999)\n",
        "    if estadoNodos[nodo] != 2:\n",
        "      if cantidadVacunas == 0:\n",
        "        break\n",
        "      estadoNodos[nodo] = 2\n",
        "      cantidadVacunas -= 1\n",
        "      vecinos = [n for n in BA.neighbors(nodo)]\n",
        "      for vecino in vecinos:\n",
        "        if cantidadVacunas == 0:\n",
        "          break\n",
        "        if estadoNodos[vecino] != 2:\n",
        "          estadoNodos[vecino] = 2\n",
        "          cantidadVacunas -= 1\n",
        "\n",
        "  while True:\n",
        "    nodoInfectado = random.randint(0,9999)\n",
        "    if estadoNodos[nodoInfectado] != 2:\n",
        "      break\n",
        "  estadoNodos[nodoInfectado] = 1\n",
        "\n",
        "\n",
        "  while estadoNodos.count(1) != 0:\n",
        "    estadoNodosTemp = estadoNodos.copy()\n",
        "    for i in range(10000):\n",
        "      if contadorInfectado[i] == 8:\n",
        "        estadoNodosTemp[i] = 2\n",
        "      estado = estadoNodosTemp[i] # Se checkea el estado de ese nodo\n",
        "      if estado == 1: # Esta contagiado\n",
        "        contadorInfectado[i] += 1\n",
        "        vecinos = [n for n in BA.neighbors(i)]\n",
        "        for vecino in vecinos: # Se recorren los vecinos\n",
        "          if estadoNodosTemp[vecino] == 0: # Si no esta infectado o inmune\n",
        "            contagio = random.choices([1,0], [2,8])[0]\n",
        "            if contagio:\n",
        "              estadoNodosTemp[vecino] = 1 # Se contagia el vecino\n",
        "      estadoNodos = estadoNodosTemp.copy()\n",
        "    estadoNodosTiempo.append(estadoNodos)\n",
        "  y = returnY(estadoNodosTiempo)\n",
        "  listaTiempos.append(len(y[0]))\n",
        "  listaInfectados.append(y[1][-1]-500)\n",
        "\n",
        "y = returnY(estadoNodosTiempo)\n",
        "plotGraph(y)\n",
        "print(\"Tiempo de la epidemia: \", round(np.mean(listaTiempos)))\n",
        "print(\"Cantidad de infectados: \", round(np.mean(listaInfectados)))\n",
        "print(\"Peak de infectados: \", max(y[0]))"
      ],
      "execution_count": null,
      "outputs": [
        {
          "output_type": "display_data",
          "data": {
            "image/png": "[encoded data removed]",
            "text/plain": [
              "<Figure size 432x288 with 1 Axes>"
            ]
          },
          "metadata": {
            "tags": [],
            "needs_background": "light"
          }
        },
        {
          "output_type": "stream",
          "text": [
            "Tiempo de la epidemia:  45\n",
            "Cantidad de infectados:  8087\n",
            "Peak de infectados:  7499\n"
          ],
          "name": "stdout"
        },
        {
          "output_type": "display_data",
          "data": {
            "image/png": "[encoded data removed]",
            "text/plain": [
              "<Figure size 432x288 with 1 Axes>"
            ]
          },
          "metadata": {
            "tags": [],
            "needs_background": "light"
          }
        },
        {
          "output_type": "stream",
          "text": [
            "Tiempo de la epidemia:  45\n",
            "Cantidad de infectados:  8218\n",
            "Peak de infectados:  7698\n"
          ],
          "name": "stdout"
        }
      ]
    }
  ]
}