{
 "metadata": {
  "language_info": {
   "codemirror_mode": {
    "name": "ipython",
    "version": 3
   },
   "file_extension": ".py",
   "mimetype": "text/x-python",
   "name": "python",
   "nbconvert_exporter": "python",
   "pygments_lexer": "ipython3",
   "version": "3.9.5"
  },
  "orig_nbformat": 2,
  "kernelspec": {
   "name": "python3",
   "display_name": "Python 3",
   "language": "python"
  },
  "interpreter": {
   "hash": "31f2aee4e71d21fbe5cf8b01ff0e069b9275f58929596ceb00d14d90e3e16cd6"
  }
 },
 "nbformat": 4,
 "nbformat_minor": 2,
 "cells": [
  {
   "cell_type": "code",
   "execution_count": 1,
   "metadata": {},
   "outputs": [],
   "source": [
    "import numpy as np\n",
    "import networkx as nx\n",
    "import community as community_louvain\n",
    "import matplotlib.pyplot as plt\n",
    "import networkx.algorithms.community as nx_comm"
   ]
  },
  {
   "source": [
    "# Pregunta 4"
   ],
   "cell_type": "markdown",
   "metadata": {}
  },
  {
   "cell_type": "code",
   "execution_count": 27,
   "metadata": {},
   "outputs": [],
   "source": [
    "# Leyendo la red con la que se trabajara\n",
    "name = \"Redes/06.net\"\n",
    "\n",
    "G = nx.read_weighted_edgelist(name)\n",
    "G.remove_edges_from(nx.selfloop_edges(G))\n",
    "G = G.to_undirected()"
   ]
  },
  {
   "cell_type": "code",
   "execution_count": 28,
   "metadata": {},
   "outputs": [
    {
     "output_type": "execute_result",
     "data": {
      "text/plain": [
       "[<networkx.classes.graph.Graph at 0x7f45dc07fb50>,\n",
       " <networkx.classes.graph.Graph at 0x7f45dc07fdc0>,\n",
       " <networkx.classes.graph.Graph at 0x7f45dc07f370>,\n",
       " <networkx.classes.graph.Graph at 0x7f45e7c2abe0>,\n",
       " <networkx.classes.graph.Graph at 0x7f45dc07f7c0>,\n",
       " <networkx.classes.graph.Graph at 0x7f45dc07fe50>,\n",
       " <networkx.classes.graph.Graph at 0x7f45dc07f550>,\n",
       " <networkx.classes.graph.Graph at 0x7f45dc07fdf0>,\n",
       " <networkx.classes.graph.Graph at 0x7f45dc07fc10>,\n",
       " <networkx.classes.graph.Graph at 0x7f45dc07f160>]"
      ]
     },
     "metadata": {},
     "execution_count": 28
    }
   ],
   "source": [
    "# Obteniendo la distribucion de grados de la red de la tarea 1\n",
    "degree_sequence = sorted([d for n, d in G.degree()], reverse=True)\n",
    "\n",
    "# Creando una lista con 10 redes aleatoreas con la misma distribucion de grados\n",
    "grafos = [nx.Graph(nx.configuration_model([d for v, d in G.degree()])) for i in range(10)]\n",
    "\n",
    "# Removiendo los self loops\n",
    "for g in grafos:\n",
    "    g.remove_edges_from(nx.selfloop_edges(g))\n",
    "\n",
    "grafos"
   ]
  },
  {
   "source": [
    "## Núcleo/Periferia"
   ],
   "cell_type": "markdown",
   "metadata": {}
  },
  {
   "cell_type": "code",
   "execution_count": 29,
   "metadata": {},
   "outputs": [],
   "source": [
    "# Recibe un grafo y retorna el maximo k-core\n",
    "def get_max_core_numb(G):\n",
    "    core_numbers = nx.core_number(G)\n",
    "    if len(core_numbers) == 0:\n",
    "        return 0\n",
    "    return sorted(core_numbers.items(), key=lambda item: item[1], reverse=True)[0][1]\n",
    "\n",
    "# Recibe una red y retorna una tupla con el sub-grafo correspondiente\n",
    "# a la k-shell pedida y el numero de nodos de esta\n",
    "def get_k_shell(G, k):\n",
    "    k_shell = nx.algorithms.core.k_core(G, k=k)\n",
    "    n_vertex = k_shell.number_of_nodes()\n",
    "\n",
    "    return (k_shell, n_vertex)"
   ]
  },
  {
   "cell_type": "code",
   "execution_count": 30,
   "metadata": {},
   "outputs": [
    {
     "output_type": "stream",
     "name": "stdout",
     "text": [
      "El K-core mas profundo es 20\n",
      "y la cantidad de nodos en cada k-shell es:\n",
      "k-shell 0: 1900\n",
      "k-shell 1: 1900\n",
      "k-shell 2: 1498\n",
      "k-shell 3: 1270\n",
      "k-shell 4: 1129\n",
      "k-shell 5: 1011\n",
      "k-shell 6: 911\n",
      "k-shell 7: 836\n",
      "k-shell 8: 782\n",
      "k-shell 9: 718\n",
      "k-shell 10: 659\n",
      "k-shell 11: 615\n",
      "k-shell 12: 558\n",
      "k-shell 13: 519\n",
      "k-shell 14: 487\n",
      "k-shell 15: 424\n",
      "k-shell 16: 370\n",
      "k-shell 17: 341\n",
      "k-shell 18: 288\n",
      "k-shell 19: 233\n",
      "k-shell 20: 201\n"
     ]
    }
   ],
   "source": [
    "# Para la red de la tarea pasada\n",
    "k = get_max_core_numb(G)\n",
    "print(f\"El K-core mas profundo es {k}\")\n",
    "print(\"y la cantidad de nodos en cada k-shell es:\")\n",
    "\n",
    "for i in range(k+1):\n",
    "    print(f\"k-shell {i}: {get_k_shell(G, i)[1]}\")"
   ]
  },
  {
   "cell_type": "code",
   "execution_count": 31,
   "metadata": {},
   "outputs": [
    {
     "output_type": "stream",
     "name": "stdout",
     "text": [
      "Para la red generada aleatoreamente numero 1 la profundidad es 18\n",
      "y el tamano de sus shells son\n",
      "[1900, 1900, 1497, 1272, 1124, 1005, 904, 831, 767, 684, 650, 590, 535, 475, 430, 353, 308, 274, 172]\n",
      "\n",
      "\n",
      "Para la red generada aleatoreamente numero 2 la profundidad es 18\n",
      "y el tamano de sus shells son\n",
      "[1900, 1900, 1500, 1268, 1115, 997, 901, 823, 767, 707, 652, 591, 526, 462, 425, 379, 298, 261, 217]\n",
      "\n",
      "\n",
      "Para la red generada aleatoreamente numero 3 la profundidad es 19\n",
      "y el tamano de sus shells son\n",
      "[1900, 1900, 1499, 1274, 1130, 1001, 908, 820, 761, 701, 653, 592, 525, 486, 431, 375, 299, 253, 180, 127]\n",
      "\n",
      "\n",
      "Para la red generada aleatoreamente numero 4 la profundidad es 19\n",
      "y el tamano de sus shells son\n",
      "[1900, 1900, 1496, 1265, 1133, 999, 914, 821, 762, 704, 644, 584, 531, 482, 420, 368, 310, 257, 217, 153]\n",
      "\n",
      "\n",
      "Para la red generada aleatoreamente numero 5 la profundidad es 18\n",
      "y el tamano de sus shells son\n",
      "[1900, 1900, 1499, 1266, 1132, 999, 903, 825, 769, 702, 641, 585, 539, 479, 435, 385, 324, 260, 201]\n",
      "\n",
      "\n",
      "Para la red generada aleatoreamente numero 6 la profundidad es 18\n",
      "y el tamano de sus shells son\n",
      "[1900, 1900, 1496, 1273, 1120, 1010, 910, 827, 754, 696, 640, 574, 530, 475, 432, 356, 311, 279, 195]\n",
      "\n",
      "\n",
      "Para la red generada aleatoreamente numero 7 la profundidad es 18\n",
      "y el tamano de sus shells son\n",
      "[1900, 1900, 1500, 1268, 1118, 1006, 903, 830, 771, 710, 655, 598, 536, 479, 439, 376, 300, 272, 178]\n",
      "\n",
      "\n",
      "Para la red generada aleatoreamente numero 8 la profundidad es 18\n",
      "y el tamano de sus shells son\n",
      "[1900, 1900, 1503, 1266, 1124, 1002, 898, 830, 763, 699, 644, 599, 528, 495, 430, 368, 317, 244, 210]\n",
      "\n",
      "\n",
      "Para la red generada aleatoreamente numero 9 la profundidad es 18\n",
      "y el tamano de sus shells son\n",
      "[1900, 1900, 1495, 1265, 1118, 1000, 900, 825, 771, 699, 642, 578, 526, 484, 433, 367, 311, 245, 199]\n",
      "\n",
      "\n",
      "Para la red generada aleatoreamente numero 10 la profundidad es 18\n",
      "y el tamano de sus shells son\n",
      "[1900, 1900, 1501, 1267, 1131, 999, 906, 829, 766, 711, 639, 571, 521, 478, 431, 372, 310, 270, 208]\n",
      "\n",
      "\n"
     ]
    }
   ],
   "source": [
    "# Ahora para las redes generadas\n",
    "count = 1\n",
    "for g in grafos:\n",
    "    k_shells = []\n",
    "    k = get_max_core_numb(g)\n",
    "    for i in range(k+1):\n",
    "        k_shells.append(get_k_shell(g, i)[1])\n",
    "\n",
    "    print(f\"Para la red generada aleatoreamente numero {count} la profundidad es {k}\\ny el tamano de sus shells son\")\n",
    "    print(k_shells)\n",
    "    print('\\n')\n",
    "    count += 1"
   ]
  },
  {
   "source": [
    "## Comunidades"
   ],
   "cell_type": "markdown",
   "metadata": {}
  },
  {
   "cell_type": "code",
   "execution_count": 6,
   "metadata": {},
   "outputs": [],
   "source": [
    "# Recibe una red y retorna una tupla con\n",
    "# total de comunidades\n",
    "# diccionario con tamanos de comunidades\n",
    "# las comunidades mismas\n",
    "def get_communities(G):\n",
    "    com = community_louvain.best_partition(G)\n",
    "    partion = com.items()\n",
    "    total = 0\n",
    "    count = {}\n",
    "    for label, c in partion:\n",
    "        if c not in count.keys():\n",
    "            count[c] = 0\n",
    "            total += 1\n",
    "        count[c] += 1\n",
    "\n",
    "    return total, count, com\n",
    "\n",
    "# Recibe la red y las comunidades\n",
    "# retorna la modularidad\n",
    "def modularity(G, c):\n",
    "    return community_louvain.modularity(c, G)"
   ]
  },
  {
   "cell_type": "code",
   "execution_count": 41,
   "metadata": {},
   "outputs": [
    {
     "output_type": "stream",
     "name": "stdout",
     "text": [
      "Nuestra red tiene 17 comunidades y cada comunidad tiene\n{0: 233, 2: 195, 15: 163, 4: 321, 5: 68, 6: 83, 7: 81, 8: 82, 3: 100, 10: 179, 1: 205, 14: 62, 16: 92, 11: 30, 9: 2, 12: 2, 13: 2}\n\nLa modularidad es de 0.3391261528696944\n"
     ]
    }
   ],
   "source": [
    "total_com, count, c = get_communities(G)\n",
    "print(f\"Nuestra red tiene {total_com} comunidades y cada comunidad tiene\\n{count}\\n\")\n",
    "print(f\"La modularidad es de {modularity(G, c)}\")"
   ]
  },
  {
   "cell_type": "code",
   "execution_count": 42,
   "metadata": {},
   "outputs": [
    {
     "output_type": "stream",
     "name": "stdout",
     "text": [
      "La red generada aleatoreamente numero 1 tiene una modularidad de 0.21120923482570847\n",
      "y sus comunidades unos tamanos de\n",
      "{1: 264, 13: 235, 4: 44, 3: 127, 0: 211, 5: 289, 6: 297, 7: 88, 2: 24, 9: 219, 10: 91, 12: 2, 8: 2, 11: 3, 14: 2, 15: 2}\n",
      "\n",
      "\n",
      "La red generada aleatoreamente numero 2 tiene una modularidad de 0.2091931264427905\n",
      "y sus comunidades unos tamanos de\n",
      "{0: 285, 16: 148, 2: 219, 3: 161, 4: 172, 5: 202, 6: 204, 14: 211, 8: 136, 15: 94, 10: 46, 13: 10, 17: 2, 1: 2, 7: 2, 9: 2, 11: 2, 12: 2}\n",
      "\n",
      "\n",
      "La red generada aleatoreamente numero 3 tiene una modularidad de 0.20373050808515525\n",
      "y sus comunidades unos tamanos de\n",
      "{0: 114, 1: 272, 2: 315, 3: 280, 4: 311, 5: 72, 6: 73, 7: 84, 8: 141, 9: 12, 10: 44, 13: 106, 12: 70, 14: 2, 15: 2, 11: 2}\n",
      "\n",
      "\n",
      "La red generada aleatoreamente numero 4 tiene una modularidad de 0.20600747543021533\n",
      "y sus comunidades unos tamanos de\n",
      "{12: 165, 1: 301, 2: 276, 3: 336, 5: 158, 6: 55, 7: 309, 10: 75, 11: 91, 9: 82, 4: 25, 8: 23, 13: 2, 0: 2}\n",
      "\n",
      "\n",
      "La red generada aleatoreamente numero 5 tiene una modularidad de 0.20937730628540718\n",
      "y sus comunidades unos tamanos de\n",
      "{11: 326, 1: 269, 6: 270, 12: 116, 9: 142, 5: 282, 2: 66, 3: 228, 0: 85, 10: 68, 4: 40, 7: 2, 8: 2, 13: 2, 14: 2}\n",
      "\n",
      "\n",
      "La red generada aleatoreamente numero 6 tiene una modularidad de 0.2057230583060448\n",
      "y sus comunidades unos tamanos de\n",
      "{0: 305, 1: 73, 2: 239, 7: 73, 4: 165, 5: 104, 6: 307, 9: 237, 10: 115, 3: 90, 12: 55, 13: 129, 8: 4, 11: 2, 14: 2}\n",
      "\n",
      "\n",
      "La red generada aleatoreamente numero 7 tiene una modularidad de 0.2052160404680447\n",
      "y sus comunidades unos tamanos de\n",
      "{7: 204, 1: 161, 5: 236, 3: 200, 9: 164, 6: 275, 0: 44, 8: 235, 10: 153, 2: 108, 13: 92, 4: 24, 11: 2, 12: 2}\n",
      "\n",
      "\n",
      "La red generada aleatoreamente numero 8 tiene una modularidad de 0.20613929574383358\n",
      "y sus comunidades unos tamanos de\n",
      "{0: 186, 17: 98, 2: 299, 3: 286, 4: 243, 5: 128, 13: 105, 7: 244, 8: 43, 9: 133, 11: 45, 10: 78, 1: 2, 6: 2, 12: 2, 14: 2, 15: 2, 16: 2}\n",
      "\n",
      "\n",
      "La red generada aleatoreamente numero 9 tiene una modularidad de 0.20864890727327245\n",
      "y sus comunidades unos tamanos de\n",
      "{0: 291, 1: 223, 3: 129, 11: 74, 4: 230, 2: 72, 6: 211, 7: 271, 5: 197, 10: 17, 8: 173, 9: 8, 12: 2, 13: 2}\n",
      "\n",
      "\n",
      "La red generada aleatoreamente numero 10 tiene una modularidad de 0.2063757718821071\n",
      "y sus comunidades unos tamanos de\n",
      "{0: 285, 1: 188, 2: 272, 3: 45, 4: 171, 5: 98, 6: 227, 7: 210, 8: 185, 9: 119, 10: 67, 11: 33}\n",
      "\n",
      "\n"
     ]
    }
   ],
   "source": [
    "i = 1\n",
    "for g in grafos:\n",
    "    total_com, count, c = get_communities(g)\n",
    "    print(f\"La red generada aleatoreamente numero {i} tiene una modularidad de {modularity(g, c)}\\ny sus comunidades unos tamanos de\")\n",
    "    print(count)\n",
    "    print('\\n')\n",
    "    i += 1"
   ]
  },
  {
   "source": [
    "## Asortatividad"
   ],
   "cell_type": "markdown",
   "metadata": {}
  },
  {
   "source": [],
   "cell_type": "markdown",
   "metadata": {}
  },
  {
   "cell_type": "code",
   "execution_count": 8,
   "metadata": {},
   "outputs": [],
   "source": [
    "# Recibe la red y retorna la asortatividad de esta\n",
    "def get_assortativity(G):\n",
    "    return nx.algorithms.assortativity.degree_assortativity_coefficient(G)"
   ]
  },
  {
   "cell_type": "code",
   "execution_count": 43,
   "metadata": {},
   "outputs": [
    {
     "output_type": "stream",
     "name": "stdout",
     "text": [
      "Para nuestra red la asortatividad tiene un valor de -0.18774535203534626\n"
     ]
    }
   ],
   "source": [
    "print(f\"Para nuestra red la asortatividad tiene un valor de {get_assortativity(G)}\")"
   ]
  },
  {
   "cell_type": "code",
   "execution_count": 44,
   "metadata": {},
   "outputs": [
    {
     "output_type": "stream",
     "name": "stdout",
     "text": [
      "Para la red aleatorea numero 1 la asortatividad es de -0.05105129709184397\n",
      "Para la red aleatorea numero 2 la asortatividad es de -0.043249284168601014\n",
      "Para la red aleatorea numero 3 la asortatividad es de -0.05586405397878551\n",
      "Para la red aleatorea numero 4 la asortatividad es de -0.04933978768369058\n",
      "Para la red aleatorea numero 5 la asortatividad es de -0.06392228036899436\n",
      "Para la red aleatorea numero 6 la asortatividad es de -0.05368412217967895\n",
      "Para la red aleatorea numero 7 la asortatividad es de -0.05144678173657758\n",
      "Para la red aleatorea numero 8 la asortatividad es de -0.047240815828680116\n",
      "Para la red aleatorea numero 9 la asortatividad es de -0.04286604240979361\n",
      "Para la red aleatorea numero 10 la asortatividad es de -0.04948243207566942\n"
     ]
    }
   ],
   "source": [
    "i = 1\n",
    "for g in grafos:\n",
    "    print(f\"Para la red aleatorea numero {i} la asortatividad es de {get_assortativity(g)}\")\n",
    "    i += 1"
   ]
  },
  {
   "cell_type": "code",
   "execution_count": null,
   "metadata": {},
   "outputs": [],
   "source": []
  }
 ]
}