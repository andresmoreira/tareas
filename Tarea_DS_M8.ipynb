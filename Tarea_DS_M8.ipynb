{
 "cells": [
  {
   "cell_type": "code",
   "execution_count": 1,
   "id": "7d487040",
   "metadata": {},
   "outputs": [],
   "source": [
    "#Paquetes importados\n",
    "\n",
    "import networkx as nx\n",
    "from networkx.algorithms.community import label_propagation_communities\n",
    "import networkx.algorithms.community as nx_comm\n",
    "import openpyxl\n",
    "import pandas as pd\n",
    "\n",
    "df = pd.DataFrame()"
   ]
  },
  {
   "cell_type": "markdown",
   "id": "6f0d0d32",
   "metadata": {},
   "source": [
    "## Análisis previo"
   ]
  },
  {
   "cell_type": "markdown",
   "id": "e6cc345e",
   "metadata": {},
   "source": [
    "### Lectura de la red de estudio"
   ]
  },
  {
   "cell_type": "code",
   "execution_count": 2,
   "id": "4cd225f4",
   "metadata": {},
   "outputs": [],
   "source": [
    "G0 = nx.read_pajek(\"1919.net\")\n",
    "G0 = G0.to_undirected()"
   ]
  },
  {
   "cell_type": "markdown",
   "id": "a5c45b7e",
   "metadata": {},
   "source": [
    "### Descomposición en comunidades con un algoritmo de Lovaina"
   ]
  },
  {
   "cell_type": "code",
   "execution_count": 3,
   "id": "fd69db20",
   "metadata": {},
   "outputs": [],
   "source": [
    "c0 = nx_comm.louvain_communities(G0)"
   ]
  },
  {
   "cell_type": "markdown",
   "id": "f24ffdff",
   "metadata": {},
   "source": [
    "### Evalúo la modularidad de esa partición en comunidades"
   ]
  },
  {
   "cell_type": "code",
   "execution_count": 4,
   "id": "8a0eb72c",
   "metadata": {},
   "outputs": [
    {
     "data": {
      "text/plain": [
       "0.3478952896973566"
      ]
     },
     "execution_count": 4,
     "metadata": {},
     "output_type": "execute_result"
    }
   ],
   "source": [
    "q0=nx_comm.modularity(G0, c0)\n",
    "q0"
   ]
  },
  {
   "cell_type": "markdown",
   "id": "3d142a7b",
   "metadata": {},
   "source": [
    "#### El valor de la modularidad, para este caso, es prácticamente igual al obtenido mediante Gephi."
   ]
  },
  {
   "cell_type": "markdown",
   "id": "b39bc7d3",
   "metadata": {},
   "source": [
    "### Obtengo la lista de nodos de la componente conexa más grande"
   ]
  },
  {
   "cell_type": "code",
   "execution_count": 5,
   "id": "d449f434",
   "metadata": {},
   "outputs": [],
   "source": [
    "giant0 = max(nx.connected_components(G0), key=len)"
   ]
  },
  {
   "cell_type": "markdown",
   "id": "7c0d82fe",
   "metadata": {},
   "source": [
    "### Obtengo el subgrafo consistente SOLO en la componente gigante"
   ]
  },
  {
   "cell_type": "code",
   "execution_count": 6,
   "id": "a3f9dd8a",
   "metadata": {},
   "outputs": [],
   "source": [
    "S0 = G0.subgraph(max(nx.connected_components(G0), key=len)).copy()"
   ]
  },
  {
   "cell_type": "code",
   "execution_count": 7,
   "id": "def6dc76",
   "metadata": {},
   "outputs": [],
   "source": [
    "# A veces hay aristas repetidas y networkx lee el archivo como\n",
    "# \"multigrafo\", para el cual no funciona k-cores. Así que genero\n",
    "# acá una copia simplificada.\n",
    "Gsimp0 = nx.Graph()\n",
    "for u,v,data in G0.edges(data=True):\n",
    "    if not Gsimp0.has_edge(u,v):\n",
    "        Gsimp0.add_edge(u, v)"
   ]
  },
  {
   "cell_type": "code",
   "execution_count": 8,
   "id": "d3144de2",
   "metadata": {},
   "outputs": [
    {
     "data": {
      "text/plain": [
       "0.35677108744544755"
      ]
     },
     "execution_count": 8,
     "metadata": {},
     "output_type": "execute_result"
    }
   ],
   "source": [
    "c00 = nx_comm.louvain_communities(Gsimp0)\n",
    "q00=nx_comm.modularity(Gsimp0, c00)\n",
    "q00"
   ]
  },
  {
   "cell_type": "markdown",
   "id": "4335bd23",
   "metadata": {},
   "source": [
    "### Veo el tamaño del k-core y su profundidad"
   ]
  },
  {
   "cell_type": "code",
   "execution_count": 9,
   "id": "9bc69c5a",
   "metadata": {},
   "outputs": [
    {
     "data": {
      "text/plain": [
       "31"
      ]
     },
     "execution_count": 9,
     "metadata": {},
     "output_type": "execute_result"
    }
   ],
   "source": [
    "k0=len(nx.k_core(Gsimp0))\n",
    "kcore1=len(nx.k_core(Gsimp0,1))\n",
    "kcore2=len(nx.k_core(Gsimp0,2))\n",
    "kcore28=len(nx.k_core(Gsimp0,28))\n",
    "kcorek0=len(nx.k_core(Gsimp0,k0))\n",
    "k0"
   ]
  },
  {
   "cell_type": "code",
   "execution_count": 10,
   "id": "7add593f",
   "metadata": {},
   "outputs": [
    {
     "data": {
      "text/plain": [
       "[291, 285, 31, 0]"
      ]
     },
     "execution_count": 10,
     "metadata": {},
     "output_type": "execute_result"
    }
   ],
   "source": [
    "Num_nodos_0=[kcore1,kcore2,kcore28,kcorek0]\n",
    "Num_nodos_0"
   ]
  },
  {
   "cell_type": "markdown",
   "id": "c7995846",
   "metadata": {},
   "source": [
    "####  A pesar de no ser la misma cantidad de nodos por capa, en la primera capa podemos visualizar 291 nodos y obtenemos la misma profundidad de k-cores, puesto que en el 31-core no tengo nodos por ende la profundidad es 30. "
   ]
  },
  {
   "cell_type": "markdown",
   "id": "1b537ec0",
   "metadata": {},
   "source": [
    "### Calculo el coeficiente de correlación de Pearson"
   ]
  },
  {
   "cell_type": "markdown",
   "id": "fea254e5",
   "metadata": {},
   "source": [
    "####  La asotividad mide la similitud de las conexiones en el gráfico con respecto al grado del nodo, tendremos dos opciones para calcular este coeficiente: degree_assortativity_coefficient - degree_pearson_correlation_coefficient. Puesto que son practicamente el mismo valor, solo difieren en la función potencial usaremos por simplicidad la deasortatividad directo."
   ]
  },
  {
   "cell_type": "code",
   "execution_count": 11,
   "id": "362d5b99",
   "metadata": {},
   "outputs": [
    {
     "data": {
      "text/plain": [
       "0.17747559928596435"
      ]
     },
     "execution_count": 11,
     "metadata": {},
     "output_type": "execute_result"
    }
   ],
   "source": [
    "nx.degree_pearson_correlation_coefﬁcient(nx.k_core(Gsimp0,1))"
   ]
  },
  {
   "cell_type": "code",
   "execution_count": 12,
   "id": "cefcc044",
   "metadata": {},
   "outputs": [
    {
     "data": {
      "text/plain": [
       "0.17747559928596435"
      ]
     },
     "execution_count": 12,
     "metadata": {},
     "output_type": "execute_result"
    }
   ],
   "source": [
    "nx.degree_pearson_correlation_coefﬁcient(G0)"
   ]
  },
  {
   "cell_type": "code",
   "execution_count": 13,
   "id": "e5e975d7",
   "metadata": {},
   "outputs": [
    {
     "data": {
      "text/plain": [
       "0.17747559928596435"
      ]
     },
     "execution_count": 13,
     "metadata": {},
     "output_type": "execute_result"
    }
   ],
   "source": [
    "nx.degree_pearson_correlation_coefﬁcient(Gsimp0)"
   ]
  },
  {
   "cell_type": "code",
   "execution_count": 14,
   "id": "80a2be12",
   "metadata": {},
   "outputs": [
    {
     "data": {
      "text/plain": [
       "0.17747559928596335"
      ]
     },
     "execution_count": 14,
     "metadata": {},
     "output_type": "execute_result"
    }
   ],
   "source": [
    "nx.degree_assortativity_coefficient(G0)"
   ]
  },
  {
   "cell_type": "code",
   "execution_count": 15,
   "id": "1c616661",
   "metadata": {},
   "outputs": [
    {
     "data": {
      "text/plain": [
       "0.17747559928596335"
      ]
     },
     "execution_count": 15,
     "metadata": {},
     "output_type": "execute_result"
    }
   ],
   "source": [
    "Coef_corr_0=nx.degree_assortativity_coefficient(Gsimp0)\n",
    "Coef_corr_0"
   ]
  },
  {
   "cell_type": "markdown",
   "id": "c6014f34",
   "metadata": {},
   "source": [
    "### Calculo el coeficiente de clustering"
   ]
  },
  {
   "cell_type": "code",
   "execution_count": 16,
   "id": "1afb5488",
   "metadata": {},
   "outputs": [],
   "source": [
    "C_0=nx.average_clustering(Gsimp0)"
   ]
  },
  {
   "cell_type": "markdown",
   "id": "007980dd",
   "metadata": {},
   "source": [
    "#### El valor del coeficiente de clustering, para este caso, es prácticamente igual al obtenido mediante Gephi.\n"
   ]
  },
  {
   "cell_type": "markdown",
   "id": "9e88e181",
   "metadata": {},
   "source": [
    "## Generación de 10 redes aleatorizadas"
   ]
  },
  {
   "cell_type": "markdown",
   "id": "d6d4dd4f",
   "metadata": {},
   "source": [
    "### Se generan 10 redes aleatorizadas con la misma distribución de grados"
   ]
  },
  {
   "cell_type": "code",
   "execution_count": 17,
   "id": "d86d83f4",
   "metadata": {},
   "outputs": [],
   "source": [
    "G_1 = nx.configuration_model([d for v, d in G0.degree()])\n",
    "G_2 = nx.configuration_model([d for v, d in G0.degree()])\n",
    "G_3 = nx.configuration_model([d for v, d in G0.degree()])\n",
    "G_4 = nx.configuration_model([d for v, d in G0.degree()])\n",
    "G_5 = nx.configuration_model([d for v, d in G0.degree()])\n",
    "G_6 = nx.configuration_model([d for v, d in G0.degree()])\n",
    "G_7 = nx.configuration_model([d for v, d in G0.degree()])\n",
    "G_8 = nx.configuration_model([d for v, d in G0.degree()])\n",
    "G_9 = nx.configuration_model([d for v, d in G0.degree()])\n",
    "G_10 = nx.configuration_model([d for v, d in G0.degree()])"
   ]
  },
  {
   "cell_type": "markdown",
   "id": "5a29a676",
   "metadata": {},
   "source": [
    "### Calculamos la modularidad de cada una de ellas tanto para red original como la de componente gigante"
   ]
  },
  {
   "cell_type": "code",
   "execution_count": 18,
   "id": "9afe57e1",
   "metadata": {},
   "outputs": [],
   "source": [
    "c1 = nx_comm.louvain_communities(G_1)\n",
    "c2 = nx_comm.louvain_communities(G_2)\n",
    "c3 = nx_comm.louvain_communities(G_3)\n",
    "c4 = nx_comm.louvain_communities(G_4)\n",
    "c5 = nx_comm.louvain_communities(G_5)\n",
    "c6 = nx_comm.louvain_communities(G_6)\n",
    "c7 = nx_comm.louvain_communities(G_7)\n",
    "c8 = nx_comm.louvain_communities(G_8)\n",
    "c9 = nx_comm.louvain_communities(G_9)\n",
    "c10 = nx_comm.louvain_communities(G_10)\n",
    "\n",
    "q1 = nx_comm.modularity(G_1,c1)\n",
    "q2 = nx_comm.modularity(G_2,c2)\n",
    "q3 = nx_comm.modularity(G_3,c3)\n",
    "q4 = nx_comm.modularity(G_4,c4)\n",
    "q5 = nx_comm.modularity(G_5,c5)\n",
    "q6 = nx_comm.modularity(G_6,c6)\n",
    "q7 = nx_comm.modularity(G_7,c7)\n",
    "q8 = nx_comm.modularity(G_8,c8)\n",
    "q9 = nx_comm.modularity(G_9,c9)\n",
    "q10 = nx_comm.modularity(G_10,c10)\n"
   ]
  },
  {
   "cell_type": "markdown",
   "id": "f1fa8651",
   "metadata": {},
   "source": [
    "#### Lista de nodos de la componente conexa más grande"
   ]
  },
  {
   "cell_type": "code",
   "execution_count": 19,
   "id": "dc882601",
   "metadata": {},
   "outputs": [],
   "source": [
    "giant_1 = max(nx.connected_components(G_1), key=len)\n",
    "Gsimp_1 = nx.Graph()\n",
    "for u,v,data in G_1.edges(data=True):\n",
    "    if not Gsimp_1.has_edge(u,v):\n",
    "        Gsimp_1.add_edge(u, v)"
   ]
  },
  {
   "cell_type": "code",
   "execution_count": 20,
   "id": "6b8c2b51",
   "metadata": {},
   "outputs": [],
   "source": [
    "giant_2 = max(nx.connected_components(G_2), key=len)\n",
    "Gsimp_2 = nx.Graph()\n",
    "for u,v,data in G_2.edges(data=True):\n",
    "    if not Gsimp_2.has_edge(u,v):\n",
    "        Gsimp_2.add_edge(u, v)\n"
   ]
  },
  {
   "cell_type": "code",
   "execution_count": 21,
   "id": "de0a6c94",
   "metadata": {},
   "outputs": [],
   "source": [
    "giant_3 = max(nx.connected_components(G_3), key=len)\n",
    "Gsimp_3 = nx.Graph()\n",
    "for u,v,data in G_3.edges(data=True):\n",
    "    if not Gsimp_3.has_edge(u,v):\n",
    "        Gsimp_3.add_edge(u, v)\n"
   ]
  },
  {
   "cell_type": "code",
   "execution_count": 22,
   "id": "d551f9d3",
   "metadata": {},
   "outputs": [],
   "source": [
    "giant_4 = max(nx.connected_components(G_4), key=len)\n",
    "Gsimp_4 = nx.Graph()\n",
    "for u,v,data in G_4.edges(data=True):\n",
    "    if not Gsimp_4.has_edge(u,v):\n",
    "        Gsimp_4.add_edge(u, v)\n"
   ]
  },
  {
   "cell_type": "code",
   "execution_count": 23,
   "id": "77ca43a6",
   "metadata": {},
   "outputs": [],
   "source": [
    "giant_5 = max(nx.connected_components(G_5), key=len)\n",
    "Gsimp_5 = nx.Graph()\n",
    "for u,v,data in G_5.edges(data=True):\n",
    "    if not Gsimp_5.has_edge(u,v):\n",
    "        Gsimp_5.add_edge(u, v)\n"
   ]
  },
  {
   "cell_type": "code",
   "execution_count": 24,
   "id": "61bb9163",
   "metadata": {},
   "outputs": [],
   "source": [
    "giant_6 = max(nx.connected_components(G_6), key=len)\n",
    "Gsimp_6 = nx.Graph()\n",
    "for u,v,data in G_6.edges(data=True):\n",
    "    if not Gsimp_6.has_edge(u,v):\n",
    "        Gsimp_6.add_edge(u, v)\n"
   ]
  },
  {
   "cell_type": "code",
   "execution_count": 25,
   "id": "b0ab96ea",
   "metadata": {},
   "outputs": [],
   "source": [
    "giant_7 = max(nx.connected_components(G_7), key=len)\n",
    "Gsimp_7 = nx.Graph()\n",
    "for u,v,data in G_7.edges(data=True):\n",
    "    if not Gsimp_7.has_edge(u,v):\n",
    "        Gsimp_7.add_edge(u, v)\n"
   ]
  },
  {
   "cell_type": "code",
   "execution_count": 26,
   "id": "85ddba8e",
   "metadata": {},
   "outputs": [],
   "source": [
    "giant_8 = max(nx.connected_components(G_8), key=len)\n",
    "Gsimp_8 = nx.Graph()\n",
    "for u,v,data in G_8.edges(data=True):\n",
    "    if not Gsimp_8.has_edge(u,v):\n",
    "        Gsimp_8.add_edge(u, v)\n"
   ]
  },
  {
   "cell_type": "code",
   "execution_count": 27,
   "id": "f549fd47",
   "metadata": {},
   "outputs": [],
   "source": [
    "giant_9 = max(nx.connected_components(G_9), key=len)\n",
    "Gsimp_9 = nx.Graph()\n",
    "for u,v,data in G_9.edges(data=True):\n",
    "    if not Gsimp_9.has_edge(u,v):\n",
    "        Gsimp_9.add_edge(u, v)\n"
   ]
  },
  {
   "cell_type": "code",
   "execution_count": 28,
   "id": "76b67180",
   "metadata": {},
   "outputs": [],
   "source": [
    "giant_10 = max(nx.connected_components(G_10), key=len)\n",
    "Gsimp_10 = nx.Graph()\n",
    "for u,v,data in G_10.edges(data=True):\n",
    "    if not Gsimp_10.has_edge(u,v):\n",
    "        Gsimp_10.add_edge(u, v)\n"
   ]
  },
  {
   "cell_type": "code",
   "execution_count": 29,
   "id": "d7e6e400",
   "metadata": {},
   "outputs": [],
   "source": [
    "c_1 = nx_comm.louvain_communities(Gsimp_1)\n",
    "c_2 = nx_comm.louvain_communities(Gsimp_2)\n",
    "c_3 = nx_comm.louvain_communities(Gsimp_3)\n",
    "c_4 = nx_comm.louvain_communities(Gsimp_4)\n",
    "c_5 = nx_comm.louvain_communities(Gsimp_5)\n",
    "c_6 = nx_comm.louvain_communities(Gsimp_6)\n",
    "c_7 = nx_comm.louvain_communities(Gsimp_7)\n",
    "c_8 = nx_comm.louvain_communities(Gsimp_8)\n",
    "c_9 = nx_comm.louvain_communities(Gsimp_9)\n",
    "c_10 = nx_comm.louvain_communities(Gsimp_10)\n",
    "\n",
    "q_1 = nx_comm.modularity(Gsimp_1,c_1)\n",
    "q_2 = nx_comm.modularity(Gsimp_2,c_2)\n",
    "q_3 = nx_comm.modularity(Gsimp_3,c_3)\n",
    "q_4 = nx_comm.modularity(Gsimp_4,c_4)\n",
    "q_5 = nx_comm.modularity(Gsimp_5,c_5)\n",
    "q_6 = nx_comm.modularity(Gsimp_6,c_6)\n",
    "q_7 = nx_comm.modularity(Gsimp_7,c_7)\n",
    "q_8 = nx_comm.modularity(Gsimp_8,c_8)\n",
    "q_9 = nx_comm.modularity(Gsimp_9,c_9)\n",
    "q_10 = nx_comm.modularity(Gsimp_10,c_10)\n"
   ]
  },
  {
   "cell_type": "markdown",
   "id": "10192cf0",
   "metadata": {},
   "source": [
    "### Calculamos el coeficiente de correlación de Newman"
   ]
  },
  {
   "cell_type": "markdown",
   "id": "d1f32b67",
   "metadata": {},
   "source": [
    "#### Red completa"
   ]
  },
  {
   "cell_type": "code",
   "execution_count": 30,
   "id": "a6113131",
   "metadata": {},
   "outputs": [],
   "source": [
    "Coef_new_1=nx.degree_assortativity_coefficient(G_1)\n",
    "Coef_new_2=nx.degree_assortativity_coefficient(G_2)\n",
    "Coef_new_3=nx.degree_assortativity_coefficient(G_3)\n",
    "Coef_new_4=nx.degree_assortativity_coefficient(G_4)\n",
    "Coef_new_5=nx.degree_assortativity_coefficient(G_5)\n",
    "Coef_new_6=nx.degree_assortativity_coefficient(G_6)\n",
    "Coef_new_7=nx.degree_assortativity_coefficient(G_7)\n",
    "Coef_new_8=nx.degree_assortativity_coefficient(G_8)\n",
    "Coef_new_9=nx.degree_assortativity_coefficient(G_9)\n",
    "Coef_new_10=nx.degree_assortativity_coefficient(G_10)"
   ]
  },
  {
   "cell_type": "markdown",
   "id": "da3b1c16",
   "metadata": {},
   "source": [
    "#### Red componente gigante"
   ]
  },
  {
   "cell_type": "code",
   "execution_count": 31,
   "id": "1dcc868b",
   "metadata": {},
   "outputs": [],
   "source": [
    "Coef_corr_1=nx.degree_assortativity_coefficient(Gsimp_1)\n",
    "Coef_corr_2=nx.degree_assortativity_coefficient(Gsimp_2)\n",
    "Coef_corr_3=nx.degree_assortativity_coefficient(Gsimp_3)\n",
    "Coef_corr_4=nx.degree_assortativity_coefficient(Gsimp_4)\n",
    "Coef_corr_5=nx.degree_assortativity_coefficient(Gsimp_5)\n",
    "Coef_corr_6=nx.degree_assortativity_coefficient(Gsimp_6)\n",
    "Coef_corr_7=nx.degree_assortativity_coefficient(Gsimp_7)\n",
    "Coef_corr_8=nx.degree_assortativity_coefficient(Gsimp_8)\n",
    "Coef_corr_9=nx.degree_assortativity_coefficient(Gsimp_9)\n",
    "Coef_corr_10=nx.degree_assortativity_coefficient(Gsimp_10)"
   ]
  },
  {
   "cell_type": "markdown",
   "id": "25141a15",
   "metadata": {},
   "source": [
    "### Calculamos el coeficiente de clustering local"
   ]
  },
  {
   "cell_type": "code",
   "execution_count": 32,
   "id": "9c689d67",
   "metadata": {},
   "outputs": [],
   "source": [
    "C_1=nx.average_clustering(Gsimp_1)\n",
    "C_2=nx.average_clustering(Gsimp_2)\n",
    "C_3=nx.average_clustering(Gsimp_3) \n",
    "C_4=nx.average_clustering(Gsimp_4)\n",
    "C_5=nx.average_clustering(Gsimp_5)\n",
    "C_6=nx.average_clustering(Gsimp_6)\n",
    "C_7=nx.average_clustering(Gsimp_7)\n",
    "C_8=nx.average_clustering(Gsimp_8) \n",
    "C_9=nx.average_clustering(Gsimp_9)\n",
    "C_10=nx.average_clustering(Gsimp_10)"
   ]
  },
  {
   "cell_type": "code",
   "execution_count": 33,
   "id": "13afd217",
   "metadata": {},
   "outputs": [],
   "source": [
    "#Paso para no generar error en la obtencion k-cores\n",
    "Gsimp_1.remove_edges_from(nx.selfloop_edges(Gsimp_1))\n",
    "Gsimp_2.remove_edges_from(nx.selfloop_edges(Gsimp_2))\n",
    "Gsimp_3.remove_edges_from(nx.selfloop_edges(Gsimp_3))\n",
    "Gsimp_4.remove_edges_from(nx.selfloop_edges(Gsimp_4))\n",
    "Gsimp_5.remove_edges_from(nx.selfloop_edges(Gsimp_5))\n",
    "Gsimp_6.remove_edges_from(nx.selfloop_edges(Gsimp_6))\n",
    "Gsimp_7.remove_edges_from(nx.selfloop_edges(Gsimp_7))\n",
    "Gsimp_8.remove_edges_from(nx.selfloop_edges(Gsimp_8))\n",
    "Gsimp_9.remove_edges_from(nx.selfloop_edges(Gsimp_9))\n",
    "Gsimp_10.remove_edges_from(nx.selfloop_edges(Gsimp_10))"
   ]
  },
  {
   "cell_type": "markdown",
   "id": "f0fc05c7",
   "metadata": {},
   "source": [
    "### Calculamos la profundidad de k-cores"
   ]
  },
  {
   "cell_type": "code",
   "execution_count": 34,
   "id": "f35764a8",
   "metadata": {},
   "outputs": [],
   "source": [
    "kcore_1=len(nx.k_core(Gsimp_1))\n",
    "kcore_2=len(nx.k_core(Gsimp_2))\n",
    "kcore_3=len(nx.k_core(Gsimp_3))\n",
    "kcore_4=len(nx.k_core(Gsimp_4))\n",
    "kcore_5=len(nx.k_core(Gsimp_5))\n",
    "kcore_6=len(nx.k_core(Gsimp_6))\n",
    "kcore_7=len(nx.k_core(Gsimp_7))\n",
    "kcore_8=len(nx.k_core(Gsimp_8))\n",
    "kcore_9=len(nx.k_core(Gsimp_9))\n",
    "kcore_10=len(nx.k_core(Gsimp_10))\n",
    "\n"
   ]
  },
  {
   "cell_type": "markdown",
   "id": "b99d751e",
   "metadata": {},
   "source": [
    "## Generar Tabla de contenido:"
   ]
  },
  {
   "cell_type": "code",
   "execution_count": 35,
   "id": "92214d46",
   "metadata": {},
   "outputs": [
    {
     "name": "stdout",
     "output_type": "stream",
     "text": [
      "    Modularidad_Original  Modularidad_Gigante  Coef_Newman  Coef_Clustering  \\\n",
      "0               0.347895             0.356771     0.177476         0.682333   \n",
      "1               0.175288             0.174461    -0.032097         0.193257   \n",
      "2               0.172907             0.169600    -0.041811         0.190781   \n",
      "3               0.174376             0.168735    -0.047700         0.190120   \n",
      "4               0.169908             0.172852    -0.070753         0.188190   \n",
      "5               0.175657             0.169064    -0.045852         0.178994   \n",
      "6               0.178212             0.171336    -0.039512         0.186234   \n",
      "7               0.167080             0.165021    -0.067328         0.192113   \n",
      "8               0.176309             0.170355    -0.071062         0.190527   \n",
      "9               0.180199             0.168927    -0.030639         0.190058   \n",
      "10              0.171108             0.168575    -0.054839         0.189556   \n",
      "\n",
      "    Profundidad_k_core  \n",
      "0                   31  \n",
      "1                   57  \n",
      "2                   76  \n",
      "3                   68  \n",
      "4                   68  \n",
      "5                   65  \n",
      "6                   49  \n",
      "7                   60  \n",
      "8                   59  \n",
      "9                   51  \n",
      "10                  61  \n"
     ]
    }
   ],
   "source": [
    "Modularidad_Original=[q0,q1,q2,q3,q4,q5,q6,q7,q8,q9,q10]\n",
    "Modularidad_Gigante=[q00,q_1,q_2,q_3,q_4,q_5,q_6,q_7,q_8,q_9,q_10]\n",
    "Coef_Newman=[Coef_corr_0,Coef_corr_1,Coef_corr_2,Coef_corr_3,Coef_corr_4,Coef_corr_5,Coef_corr_6,Coef_corr_7,Coef_corr_8,Coef_corr_9,Coef_corr_10]\n",
    "Coef_Clustering=[C_0,C_1,C_2,C_3,C_4,C_5,C_6,C_7,C_8,C_9,C_10]\n",
    "Profundidad_k_core=[k0,kcore_1,kcore_2,kcore_3,kcore_4,kcore_5,kcore_6,kcore_7,kcore_8,kcore_9,kcore_10]\n",
    "df['Modularidad_Original'] = Modularidad_Original\n",
    "df['Modularidad_Gigante'] = Modularidad_Gigante\n",
    "df['Coef_Newman'] = Coef_Newman\n",
    "df['Coef_Clustering'] = Coef_Clustering\n",
    "df['Profundidad_k_core'] = Profundidad_k_core\n",
    "\n",
    "print(df)"
   ]
  },
  {
   "cell_type": "code",
   "execution_count": 36,
   "id": "6c6110b7",
   "metadata": {},
   "outputs": [],
   "source": [
    "file_name = 'Redes_aleatorizadas.xlsx'\n",
    "df.to_excel(file_name)\n"
   ]
  }
 ],
 "metadata": {
  "kernelspec": {
   "display_name": "Python 3 (ipykernel)",
   "language": "python",
   "name": "python3"
  },
  "language_info": {
   "codemirror_mode": {
    "name": "ipython",
    "version": 3
   },
   "file_extension": ".py",
   "mimetype": "text/x-python",
   "name": "python",
   "nbconvert_exporter": "python",
   "pygments_lexer": "ipython3",
   "version": "3.8.13"
  }
 },
 "nbformat": 4,
 "nbformat_minor": 5
}
