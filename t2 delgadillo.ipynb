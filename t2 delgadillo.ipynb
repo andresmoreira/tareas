{
  "nbformat": 4,
  "nbformat_minor": 5,
  "metadata": {
    "kernelspec": {
      "display_name": "Python 3",
      "language": "python",
      "name": "python3"
    },
    "language_info": {
      "codemirror_mode": {
        "name": "ipython",
        "version": 3
      },
      "file_extension": ".py",
      "mimetype": "text/x-python",
      "name": "python",
      "nbconvert_exporter": "python",
      "pygments_lexer": "ipython3",
      "version": "3.8.8"
    },
    "colab": {
      "name": "Tarea 2 redes complejas angela.ipynb",
      "provenance": [],
      "collapsed_sections": []
    }
  },
  "cells": [
    {
      "cell_type": "markdown",
      "metadata": {
        "id": "7abee649"
      },
      "source": [
        "# Tarea Nº2 de Redes Complejas.\n",
        "\n",
        "## Nombres: Angela Martínez / Ignacio Delgadillo."
      ],
      "id": "7abee649"
    },
    {
      "cell_type": "code",
      "metadata": {
        "id": "618a0ebd"
      },
      "source": [
        "import pandas as pd\n",
        "import networkx as nw\n",
        "import graphviz as gr\n",
        "import matplotlib.pyplot as plt\n",
        "import numpy as np\n",
        "\n",
        "\n",
        "\n"
      ],
      "id": "618a0ebd",
      "execution_count": null,
      "outputs": []
    },
    {
      "cell_type": "markdown",
      "metadata": {
        "id": "5362be14"
      },
      "source": [
        "### Pregunta 2."
      ],
      "id": "5362be14"
    },
    {
      "cell_type": "markdown",
      "metadata": {
        "id": "1201ba0d"
      },
      "source": [
        "Creamos el grafo."
      ],
      "id": "1201ba0d"
    },
    {
      "cell_type": "code",
      "metadata": {
        "id": "59363262"
      },
      "source": [
        "nodos = [1,2,3,4,5,6,7,8]\n",
        "aristas = [(1,2),(1,3),(1,4),(2,3),(2,4),(2,5),(3,4),(4,8),(5,6),(5,7),(5,8),(6,7),(6,8),(7,8)]\n",
        "G = nw.Graph()\n",
        "G.add_nodes_from(nodos)\n",
        "G.add_edges_from(aristas)\n",
        "L = nw.laplacian_matrix(G)\n",
        "L_S = nw.laplacian_spectrum(G)\n",
        "F_V= nw.fiedler_vector(G, weight='weight', normalized=False, tol=1e-08, method='tracemin_pcg', seed=None)"
      ],
      "id": "59363262",
      "execution_count": null,
      "outputs": []
    },
    {
      "cell_type": "markdown",
      "metadata": {
        "id": "b2362c8f"
      },
      "source": [
        "Su matriz Laplaciana es:"
      ],
      "id": "b2362c8f"
    },
    {
      "cell_type": "code",
      "metadata": {
        "id": "3dcaad2a",
        "outputId": "579e588b-b0fa-47aa-eb4b-7c0535484d23"
      },
      "source": [
        "print(L)"
      ],
      "id": "3dcaad2a",
      "execution_count": null,
      "outputs": [
        {
          "output_type": "stream",
          "text": [
            "  (0, 0)\t3\n",
            "  (0, 1)\t-1\n",
            "  (0, 2)\t-1\n",
            "  (0, 3)\t-1\n",
            "  (1, 0)\t-1\n",
            "  (1, 1)\t4\n",
            "  (1, 2)\t-1\n",
            "  (1, 3)\t-1\n",
            "  (1, 4)\t-1\n",
            "  (2, 0)\t-1\n",
            "  (2, 1)\t-1\n",
            "  (2, 2)\t3\n",
            "  (2, 3)\t-1\n",
            "  (3, 0)\t-1\n",
            "  (3, 1)\t-1\n",
            "  (3, 2)\t-1\n",
            "  (3, 3)\t4\n",
            "  (3, 7)\t-1\n",
            "  (4, 1)\t-1\n",
            "  (4, 4)\t4\n",
            "  (4, 5)\t-1\n",
            "  (4, 6)\t-1\n",
            "  (4, 7)\t-1\n",
            "  (5, 4)\t-1\n",
            "  (5, 5)\t3\n",
            "  (5, 6)\t-1\n",
            "  (5, 7)\t-1\n",
            "  (6, 4)\t-1\n",
            "  (6, 5)\t-1\n",
            "  (6, 6)\t3\n",
            "  (6, 7)\t-1\n",
            "  (7, 3)\t-1\n",
            "  (7, 4)\t-1\n",
            "  (7, 5)\t-1\n",
            "  (7, 6)\t-1\n",
            "  (7, 7)\t4\n"
          ],
          "name": "stdout"
        }
      ]
    },
    {
      "cell_type": "markdown",
      "metadata": {
        "id": "f3f1a303"
      },
      "source": [
        "El espectro laplaciano con el valor de Fiedler"
      ],
      "id": "f3f1a303"
    },
    {
      "cell_type": "code",
      "metadata": {
        "id": "275943da",
        "outputId": "c4fd7901-6172-438a-c0a8-f028283592f6"
      },
      "source": [
        "print(L_S)"
      ],
      "id": "275943da",
      "execution_count": null,
      "outputs": [
        {
          "output_type": "stream",
          "text": [
            "[3.33066907e-16 7.63932023e-01 4.00000000e+00 4.00000000e+00\n",
            " 4.00000000e+00 4.00000000e+00 5.23606798e+00 6.00000000e+00]\n"
          ],
          "name": "stdout"
        }
      ]
    },
    {
      "cell_type": "markdown",
      "metadata": {
        "id": "c6310919"
      },
      "source": [
        "Y su vector de Fiedler:"
      ],
      "id": "c6310919"
    },
    {
      "cell_type": "code",
      "metadata": {
        "id": "2a3c24a4",
        "outputId": "a3d8894a-dfb5-4bf5-b948-3a9887cfce47"
      },
      "source": [
        "print(F_V)"
      ],
      "id": "2a3c24a4",
      "execution_count": null,
      "outputs": [
        {
          "output_type": "stream",
          "text": [
            "[-0.42532541 -0.26286556 -0.4253254  -0.26286556  0.26286556  0.4253254\n",
            "  0.42532541  0.26286556]\n"
          ],
          "name": "stdout"
        }
      ]
    },
    {
      "cell_type": "markdown",
      "metadata": {
        "id": "67a750aa"
      },
      "source": [
        "Por último, una gráfica de la red."
      ],
      "id": "67a750aa"
    },
    {
      "cell_type": "code",
      "metadata": {
        "id": "643f5659",
        "outputId": "29ca7b4f-dddb-4b32-db94-a52e66c8fc38"
      },
      "source": [
        "A = nw.nx_agraph.to_agraph(G)\n",
        "A.layout('dot')\n",
        "gr.Source(A.to_string())"
      ],
      "id": "643f5659",
      "execution_count": null,
      "outputs": [
        {
          "output_type": "execute_result",
          "data": {
            "image/svg+xml": "<?xml version=\"1.0\" encoding=\"UTF-8\" standalone=\"no\"?>\n<!DOCTYPE svg PUBLIC \"-//W3C//DTD SVG 1.1//EN\"\n \"http://www.w3.org/Graphics/SVG/1.1/DTD/svg11.dtd\">\n<!-- Generated by graphviz version 2.47.2 (20210527.0053)\n -->\n<!-- Pages: 1 -->\n<svg width=\"198pt\" height=\"404pt\"\n viewBox=\"0.00 0.00 198.26 404.00\" xmlns=\"http://www.w3.org/2000/svg\" xmlns:xlink=\"http://www.w3.org/1999/xlink\">\n<g id=\"graph0\" class=\"graph\" transform=\"scale(1 1) rotate(0) translate(4 400)\">\n<polygon fill=\"white\" stroke=\"transparent\" points=\"-4,4 -4,-400 194.26,-400 194.26,4 -4,4\"/>\n<!-- 1 -->\n<g id=\"node1\" class=\"node\">\n<title>1</title>\n<ellipse fill=\"none\" stroke=\"black\" cx=\"149.28\" cy=\"-378\" rx=\"27\" ry=\"18\"/>\n<text text-anchor=\"middle\" x=\"149.28\" y=\"-374.3\" font-family=\"Times,serif\" font-size=\"14.00\">1</text>\n</g>\n<!-- 2 -->\n<g id=\"node2\" class=\"node\">\n<title>2</title>\n<ellipse fill=\"none\" stroke=\"black\" cx=\"94.28\" cy=\"-306\" rx=\"27\" ry=\"18\"/>\n<text text-anchor=\"middle\" x=\"94.28\" y=\"-302.3\" font-family=\"Times,serif\" font-size=\"14.00\">2</text>\n</g>\n<!-- 1&#45;&#45;2 -->\n<g id=\"edge1\" class=\"edge\">\n<title>1&#45;&#45;2</title>\n<path fill=\"none\" stroke=\"black\" d=\"M137.34,-361.81C128.12,-350.07 115.41,-333.89 106.19,-322.16\"/>\n</g>\n<!-- 3 -->\n<g id=\"node3\" class=\"node\">\n<title>3</title>\n<ellipse fill=\"none\" stroke=\"black\" cx=\"149.28\" cy=\"-234\" rx=\"27\" ry=\"18\"/>\n<text text-anchor=\"middle\" x=\"149.28\" y=\"-230.3\" font-family=\"Times,serif\" font-size=\"14.00\">3</text>\n</g>\n<!-- 1&#45;&#45;3 -->\n<g id=\"edge2\" class=\"edge\">\n<title>1&#45;&#45;3</title>\n<path fill=\"none\" stroke=\"black\" d=\"M149.28,-359.87C149.28,-332.58 149.28,-279.52 149.28,-252.19\"/>\n</g>\n<!-- 4 -->\n<g id=\"node4\" class=\"node\">\n<title>4</title>\n<ellipse fill=\"none\" stroke=\"black\" cx=\"149.28\" cy=\"-162\" rx=\"27\" ry=\"18\"/>\n<text text-anchor=\"middle\" x=\"149.28\" y=\"-158.3\" font-family=\"Times,serif\" font-size=\"14.00\">4</text>\n</g>\n<!-- 1&#45;&#45;4 -->\n<g id=\"edge3\" class=\"edge\">\n<title>1&#45;&#45;4</title>\n<path fill=\"none\" stroke=\"black\" d=\"M158.41,-360.79C173.69,-331.51 201.27,-268.02 185.28,-216 180.9,-201.75 171.24,-187.9 163.03,-177.93\"/>\n</g>\n<!-- 2&#45;&#45;3 -->\n<g id=\"edge4\" class=\"edge\">\n<title>2&#45;&#45;3</title>\n<path fill=\"none\" stroke=\"black\" d=\"M106.21,-289.81C115.44,-278.07 128.15,-261.89 137.37,-250.16\"/>\n</g>\n<!-- 2&#45;&#45;4 -->\n<g id=\"edge5\" class=\"edge\">\n<title>2&#45;&#45;4</title>\n<path fill=\"none\" stroke=\"black\" d=\"M95.93,-288.01C98.17,-269.65 103.1,-239.83 113.28,-216 119.13,-202.29 128.72,-188.41 136.53,-178.3\"/>\n</g>\n<!-- 5 -->\n<g id=\"node5\" class=\"node\">\n<title>5</title>\n<ellipse fill=\"none\" stroke=\"black\" cx=\"39.28\" cy=\"-234\" rx=\"27\" ry=\"18\"/>\n<text text-anchor=\"middle\" x=\"39.28\" y=\"-230.3\" font-family=\"Times,serif\" font-size=\"14.00\">5</text>\n</g>\n<!-- 2&#45;&#45;5 -->\n<g id=\"edge6\" class=\"edge\">\n<title>2&#45;&#45;5</title>\n<path fill=\"none\" stroke=\"black\" d=\"M82.34,-289.81C73.12,-278.07 60.41,-261.89 51.19,-250.16\"/>\n</g>\n<!-- 3&#45;&#45;4 -->\n<g id=\"edge7\" class=\"edge\">\n<title>3&#45;&#45;4</title>\n<path fill=\"none\" stroke=\"black\" d=\"M149.28,-215.7C149.28,-204.85 149.28,-190.92 149.28,-180.1\"/>\n</g>\n<!-- 8 -->\n<g id=\"node6\" class=\"node\">\n<title>8</title>\n<ellipse fill=\"none\" stroke=\"black\" cx=\"66.28\" cy=\"-18\" rx=\"27\" ry=\"18\"/>\n<text text-anchor=\"middle\" x=\"66.28\" y=\"-14.3\" font-family=\"Times,serif\" font-size=\"14.00\">8</text>\n</g>\n<!-- 4&#45;&#45;8 -->\n<g id=\"edge8\" class=\"edge\">\n<title>4&#45;&#45;8</title>\n<path fill=\"none\" stroke=\"black\" d=\"M148.9,-143.71C147.77,-124.82 143.79,-94.3 130.28,-72 119.51,-54.23 100.61,-39.68 86.13,-30.35\"/>\n</g>\n<!-- 5&#45;&#45;8 -->\n<g id=\"edge9\" class=\"edge\">\n<title>5&#45;&#45;8</title>\n<path fill=\"none\" stroke=\"black\" d=\"M25.53,-218.07C17.32,-208.1 7.66,-194.25 3.28,-180 -1.43,-164.71 -0.42,-159.57 3.28,-144 13.34,-101.68 40.13,-57.43 55.34,-34.64\"/>\n</g>\n<!-- 6 -->\n<g id=\"node7\" class=\"node\">\n<title>6</title>\n<ellipse fill=\"none\" stroke=\"black\" cx=\"39.28\" cy=\"-162\" rx=\"27\" ry=\"18\"/>\n<text text-anchor=\"middle\" x=\"39.28\" y=\"-158.3\" font-family=\"Times,serif\" font-size=\"14.00\">6</text>\n</g>\n<!-- 5&#45;&#45;6 -->\n<g id=\"edge10\" class=\"edge\">\n<title>5&#45;&#45;6</title>\n<path fill=\"none\" stroke=\"black\" d=\"M39.28,-215.7C39.28,-204.85 39.28,-190.92 39.28,-180.1\"/>\n</g>\n<!-- 7 -->\n<g id=\"node8\" class=\"node\">\n<title>7</title>\n<ellipse fill=\"none\" stroke=\"black\" cx=\"94.28\" cy=\"-90\" rx=\"27\" ry=\"18\"/>\n<text text-anchor=\"middle\" x=\"94.28\" y=\"-86.3\" font-family=\"Times,serif\" font-size=\"14.00\">7</text>\n</g>\n<!-- 5&#45;&#45;7 -->\n<g id=\"edge11\" class=\"edge\">\n<title>5&#45;&#45;7</title>\n<path fill=\"none\" stroke=\"black\" d=\"M52.02,-217.7C59.84,-207.59 69.42,-193.71 75.28,-180 85.45,-156.17 90.39,-126.35 92.62,-107.99\"/>\n</g>\n<!-- 6&#45;&#45;8 -->\n<g id=\"edge12\" class=\"edge\">\n<title>6&#45;&#45;8</title>\n<path fill=\"none\" stroke=\"black\" d=\"M42.53,-143.87C47.72,-116.58 57.81,-63.52 63.01,-36.19\"/>\n</g>\n<!-- 6&#45;&#45;7 -->\n<g id=\"edge13\" class=\"edge\">\n<title>6&#45;&#45;7</title>\n<path fill=\"none\" stroke=\"black\" d=\"M51.21,-145.81C60.44,-134.07 73.15,-117.89 82.37,-106.16\"/>\n</g>\n<!-- 7&#45;&#45;8 -->\n<g id=\"edge14\" class=\"edge\">\n<title>7&#45;&#45;8</title>\n<path fill=\"none\" stroke=\"black\" d=\"M87.64,-72.41C83.18,-61.25 77.32,-46.6 72.86,-35.47\"/>\n</g>\n</g>\n</svg>\n",
            "text/plain": [
              "<graphviz.files.Source at 0x7fc94c889d60>"
            ]
          },
          "metadata": {
            "tags": []
          },
          "execution_count": 6
        }
      ]
    },
    {
      "cell_type": "code",
      "metadata": {
        "colab": {
          "base_uri": "https://localhost:8080/"
        },
        "id": "7cf776c0",
        "outputId": "0c15806f-efa5-45cd-9e97-96248e71a5e1"
      },
      "source": [
        "\n",
        "import pandas as pd\n",
        "import networkx as nw\n",
        "import graphviz as gr\n",
        "import matplotlib.pyplot as plt\n",
        "import numpy as np\n",
        "\n",
        "Grafos=['A','B','C','D','E','F','G','H','I','J']\n",
        "i=0\n",
        "while i<10:\n",
        "    print(\"Red \"+Grafos[i])\n",
        "    edges_random = [(np.random.randint(0, 985),np.random.randint(0,985)) for i in range(16687)]\n",
        "    nodos=list(range(0,985))\n",
        "    Grafos[i] = nw.Graph()\n",
        "    Grafos[i].add_edges_from(edges_random)\n",
        "    Grafos[i].add_nodes_from(nodos)\n",
        "    lista_grado_nodos=list(Grafos[i].degree(nodos))\n",
        "    \n",
        "    def Sort_Tuple(tup):   \n",
        "        # getting length of list of tuples\n",
        "        lst = len(tup) \n",
        "        for i in range(0, lst): \n",
        "            for j in range(0, lst-i-1): \n",
        "                if (tup[j][1] > tup[j + 1][1]): \n",
        "                    temp = tup[j] \n",
        "                    tup[j]= tup[j + 1] \n",
        "                    tup[j + 1]= temp \n",
        "        return tup \n",
        "    degree_order= Sort_Tuple(lista_grado_nodos)\n",
        "    second = [a_tuple[1] for a_tuple in degree_order]\n",
        "    prom= sum(second)/985\n",
        "    Grafos[i].remove_edges_from(nw.selfloop_edges(Grafos[i]))\n",
        "    subGrafo= nw.algorithms.core.k_shell(Grafos[i], k=None, core_number=None)\n",
        "    numero_de_nodos=nw.classes.function.number_of_nodes(subGrafo)\n",
        "    kcore= nw.core_number(Grafos[i])\n",
        "    maxkcore=max(kcore.values())\n",
        "    FruchRei=nw.fruchterman_reingold_layout(Grafos[i], dim=2, k=None, pos=None, fixed=None, iterations=50, weight='weight', scale=1.0, center=None)\n",
        "    comunidades=nw.algorithms.community.modularity_max.greedy_modularity_communities(Grafos[i], weight=None)\n",
        "    coef_assor=nw.algorithms.assortativity.degree_assortativity_coefficient(Grafos[i], x='out', y='in', weight=None, nodes=None)\n",
        "    Q=nw.algorithms.community.quality.modularity(Grafos[i], list(comunidades), weight='weight')\n",
        "    print(\"Coeficiente de Modularidad Q : \"+str(Q))\n",
        "    print(\"Coeficiente de Asortatividad : \"+str(coef_assor))\n",
        "    print(\"Cantidad de comunidades : \"+str(len(list(comunidades))))\n",
        "    print(\"Numero de nodos K_Shell : \"+str(numero_de_nodos))\n",
        "    print(\"K_core : \"+str(maxkcore))\n",
        "    print(\"Grado promedio de Grafo : \"+str(prom))\n",
        "    i=i+1\n",
        "\n",
        "\n"
      ],
      "id": "7cf776c0",
      "execution_count": 14,
      "outputs": [
        {
          "output_type": "stream",
          "text": [
            "Red A\n",
            "Coeficiente de Modularidad Q:0.13971024265441212\n",
            "Coeficiente de Asortatividad :0.002001185940406517\n",
            "Cantidad de comunidades : 4\n",
            "Numero de nodos K_Shell :932\n",
            "K_core :24\n",
            "Grado promedio de Grafo :33.32791878172589\n",
            "Red B\n",
            "Coeficiente de Modularidad Q:0.1361422013160358\n",
            "Coeficiente de Asortatividad :0.0023214276011445877\n",
            "Cantidad de comunidades : 5\n",
            "Numero de nodos K_Shell :927\n",
            "K_core :24\n",
            "Grado promedio de Grafo :33.303553299492386\n",
            "Red C\n",
            "Coeficiente de Modularidad Q:0.13869805577868255\n",
            "Coeficiente de Asortatividad :-0.0019434294269876848\n",
            "Cantidad de comunidades : 5\n",
            "Numero de nodos K_Shell :905\n",
            "K_core :24\n",
            "Grado promedio de Grafo :33.31167512690355\n",
            "Red D\n",
            "Coeficiente de Modularidad Q:0.13811751134482136\n",
            "Coeficiente de Asortatividad :-0.006973767216805807\n",
            "Cantidad de comunidades : 5\n",
            "Numero de nodos K_Shell :895\n",
            "K_core :25\n",
            "Grado promedio de Grafo :33.36040609137056\n",
            "Red E\n",
            "Coeficiente de Modularidad Q:0.13746708456683865\n",
            "Coeficiente de Asortatividad :-0.019554587502707083\n",
            "Cantidad de comunidades : 4\n",
            "Numero de nodos K_Shell :925\n",
            "K_core :24\n",
            "Grado promedio de Grafo :33.313705583756345\n",
            "Red F\n",
            "Coeficiente de Modularidad Q:0.1393157733544426\n",
            "Coeficiente de Asortatividad :-0.0017856693602102374\n",
            "Cantidad de comunidades : 4\n",
            "Numero de nodos K_Shell :898\n",
            "K_core :24\n",
            "Grado promedio de Grafo :33.25482233502538\n",
            "Red G\n",
            "Coeficiente de Modularidad Q:0.1395895672350863\n",
            "Coeficiente de Asortatividad :0.006866049216845775\n",
            "Cantidad de comunidades : 5\n",
            "Numero de nodos K_Shell :931\n",
            "K_core :24\n",
            "Grado promedio de Grafo :33.26903553299493\n",
            "Red H\n",
            "Coeficiente de Modularidad Q:0.13879387181127112\n",
            "Coeficiente de Asortatividad :0.009152402206418235\n",
            "Cantidad de comunidades : 4\n",
            "Numero de nodos K_Shell :918\n",
            "K_core :24\n",
            "Grado promedio de Grafo :33.30761421319797\n",
            "Red I\n",
            "Coeficiente de Modularidad Q:0.13823717134867772\n",
            "Coeficiente de Asortatividad :0.009583864323546283\n",
            "Cantidad de comunidades : 5\n",
            "Numero de nodos K_Shell :924\n",
            "K_core :24\n",
            "Grado promedio de Grafo :33.246700507614214\n",
            "Red J\n",
            "Coeficiente de Modularidad Q:0.13915990494062322\n",
            "Coeficiente de Asortatividad :-0.00994309289087003\n",
            "Cantidad de comunidades : 4\n",
            "Numero de nodos K_Shell :932\n",
            "K_core :24\n",
            "Grado promedio de Grafo :33.31167512690355\n"
          ],
          "name": "stdout"
        }
      ]
    },
    {
      "cell_type": "markdown",
      "metadata": {
        "id": "20c66cc2"
      },
      "source": [
        ""
      ],
      "id": "20c66cc2"
    },
    {
      "cell_type": "code",
      "metadata": {
        "id": "0f19c176"
      },
      "source": [
        ""
      ],
      "id": "0f19c176",
      "execution_count": 15,
      "outputs": []
    }
  ]
}